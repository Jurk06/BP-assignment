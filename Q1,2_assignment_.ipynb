{
  "nbformat": 4,
  "nbformat_minor": 0,
  "metadata": {
    "colab": {
      "name": "Q1,2 assignment .ipynb",
      "provenance": [],
      "collapsed_sections": []
    },
    "kernelspec": {
      "name": "python3",
      "display_name": "Python 3"
    },
    "language_info": {
      "name": "python"
    }
  },
  "cells": [
    {
      "cell_type": "code",
      "source": [
        "pip install pingouin"
      ],
      "metadata": {
        "colab": {
          "base_uri": "https://localhost:8080/",
          "height": 1000
        },
        "id": "d1OiL92c81aY",
        "outputId": "a19e6c66-c112-4d53-e52f-66e88cd7c00b"
      },
      "execution_count": null,
      "outputs": [
        {
          "output_type": "stream",
          "name": "stdout",
          "text": [
            "Collecting pingouin\n",
            "  Downloading pingouin-0.5.0.tar.gz (182 kB)\n",
            "\u001b[?25l\r\u001b[K     |█▉                              | 10 kB 22.5 MB/s eta 0:00:01\r\u001b[K     |███▋                            | 20 kB 27.1 MB/s eta 0:00:01\r\u001b[K     |█████▍                          | 30 kB 13.5 MB/s eta 0:00:01\r\u001b[K     |███████▏                        | 40 kB 10.9 MB/s eta 0:00:01\r\u001b[K     |█████████                       | 51 kB 7.7 MB/s eta 0:00:01\r\u001b[K     |██████████▊                     | 61 kB 8.2 MB/s eta 0:00:01\r\u001b[K     |████████████▌                   | 71 kB 6.6 MB/s eta 0:00:01\r\u001b[K     |██████████████▍                 | 81 kB 7.2 MB/s eta 0:00:01\r\u001b[K     |████████████████▏               | 92 kB 6.4 MB/s eta 0:00:01\r\u001b[K     |██████████████████              | 102 kB 6.9 MB/s eta 0:00:01\r\u001b[K     |███████████████████▊            | 112 kB 6.9 MB/s eta 0:00:01\r\u001b[K     |█████████████████████▌          | 122 kB 6.9 MB/s eta 0:00:01\r\u001b[K     |███████████████████████▎        | 133 kB 6.9 MB/s eta 0:00:01\r\u001b[K     |█████████████████████████       | 143 kB 6.9 MB/s eta 0:00:01\r\u001b[K     |██████████████████████████▉     | 153 kB 6.9 MB/s eta 0:00:01\r\u001b[K     |████████████████████████████▊   | 163 kB 6.9 MB/s eta 0:00:01\r\u001b[K     |██████████████████████████████▌ | 174 kB 6.9 MB/s eta 0:00:01\r\u001b[K     |████████████████████████████████| 182 kB 6.9 MB/s \n",
            "\u001b[?25hRequirement already satisfied: numpy>=1.19 in /usr/local/lib/python3.7/dist-packages (from pingouin) (1.19.5)\n",
            "Collecting scipy>=1.7\n",
            "  Downloading scipy-1.7.3-cp37-cp37m-manylinux_2_12_x86_64.manylinux2010_x86_64.whl (38.1 MB)\n",
            "\u001b[K     |████████████████████████████████| 38.1 MB 1.3 MB/s \n",
            "\u001b[?25hRequirement already satisfied: pandas>=1.0 in /usr/local/lib/python3.7/dist-packages (from pingouin) (1.1.5)\n",
            "Requirement already satisfied: matplotlib>=3.0.2 in /usr/local/lib/python3.7/dist-packages (from pingouin) (3.2.2)\n",
            "Requirement already satisfied: seaborn>=0.9.0 in /usr/local/lib/python3.7/dist-packages (from pingouin) (0.11.2)\n",
            "Collecting statsmodels>=0.12.0\n",
            "  Downloading statsmodels-0.13.1-cp37-cp37m-manylinux_2_17_x86_64.manylinux2014_x86_64.whl (9.8 MB)\n",
            "\u001b[K     |████████████████████████████████| 9.8 MB 30.0 MB/s \n",
            "\u001b[?25hRequirement already satisfied: scikit-learn in /usr/local/lib/python3.7/dist-packages (from pingouin) (1.0.2)\n",
            "Collecting pandas_flavor>=0.2.0\n",
            "  Downloading pandas_flavor-0.2.0-py2.py3-none-any.whl (6.6 kB)\n",
            "Collecting outdated\n",
            "  Downloading outdated-0.2.1-py3-none-any.whl (7.5 kB)\n",
            "Requirement already satisfied: tabulate in /usr/local/lib/python3.7/dist-packages (from pingouin) (0.8.9)\n",
            "Requirement already satisfied: python-dateutil>=2.1 in /usr/local/lib/python3.7/dist-packages (from matplotlib>=3.0.2->pingouin) (2.8.2)\n",
            "Requirement already satisfied: kiwisolver>=1.0.1 in /usr/local/lib/python3.7/dist-packages (from matplotlib>=3.0.2->pingouin) (1.3.2)\n",
            "Requirement already satisfied: pyparsing!=2.0.4,!=2.1.2,!=2.1.6,>=2.0.1 in /usr/local/lib/python3.7/dist-packages (from matplotlib>=3.0.2->pingouin) (3.0.6)\n",
            "Requirement already satisfied: cycler>=0.10 in /usr/local/lib/python3.7/dist-packages (from matplotlib>=3.0.2->pingouin) (0.11.0)\n",
            "Requirement already satisfied: pytz>=2017.2 in /usr/local/lib/python3.7/dist-packages (from pandas>=1.0->pingouin) (2018.9)\n",
            "Requirement already satisfied: xarray in /usr/local/lib/python3.7/dist-packages (from pandas_flavor>=0.2.0->pingouin) (0.18.2)\n",
            "Requirement already satisfied: six>=1.5 in /usr/local/lib/python3.7/dist-packages (from python-dateutil>=2.1->matplotlib>=3.0.2->pingouin) (1.15.0)\n",
            "Requirement already satisfied: patsy>=0.5.2 in /usr/local/lib/python3.7/dist-packages (from statsmodels>=0.12.0->pingouin) (0.5.2)\n",
            "Requirement already satisfied: requests in /usr/local/lib/python3.7/dist-packages (from outdated->pingouin) (2.23.0)\n",
            "Collecting littleutils\n",
            "  Downloading littleutils-0.2.2.tar.gz (6.6 kB)\n",
            "Requirement already satisfied: idna<3,>=2.5 in /usr/local/lib/python3.7/dist-packages (from requests->outdated->pingouin) (2.10)\n",
            "Requirement already satisfied: certifi>=2017.4.17 in /usr/local/lib/python3.7/dist-packages (from requests->outdated->pingouin) (2021.10.8)\n",
            "Requirement already satisfied: urllib3!=1.25.0,!=1.25.1,<1.26,>=1.21.1 in /usr/local/lib/python3.7/dist-packages (from requests->outdated->pingouin) (1.24.3)\n",
            "Requirement already satisfied: chardet<4,>=3.0.2 in /usr/local/lib/python3.7/dist-packages (from requests->outdated->pingouin) (3.0.4)\n",
            "Requirement already satisfied: threadpoolctl>=2.0.0 in /usr/local/lib/python3.7/dist-packages (from scikit-learn->pingouin) (3.0.0)\n",
            "Requirement already satisfied: joblib>=0.11 in /usr/local/lib/python3.7/dist-packages (from scikit-learn->pingouin) (1.1.0)\n",
            "Requirement already satisfied: setuptools>=40.4 in /usr/local/lib/python3.7/dist-packages (from xarray->pandas_flavor>=0.2.0->pingouin) (57.4.0)\n",
            "Building wheels for collected packages: pingouin, littleutils\n",
            "  Building wheel for pingouin (setup.py) ... \u001b[?25l\u001b[?25hdone\n",
            "  Created wheel for pingouin: filename=pingouin-0.5.0-py3-none-any.whl size=193660 sha256=516c50b4b68c5826471ee4ac6e6cf14999240d49b4960a6400394111eba6f7e1\n",
            "  Stored in directory: /root/.cache/pip/wheels/14/46/f9/cedd81d68d2515c24bbbd000d5b347e4fe092ccc4b568f7f70\n",
            "  Building wheel for littleutils (setup.py) ... \u001b[?25l\u001b[?25hdone\n",
            "  Created wheel for littleutils: filename=littleutils-0.2.2-py3-none-any.whl size=7048 sha256=3c307697b430bb508f3737941601a0a28fdac55f18a178b3d1f261183056f7f1\n",
            "  Stored in directory: /root/.cache/pip/wheels/d6/64/cd/32819b511a488e4993f2fab909a95330289c3f4e0f6ef4676d\n",
            "Successfully built pingouin littleutils\n",
            "Installing collected packages: scipy, littleutils, statsmodels, pandas-flavor, outdated, pingouin\n",
            "  Attempting uninstall: scipy\n",
            "    Found existing installation: scipy 1.4.1\n",
            "    Uninstalling scipy-1.4.1:\n",
            "      Successfully uninstalled scipy-1.4.1\n",
            "  Attempting uninstall: statsmodels\n",
            "    Found existing installation: statsmodels 0.10.2\n",
            "    Uninstalling statsmodels-0.10.2:\n",
            "      Successfully uninstalled statsmodels-0.10.2\n",
            "\u001b[31mERROR: pip's dependency resolver does not currently take into account all the packages that are installed. This behaviour is the source of the following dependency conflicts.\n",
            "albumentations 0.1.12 requires imgaug<0.2.7,>=0.2.5, but you have imgaug 0.2.9 which is incompatible.\u001b[0m\n",
            "Successfully installed littleutils-0.2.2 outdated-0.2.1 pandas-flavor-0.2.0 pingouin-0.5.0 scipy-1.7.3 statsmodels-0.13.1\n"
          ]
        },
        {
          "output_type": "display_data",
          "data": {
            "application/vnd.colab-display-data+json": {
              "pip_warning": {
                "packages": [
                  "scipy",
                  "statsmodels"
                ]
              }
            }
          },
          "metadata": {}
        }
      ]
    },
    {
      "cell_type": "code",
      "execution_count": null,
      "metadata": {
        "id": "uDCRA0k6IxGf"
      },
      "outputs": [],
      "source": [
        "import pandas as pd \n",
        "import numpy as np\n",
        "import matplotlib.pyplot as plt\n",
        "import plotly.express as px"
      ]
    },
    {
      "cell_type": "markdown",
      "source": [
        "#Question 1: \n",
        "Questions provided in the class.\n"
      ],
      "metadata": {
        "id": "4Adp110tKg55"
      }
    },
    {
      "cell_type": "code",
      "execution_count": null,
      "metadata": {
        "id": "JpaTR2hOIxGw",
        "colab": {
          "base_uri": "https://localhost:8080/",
          "height": 1000
        },
        "outputId": "58068bad-bcad-467c-a66a-b3c8737af16a"
      },
      "outputs": [
        {
          "output_type": "execute_result",
          "data": {
            "text/html": [
              "\n",
              "  <div id=\"df-106dab65-3a2a-42a1-836e-51fc6d6c3b14\">\n",
              "    <div class=\"colab-df-container\">\n",
              "      <div>\n",
              "<style scoped>\n",
              "    .dataframe tbody tr th:only-of-type {\n",
              "        vertical-align: middle;\n",
              "    }\n",
              "\n",
              "    .dataframe tbody tr th {\n",
              "        vertical-align: top;\n",
              "    }\n",
              "\n",
              "    .dataframe thead th {\n",
              "        text-align: right;\n",
              "    }\n",
              "</style>\n",
              "<table border=\"1\" class=\"dataframe\">\n",
              "  <thead>\n",
              "    <tr style=\"text-align: right;\">\n",
              "      <th></th>\n",
              "      <th>Cities</th>\n",
              "      <th>SO2</th>\n",
              "      <th>temp</th>\n",
              "      <th>manu</th>\n",
              "      <th>popul</th>\n",
              "      <th>wind</th>\n",
              "      <th>precip</th>\n",
              "      <th>predays</th>\n",
              "    </tr>\n",
              "  </thead>\n",
              "  <tbody>\n",
              "    <tr>\n",
              "      <th>0</th>\n",
              "      <td>Albany</td>\n",
              "      <td>46</td>\n",
              "      <td>47.6</td>\n",
              "      <td>44</td>\n",
              "      <td>116</td>\n",
              "      <td>8.8</td>\n",
              "      <td>33.36</td>\n",
              "      <td>135</td>\n",
              "    </tr>\n",
              "    <tr>\n",
              "      <th>1</th>\n",
              "      <td>Albuquerque</td>\n",
              "      <td>11</td>\n",
              "      <td>56.8</td>\n",
              "      <td>46</td>\n",
              "      <td>244</td>\n",
              "      <td>8.9</td>\n",
              "      <td>7.77</td>\n",
              "      <td>58</td>\n",
              "    </tr>\n",
              "    <tr>\n",
              "      <th>2</th>\n",
              "      <td>Atlanta</td>\n",
              "      <td>24</td>\n",
              "      <td>61.5</td>\n",
              "      <td>368</td>\n",
              "      <td>497</td>\n",
              "      <td>9.1</td>\n",
              "      <td>48.34</td>\n",
              "      <td>115</td>\n",
              "    </tr>\n",
              "    <tr>\n",
              "      <th>3</th>\n",
              "      <td>Baltimore</td>\n",
              "      <td>47</td>\n",
              "      <td>55.0</td>\n",
              "      <td>625</td>\n",
              "      <td>905</td>\n",
              "      <td>9.6</td>\n",
              "      <td>41.31</td>\n",
              "      <td>111</td>\n",
              "    </tr>\n",
              "    <tr>\n",
              "      <th>4</th>\n",
              "      <td>Buffalo</td>\n",
              "      <td>11</td>\n",
              "      <td>47.1</td>\n",
              "      <td>391</td>\n",
              "      <td>463</td>\n",
              "      <td>12.4</td>\n",
              "      <td>36.11</td>\n",
              "      <td>166</td>\n",
              "    </tr>\n",
              "    <tr>\n",
              "      <th>5</th>\n",
              "      <td>Charleston</td>\n",
              "      <td>31</td>\n",
              "      <td>55.2</td>\n",
              "      <td>35</td>\n",
              "      <td>71</td>\n",
              "      <td>6.5</td>\n",
              "      <td>40.75</td>\n",
              "      <td>148</td>\n",
              "    </tr>\n",
              "    <tr>\n",
              "      <th>6</th>\n",
              "      <td>Chicago</td>\n",
              "      <td>110</td>\n",
              "      <td>50.6</td>\n",
              "      <td>3344</td>\n",
              "      <td>3369</td>\n",
              "      <td>10.4</td>\n",
              "      <td>34.44</td>\n",
              "      <td>122</td>\n",
              "    </tr>\n",
              "    <tr>\n",
              "      <th>7</th>\n",
              "      <td>Cincinnati</td>\n",
              "      <td>23</td>\n",
              "      <td>54.0</td>\n",
              "      <td>462</td>\n",
              "      <td>453</td>\n",
              "      <td>7.1</td>\n",
              "      <td>39.04</td>\n",
              "      <td>132</td>\n",
              "    </tr>\n",
              "    <tr>\n",
              "      <th>8</th>\n",
              "      <td>Cleveland</td>\n",
              "      <td>65</td>\n",
              "      <td>49.7</td>\n",
              "      <td>1007</td>\n",
              "      <td>751</td>\n",
              "      <td>10.9</td>\n",
              "      <td>34.99</td>\n",
              "      <td>155</td>\n",
              "    </tr>\n",
              "    <tr>\n",
              "      <th>9</th>\n",
              "      <td>Columbus</td>\n",
              "      <td>26</td>\n",
              "      <td>51.5</td>\n",
              "      <td>266</td>\n",
              "      <td>540</td>\n",
              "      <td>8.6</td>\n",
              "      <td>37.01</td>\n",
              "      <td>134</td>\n",
              "    </tr>\n",
              "    <tr>\n",
              "      <th>10</th>\n",
              "      <td>Dallas</td>\n",
              "      <td>9</td>\n",
              "      <td>66.2</td>\n",
              "      <td>641</td>\n",
              "      <td>844</td>\n",
              "      <td>10.9</td>\n",
              "      <td>35.94</td>\n",
              "      <td>78</td>\n",
              "    </tr>\n",
              "    <tr>\n",
              "      <th>11</th>\n",
              "      <td>Denver</td>\n",
              "      <td>17</td>\n",
              "      <td>51.9</td>\n",
              "      <td>454</td>\n",
              "      <td>515</td>\n",
              "      <td>9.0</td>\n",
              "      <td>12.95</td>\n",
              "      <td>86</td>\n",
              "    </tr>\n",
              "    <tr>\n",
              "      <th>12</th>\n",
              "      <td>Des Moines</td>\n",
              "      <td>17</td>\n",
              "      <td>49.0</td>\n",
              "      <td>104</td>\n",
              "      <td>201</td>\n",
              "      <td>11.2</td>\n",
              "      <td>30.85</td>\n",
              "      <td>103</td>\n",
              "    </tr>\n",
              "    <tr>\n",
              "      <th>13</th>\n",
              "      <td>Detroit</td>\n",
              "      <td>35</td>\n",
              "      <td>49.9</td>\n",
              "      <td>1064</td>\n",
              "      <td>1513</td>\n",
              "      <td>10.1</td>\n",
              "      <td>30.96</td>\n",
              "      <td>129</td>\n",
              "    </tr>\n",
              "    <tr>\n",
              "      <th>14</th>\n",
              "      <td>Hartford</td>\n",
              "      <td>56</td>\n",
              "      <td>49.1</td>\n",
              "      <td>412</td>\n",
              "      <td>158</td>\n",
              "      <td>9.0</td>\n",
              "      <td>43.37</td>\n",
              "      <td>127</td>\n",
              "    </tr>\n",
              "    <tr>\n",
              "      <th>15</th>\n",
              "      <td>Houston</td>\n",
              "      <td>10</td>\n",
              "      <td>68.9</td>\n",
              "      <td>721</td>\n",
              "      <td>1233</td>\n",
              "      <td>10.8</td>\n",
              "      <td>48.19</td>\n",
              "      <td>103</td>\n",
              "    </tr>\n",
              "    <tr>\n",
              "      <th>16</th>\n",
              "      <td>Indianapolis</td>\n",
              "      <td>28</td>\n",
              "      <td>52.3</td>\n",
              "      <td>361</td>\n",
              "      <td>746</td>\n",
              "      <td>9.7</td>\n",
              "      <td>38.74</td>\n",
              "      <td>121</td>\n",
              "    </tr>\n",
              "    <tr>\n",
              "      <th>17</th>\n",
              "      <td>Jacksonville</td>\n",
              "      <td>14</td>\n",
              "      <td>68.4</td>\n",
              "      <td>136</td>\n",
              "      <td>529</td>\n",
              "      <td>8.8</td>\n",
              "      <td>54.47</td>\n",
              "      <td>116</td>\n",
              "    </tr>\n",
              "    <tr>\n",
              "      <th>18</th>\n",
              "      <td>Kansas City</td>\n",
              "      <td>14</td>\n",
              "      <td>54.5</td>\n",
              "      <td>381</td>\n",
              "      <td>507</td>\n",
              "      <td>10.0</td>\n",
              "      <td>37.00</td>\n",
              "      <td>99</td>\n",
              "    </tr>\n",
              "    <tr>\n",
              "      <th>19</th>\n",
              "      <td>Little Rock</td>\n",
              "      <td>13</td>\n",
              "      <td>61.0</td>\n",
              "      <td>91</td>\n",
              "      <td>132</td>\n",
              "      <td>8.2</td>\n",
              "      <td>48.52</td>\n",
              "      <td>100</td>\n",
              "    </tr>\n",
              "    <tr>\n",
              "      <th>20</th>\n",
              "      <td>Louisville</td>\n",
              "      <td>30</td>\n",
              "      <td>55.6</td>\n",
              "      <td>291</td>\n",
              "      <td>593</td>\n",
              "      <td>8.3</td>\n",
              "      <td>43.11</td>\n",
              "      <td>123</td>\n",
              "    </tr>\n",
              "    <tr>\n",
              "      <th>21</th>\n",
              "      <td>Memphis</td>\n",
              "      <td>10</td>\n",
              "      <td>61.6</td>\n",
              "      <td>337</td>\n",
              "      <td>624</td>\n",
              "      <td>9.2</td>\n",
              "      <td>49.10</td>\n",
              "      <td>105</td>\n",
              "    </tr>\n",
              "    <tr>\n",
              "      <th>22</th>\n",
              "      <td>Miami</td>\n",
              "      <td>10</td>\n",
              "      <td>75.5</td>\n",
              "      <td>207</td>\n",
              "      <td>335</td>\n",
              "      <td>9.0</td>\n",
              "      <td>59.80</td>\n",
              "      <td>128</td>\n",
              "    </tr>\n",
              "    <tr>\n",
              "      <th>23</th>\n",
              "      <td>Milwaukee</td>\n",
              "      <td>16</td>\n",
              "      <td>45.7</td>\n",
              "      <td>569</td>\n",
              "      <td>717</td>\n",
              "      <td>11.8</td>\n",
              "      <td>29.07</td>\n",
              "      <td>123</td>\n",
              "    </tr>\n",
              "    <tr>\n",
              "      <th>24</th>\n",
              "      <td>Minneapolis</td>\n",
              "      <td>29</td>\n",
              "      <td>43.5</td>\n",
              "      <td>699</td>\n",
              "      <td>744</td>\n",
              "      <td>10.6</td>\n",
              "      <td>25.94</td>\n",
              "      <td>137</td>\n",
              "    </tr>\n",
              "    <tr>\n",
              "      <th>25</th>\n",
              "      <td>Nashville</td>\n",
              "      <td>18</td>\n",
              "      <td>59.4</td>\n",
              "      <td>275</td>\n",
              "      <td>448</td>\n",
              "      <td>7.9</td>\n",
              "      <td>46.00</td>\n",
              "      <td>119</td>\n",
              "    </tr>\n",
              "    <tr>\n",
              "      <th>26</th>\n",
              "      <td>New Orleans</td>\n",
              "      <td>9</td>\n",
              "      <td>68.3</td>\n",
              "      <td>204</td>\n",
              "      <td>361</td>\n",
              "      <td>8.4</td>\n",
              "      <td>56.77</td>\n",
              "      <td>113</td>\n",
              "    </tr>\n",
              "    <tr>\n",
              "      <th>27</th>\n",
              "      <td>Norfolk</td>\n",
              "      <td>31</td>\n",
              "      <td>59.3</td>\n",
              "      <td>96</td>\n",
              "      <td>308</td>\n",
              "      <td>10.6</td>\n",
              "      <td>44.68</td>\n",
              "      <td>116</td>\n",
              "    </tr>\n",
              "    <tr>\n",
              "      <th>28</th>\n",
              "      <td>Omaha</td>\n",
              "      <td>14</td>\n",
              "      <td>51.5</td>\n",
              "      <td>181</td>\n",
              "      <td>347</td>\n",
              "      <td>10.9</td>\n",
              "      <td>30.18</td>\n",
              "      <td>98</td>\n",
              "    </tr>\n",
              "    <tr>\n",
              "      <th>29</th>\n",
              "      <td>Philadelphia</td>\n",
              "      <td>69</td>\n",
              "      <td>54.6</td>\n",
              "      <td>1692</td>\n",
              "      <td>1950</td>\n",
              "      <td>9.6</td>\n",
              "      <td>39.93</td>\n",
              "      <td>115</td>\n",
              "    </tr>\n",
              "    <tr>\n",
              "      <th>30</th>\n",
              "      <td>Phoenix</td>\n",
              "      <td>10</td>\n",
              "      <td>70.3</td>\n",
              "      <td>213</td>\n",
              "      <td>582</td>\n",
              "      <td>6.0</td>\n",
              "      <td>7.05</td>\n",
              "      <td>36</td>\n",
              "    </tr>\n",
              "    <tr>\n",
              "      <th>31</th>\n",
              "      <td>Pittsburgh</td>\n",
              "      <td>61</td>\n",
              "      <td>50.4</td>\n",
              "      <td>347</td>\n",
              "      <td>520</td>\n",
              "      <td>9.4</td>\n",
              "      <td>36.22</td>\n",
              "      <td>147</td>\n",
              "    </tr>\n",
              "    <tr>\n",
              "      <th>32</th>\n",
              "      <td>Providence</td>\n",
              "      <td>94</td>\n",
              "      <td>50.0</td>\n",
              "      <td>343</td>\n",
              "      <td>179</td>\n",
              "      <td>10.6</td>\n",
              "      <td>42.75</td>\n",
              "      <td>125</td>\n",
              "    </tr>\n",
              "    <tr>\n",
              "      <th>33</th>\n",
              "      <td>Richmond</td>\n",
              "      <td>26</td>\n",
              "      <td>57.8</td>\n",
              "      <td>197</td>\n",
              "      <td>299</td>\n",
              "      <td>7.6</td>\n",
              "      <td>42.59</td>\n",
              "      <td>115</td>\n",
              "    </tr>\n",
              "    <tr>\n",
              "      <th>34</th>\n",
              "      <td>Salt Lake City</td>\n",
              "      <td>28</td>\n",
              "      <td>51.0</td>\n",
              "      <td>137</td>\n",
              "      <td>176</td>\n",
              "      <td>8.7</td>\n",
              "      <td>15.17</td>\n",
              "      <td>89</td>\n",
              "    </tr>\n",
              "    <tr>\n",
              "      <th>35</th>\n",
              "      <td>San Francisco</td>\n",
              "      <td>12</td>\n",
              "      <td>56.7</td>\n",
              "      <td>453</td>\n",
              "      <td>716</td>\n",
              "      <td>8.7</td>\n",
              "      <td>20.66</td>\n",
              "      <td>67</td>\n",
              "    </tr>\n",
              "    <tr>\n",
              "      <th>36</th>\n",
              "      <td>Seattle</td>\n",
              "      <td>29</td>\n",
              "      <td>51.1</td>\n",
              "      <td>379</td>\n",
              "      <td>531</td>\n",
              "      <td>9.4</td>\n",
              "      <td>38.79</td>\n",
              "      <td>164</td>\n",
              "    </tr>\n",
              "    <tr>\n",
              "      <th>37</th>\n",
              "      <td>St. Louis</td>\n",
              "      <td>56</td>\n",
              "      <td>55.9</td>\n",
              "      <td>775</td>\n",
              "      <td>622</td>\n",
              "      <td>9.5</td>\n",
              "      <td>35.89</td>\n",
              "      <td>105</td>\n",
              "    </tr>\n",
              "    <tr>\n",
              "      <th>38</th>\n",
              "      <td>Washington</td>\n",
              "      <td>29</td>\n",
              "      <td>57.3</td>\n",
              "      <td>434</td>\n",
              "      <td>757</td>\n",
              "      <td>9.3</td>\n",
              "      <td>38.89</td>\n",
              "      <td>111</td>\n",
              "    </tr>\n",
              "    <tr>\n",
              "      <th>39</th>\n",
              "      <td>Wichita</td>\n",
              "      <td>8</td>\n",
              "      <td>56.6</td>\n",
              "      <td>125</td>\n",
              "      <td>277</td>\n",
              "      <td>12.7</td>\n",
              "      <td>30.58</td>\n",
              "      <td>82</td>\n",
              "    </tr>\n",
              "    <tr>\n",
              "      <th>40</th>\n",
              "      <td>Wilmington</td>\n",
              "      <td>36</td>\n",
              "      <td>54.0</td>\n",
              "      <td>80</td>\n",
              "      <td>80</td>\n",
              "      <td>9.0</td>\n",
              "      <td>40.25</td>\n",
              "      <td>114</td>\n",
              "    </tr>\n",
              "  </tbody>\n",
              "</table>\n",
              "</div>\n",
              "      <button class=\"colab-df-convert\" onclick=\"convertToInteractive('df-106dab65-3a2a-42a1-836e-51fc6d6c3b14')\"\n",
              "              title=\"Convert this dataframe to an interactive table.\"\n",
              "              style=\"display:none;\">\n",
              "        \n",
              "  <svg xmlns=\"http://www.w3.org/2000/svg\" height=\"24px\"viewBox=\"0 0 24 24\"\n",
              "       width=\"24px\">\n",
              "    <path d=\"M0 0h24v24H0V0z\" fill=\"none\"/>\n",
              "    <path d=\"M18.56 5.44l.94 2.06.94-2.06 2.06-.94-2.06-.94-.94-2.06-.94 2.06-2.06.94zm-11 1L8.5 8.5l.94-2.06 2.06-.94-2.06-.94L8.5 2.5l-.94 2.06-2.06.94zm10 10l.94 2.06.94-2.06 2.06-.94-2.06-.94-.94-2.06-.94 2.06-2.06.94z\"/><path d=\"M17.41 7.96l-1.37-1.37c-.4-.4-.92-.59-1.43-.59-.52 0-1.04.2-1.43.59L10.3 9.45l-7.72 7.72c-.78.78-.78 2.05 0 2.83L4 21.41c.39.39.9.59 1.41.59.51 0 1.02-.2 1.41-.59l7.78-7.78 2.81-2.81c.8-.78.8-2.07 0-2.86zM5.41 20L4 18.59l7.72-7.72 1.47 1.35L5.41 20z\"/>\n",
              "  </svg>\n",
              "      </button>\n",
              "      \n",
              "  <style>\n",
              "    .colab-df-container {\n",
              "      display:flex;\n",
              "      flex-wrap:wrap;\n",
              "      gap: 12px;\n",
              "    }\n",
              "\n",
              "    .colab-df-convert {\n",
              "      background-color: #E8F0FE;\n",
              "      border: none;\n",
              "      border-radius: 50%;\n",
              "      cursor: pointer;\n",
              "      display: none;\n",
              "      fill: #1967D2;\n",
              "      height: 32px;\n",
              "      padding: 0 0 0 0;\n",
              "      width: 32px;\n",
              "    }\n",
              "\n",
              "    .colab-df-convert:hover {\n",
              "      background-color: #E2EBFA;\n",
              "      box-shadow: 0px 1px 2px rgba(60, 64, 67, 0.3), 0px 1px 3px 1px rgba(60, 64, 67, 0.15);\n",
              "      fill: #174EA6;\n",
              "    }\n",
              "\n",
              "    [theme=dark] .colab-df-convert {\n",
              "      background-color: #3B4455;\n",
              "      fill: #D2E3FC;\n",
              "    }\n",
              "\n",
              "    [theme=dark] .colab-df-convert:hover {\n",
              "      background-color: #434B5C;\n",
              "      box-shadow: 0px 1px 3px 1px rgba(0, 0, 0, 0.15);\n",
              "      filter: drop-shadow(0px 1px 2px rgba(0, 0, 0, 0.3));\n",
              "      fill: #FFFFFF;\n",
              "    }\n",
              "  </style>\n",
              "\n",
              "      <script>\n",
              "        const buttonEl =\n",
              "          document.querySelector('#df-106dab65-3a2a-42a1-836e-51fc6d6c3b14 button.colab-df-convert');\n",
              "        buttonEl.style.display =\n",
              "          google.colab.kernel.accessAllowed ? 'block' : 'none';\n",
              "\n",
              "        async function convertToInteractive(key) {\n",
              "          const element = document.querySelector('#df-106dab65-3a2a-42a1-836e-51fc6d6c3b14');\n",
              "          const dataTable =\n",
              "            await google.colab.kernel.invokeFunction('convertToInteractive',\n",
              "                                                     [key], {});\n",
              "          if (!dataTable) return;\n",
              "\n",
              "          const docLinkHtml = 'Like what you see? Visit the ' +\n",
              "            '<a target=\"_blank\" href=https://colab.research.google.com/notebooks/data_table.ipynb>data table notebook</a>'\n",
              "            + ' to learn more about interactive tables.';\n",
              "          element.innerHTML = '';\n",
              "          dataTable['output_type'] = 'display_data';\n",
              "          await google.colab.output.renderOutput(dataTable, element);\n",
              "          const docLink = document.createElement('div');\n",
              "          docLink.innerHTML = docLinkHtml;\n",
              "          element.appendChild(docLink);\n",
              "        }\n",
              "      </script>\n",
              "    </div>\n",
              "  </div>\n",
              "  "
            ],
            "text/plain": [
              "            Cities  SO2  temp  manu  popul  wind  precip  predays\n",
              "0           Albany   46  47.6    44    116   8.8   33.36      135\n",
              "1      Albuquerque   11  56.8    46    244   8.9    7.77       58\n",
              "2          Atlanta   24  61.5   368    497   9.1   48.34      115\n",
              "3        Baltimore   47  55.0   625    905   9.6   41.31      111\n",
              "4          Buffalo   11  47.1   391    463  12.4   36.11      166\n",
              "5       Charleston   31  55.2    35     71   6.5   40.75      148\n",
              "6          Chicago  110  50.6  3344   3369  10.4   34.44      122\n",
              "7       Cincinnati   23  54.0   462    453   7.1   39.04      132\n",
              "8        Cleveland   65  49.7  1007    751  10.9   34.99      155\n",
              "9         Columbus   26  51.5   266    540   8.6   37.01      134\n",
              "10          Dallas    9  66.2   641    844  10.9   35.94       78\n",
              "11          Denver   17  51.9   454    515   9.0   12.95       86\n",
              "12      Des Moines   17  49.0   104    201  11.2   30.85      103\n",
              "13         Detroit   35  49.9  1064   1513  10.1   30.96      129\n",
              "14        Hartford   56  49.1   412    158   9.0   43.37      127\n",
              "15         Houston   10  68.9   721   1233  10.8   48.19      103\n",
              "16    Indianapolis   28  52.3   361    746   9.7   38.74      121\n",
              "17    Jacksonville   14  68.4   136    529   8.8   54.47      116\n",
              "18     Kansas City   14  54.5   381    507  10.0   37.00       99\n",
              "19     Little Rock   13  61.0    91    132   8.2   48.52      100\n",
              "20      Louisville   30  55.6   291    593   8.3   43.11      123\n",
              "21         Memphis   10  61.6   337    624   9.2   49.10      105\n",
              "22           Miami   10  75.5   207    335   9.0   59.80      128\n",
              "23       Milwaukee   16  45.7   569    717  11.8   29.07      123\n",
              "24     Minneapolis   29  43.5   699    744  10.6   25.94      137\n",
              "25       Nashville   18  59.4   275    448   7.9   46.00      119\n",
              "26     New Orleans    9  68.3   204    361   8.4   56.77      113\n",
              "27         Norfolk   31  59.3    96    308  10.6   44.68      116\n",
              "28           Omaha   14  51.5   181    347  10.9   30.18       98\n",
              "29    Philadelphia   69  54.6  1692   1950   9.6   39.93      115\n",
              "30         Phoenix   10  70.3   213    582   6.0    7.05       36\n",
              "31      Pittsburgh   61  50.4   347    520   9.4   36.22      147\n",
              "32      Providence   94  50.0   343    179  10.6   42.75      125\n",
              "33        Richmond   26  57.8   197    299   7.6   42.59      115\n",
              "34  Salt Lake City   28  51.0   137    176   8.7   15.17       89\n",
              "35   San Francisco   12  56.7   453    716   8.7   20.66       67\n",
              "36         Seattle   29  51.1   379    531   9.4   38.79      164\n",
              "37       St. Louis   56  55.9   775    622   9.5   35.89      105\n",
              "38      Washington   29  57.3   434    757   9.3   38.89      111\n",
              "39         Wichita    8  56.6   125    277  12.7   30.58       82\n",
              "40      Wilmington   36  54.0    80     80   9.0   40.25      114"
            ]
          },
          "metadata": {},
          "execution_count": 4
        }
      ],
      "source": [
        "df=pd.read_csv(\"/content/USairpollution.csv\")\n",
        "df"
      ]
    },
    {
      "cell_type": "code",
      "execution_count": null,
      "metadata": {
        "id": "UU1wzYjWIxGy"
      },
      "outputs": [],
      "source": [
        "df=df.loc[:,[\"Cities\",\"temp\",\"manu\",\"popul\",\"wind\",\"precip\",\"predays\",\"SO2\"]]"
      ]
    },
    {
      "cell_type": "code",
      "execution_count": null,
      "metadata": {
        "colab": {
          "base_uri": "https://localhost:8080/",
          "height": 1000
        },
        "id": "of7jNaL2IxGz",
        "outputId": "ac2c6b66-a986-41a0-e1a4-6179c71ad53f"
      },
      "outputs": [
        {
          "output_type": "execute_result",
          "data": {
            "text/html": [
              "\n",
              "  <div id=\"df-28591b0e-ed14-4f33-81f2-9c01284d14ef\">\n",
              "    <div class=\"colab-df-container\">\n",
              "      <div>\n",
              "<style scoped>\n",
              "    .dataframe tbody tr th:only-of-type {\n",
              "        vertical-align: middle;\n",
              "    }\n",
              "\n",
              "    .dataframe tbody tr th {\n",
              "        vertical-align: top;\n",
              "    }\n",
              "\n",
              "    .dataframe thead th {\n",
              "        text-align: right;\n",
              "    }\n",
              "</style>\n",
              "<table border=\"1\" class=\"dataframe\">\n",
              "  <thead>\n",
              "    <tr style=\"text-align: right;\">\n",
              "      <th></th>\n",
              "      <th>Cities</th>\n",
              "      <th>temp</th>\n",
              "      <th>manu</th>\n",
              "      <th>popul</th>\n",
              "      <th>wind</th>\n",
              "      <th>precip</th>\n",
              "      <th>predays</th>\n",
              "      <th>SO2</th>\n",
              "    </tr>\n",
              "  </thead>\n",
              "  <tbody>\n",
              "    <tr>\n",
              "      <th>0</th>\n",
              "      <td>Albany</td>\n",
              "      <td>47.6</td>\n",
              "      <td>44</td>\n",
              "      <td>116</td>\n",
              "      <td>8.8</td>\n",
              "      <td>33.36</td>\n",
              "      <td>135</td>\n",
              "      <td>46</td>\n",
              "    </tr>\n",
              "    <tr>\n",
              "      <th>1</th>\n",
              "      <td>Albuquerque</td>\n",
              "      <td>56.8</td>\n",
              "      <td>46</td>\n",
              "      <td>244</td>\n",
              "      <td>8.9</td>\n",
              "      <td>7.77</td>\n",
              "      <td>58</td>\n",
              "      <td>11</td>\n",
              "    </tr>\n",
              "    <tr>\n",
              "      <th>2</th>\n",
              "      <td>Atlanta</td>\n",
              "      <td>61.5</td>\n",
              "      <td>368</td>\n",
              "      <td>497</td>\n",
              "      <td>9.1</td>\n",
              "      <td>48.34</td>\n",
              "      <td>115</td>\n",
              "      <td>24</td>\n",
              "    </tr>\n",
              "    <tr>\n",
              "      <th>3</th>\n",
              "      <td>Baltimore</td>\n",
              "      <td>55.0</td>\n",
              "      <td>625</td>\n",
              "      <td>905</td>\n",
              "      <td>9.6</td>\n",
              "      <td>41.31</td>\n",
              "      <td>111</td>\n",
              "      <td>47</td>\n",
              "    </tr>\n",
              "    <tr>\n",
              "      <th>4</th>\n",
              "      <td>Buffalo</td>\n",
              "      <td>47.1</td>\n",
              "      <td>391</td>\n",
              "      <td>463</td>\n",
              "      <td>12.4</td>\n",
              "      <td>36.11</td>\n",
              "      <td>166</td>\n",
              "      <td>11</td>\n",
              "    </tr>\n",
              "    <tr>\n",
              "      <th>5</th>\n",
              "      <td>Charleston</td>\n",
              "      <td>55.2</td>\n",
              "      <td>35</td>\n",
              "      <td>71</td>\n",
              "      <td>6.5</td>\n",
              "      <td>40.75</td>\n",
              "      <td>148</td>\n",
              "      <td>31</td>\n",
              "    </tr>\n",
              "    <tr>\n",
              "      <th>6</th>\n",
              "      <td>Chicago</td>\n",
              "      <td>50.6</td>\n",
              "      <td>3344</td>\n",
              "      <td>3369</td>\n",
              "      <td>10.4</td>\n",
              "      <td>34.44</td>\n",
              "      <td>122</td>\n",
              "      <td>110</td>\n",
              "    </tr>\n",
              "    <tr>\n",
              "      <th>7</th>\n",
              "      <td>Cincinnati</td>\n",
              "      <td>54.0</td>\n",
              "      <td>462</td>\n",
              "      <td>453</td>\n",
              "      <td>7.1</td>\n",
              "      <td>39.04</td>\n",
              "      <td>132</td>\n",
              "      <td>23</td>\n",
              "    </tr>\n",
              "    <tr>\n",
              "      <th>8</th>\n",
              "      <td>Cleveland</td>\n",
              "      <td>49.7</td>\n",
              "      <td>1007</td>\n",
              "      <td>751</td>\n",
              "      <td>10.9</td>\n",
              "      <td>34.99</td>\n",
              "      <td>155</td>\n",
              "      <td>65</td>\n",
              "    </tr>\n",
              "    <tr>\n",
              "      <th>9</th>\n",
              "      <td>Columbus</td>\n",
              "      <td>51.5</td>\n",
              "      <td>266</td>\n",
              "      <td>540</td>\n",
              "      <td>8.6</td>\n",
              "      <td>37.01</td>\n",
              "      <td>134</td>\n",
              "      <td>26</td>\n",
              "    </tr>\n",
              "    <tr>\n",
              "      <th>10</th>\n",
              "      <td>Dallas</td>\n",
              "      <td>66.2</td>\n",
              "      <td>641</td>\n",
              "      <td>844</td>\n",
              "      <td>10.9</td>\n",
              "      <td>35.94</td>\n",
              "      <td>78</td>\n",
              "      <td>9</td>\n",
              "    </tr>\n",
              "    <tr>\n",
              "      <th>11</th>\n",
              "      <td>Denver</td>\n",
              "      <td>51.9</td>\n",
              "      <td>454</td>\n",
              "      <td>515</td>\n",
              "      <td>9.0</td>\n",
              "      <td>12.95</td>\n",
              "      <td>86</td>\n",
              "      <td>17</td>\n",
              "    </tr>\n",
              "    <tr>\n",
              "      <th>12</th>\n",
              "      <td>Des Moines</td>\n",
              "      <td>49.0</td>\n",
              "      <td>104</td>\n",
              "      <td>201</td>\n",
              "      <td>11.2</td>\n",
              "      <td>30.85</td>\n",
              "      <td>103</td>\n",
              "      <td>17</td>\n",
              "    </tr>\n",
              "    <tr>\n",
              "      <th>13</th>\n",
              "      <td>Detroit</td>\n",
              "      <td>49.9</td>\n",
              "      <td>1064</td>\n",
              "      <td>1513</td>\n",
              "      <td>10.1</td>\n",
              "      <td>30.96</td>\n",
              "      <td>129</td>\n",
              "      <td>35</td>\n",
              "    </tr>\n",
              "    <tr>\n",
              "      <th>14</th>\n",
              "      <td>Hartford</td>\n",
              "      <td>49.1</td>\n",
              "      <td>412</td>\n",
              "      <td>158</td>\n",
              "      <td>9.0</td>\n",
              "      <td>43.37</td>\n",
              "      <td>127</td>\n",
              "      <td>56</td>\n",
              "    </tr>\n",
              "    <tr>\n",
              "      <th>15</th>\n",
              "      <td>Houston</td>\n",
              "      <td>68.9</td>\n",
              "      <td>721</td>\n",
              "      <td>1233</td>\n",
              "      <td>10.8</td>\n",
              "      <td>48.19</td>\n",
              "      <td>103</td>\n",
              "      <td>10</td>\n",
              "    </tr>\n",
              "    <tr>\n",
              "      <th>16</th>\n",
              "      <td>Indianapolis</td>\n",
              "      <td>52.3</td>\n",
              "      <td>361</td>\n",
              "      <td>746</td>\n",
              "      <td>9.7</td>\n",
              "      <td>38.74</td>\n",
              "      <td>121</td>\n",
              "      <td>28</td>\n",
              "    </tr>\n",
              "    <tr>\n",
              "      <th>17</th>\n",
              "      <td>Jacksonville</td>\n",
              "      <td>68.4</td>\n",
              "      <td>136</td>\n",
              "      <td>529</td>\n",
              "      <td>8.8</td>\n",
              "      <td>54.47</td>\n",
              "      <td>116</td>\n",
              "      <td>14</td>\n",
              "    </tr>\n",
              "    <tr>\n",
              "      <th>18</th>\n",
              "      <td>Kansas City</td>\n",
              "      <td>54.5</td>\n",
              "      <td>381</td>\n",
              "      <td>507</td>\n",
              "      <td>10.0</td>\n",
              "      <td>37.00</td>\n",
              "      <td>99</td>\n",
              "      <td>14</td>\n",
              "    </tr>\n",
              "    <tr>\n",
              "      <th>19</th>\n",
              "      <td>Little Rock</td>\n",
              "      <td>61.0</td>\n",
              "      <td>91</td>\n",
              "      <td>132</td>\n",
              "      <td>8.2</td>\n",
              "      <td>48.52</td>\n",
              "      <td>100</td>\n",
              "      <td>13</td>\n",
              "    </tr>\n",
              "    <tr>\n",
              "      <th>20</th>\n",
              "      <td>Louisville</td>\n",
              "      <td>55.6</td>\n",
              "      <td>291</td>\n",
              "      <td>593</td>\n",
              "      <td>8.3</td>\n",
              "      <td>43.11</td>\n",
              "      <td>123</td>\n",
              "      <td>30</td>\n",
              "    </tr>\n",
              "    <tr>\n",
              "      <th>21</th>\n",
              "      <td>Memphis</td>\n",
              "      <td>61.6</td>\n",
              "      <td>337</td>\n",
              "      <td>624</td>\n",
              "      <td>9.2</td>\n",
              "      <td>49.10</td>\n",
              "      <td>105</td>\n",
              "      <td>10</td>\n",
              "    </tr>\n",
              "    <tr>\n",
              "      <th>22</th>\n",
              "      <td>Miami</td>\n",
              "      <td>75.5</td>\n",
              "      <td>207</td>\n",
              "      <td>335</td>\n",
              "      <td>9.0</td>\n",
              "      <td>59.80</td>\n",
              "      <td>128</td>\n",
              "      <td>10</td>\n",
              "    </tr>\n",
              "    <tr>\n",
              "      <th>23</th>\n",
              "      <td>Milwaukee</td>\n",
              "      <td>45.7</td>\n",
              "      <td>569</td>\n",
              "      <td>717</td>\n",
              "      <td>11.8</td>\n",
              "      <td>29.07</td>\n",
              "      <td>123</td>\n",
              "      <td>16</td>\n",
              "    </tr>\n",
              "    <tr>\n",
              "      <th>24</th>\n",
              "      <td>Minneapolis</td>\n",
              "      <td>43.5</td>\n",
              "      <td>699</td>\n",
              "      <td>744</td>\n",
              "      <td>10.6</td>\n",
              "      <td>25.94</td>\n",
              "      <td>137</td>\n",
              "      <td>29</td>\n",
              "    </tr>\n",
              "    <tr>\n",
              "      <th>25</th>\n",
              "      <td>Nashville</td>\n",
              "      <td>59.4</td>\n",
              "      <td>275</td>\n",
              "      <td>448</td>\n",
              "      <td>7.9</td>\n",
              "      <td>46.00</td>\n",
              "      <td>119</td>\n",
              "      <td>18</td>\n",
              "    </tr>\n",
              "    <tr>\n",
              "      <th>26</th>\n",
              "      <td>New Orleans</td>\n",
              "      <td>68.3</td>\n",
              "      <td>204</td>\n",
              "      <td>361</td>\n",
              "      <td>8.4</td>\n",
              "      <td>56.77</td>\n",
              "      <td>113</td>\n",
              "      <td>9</td>\n",
              "    </tr>\n",
              "    <tr>\n",
              "      <th>27</th>\n",
              "      <td>Norfolk</td>\n",
              "      <td>59.3</td>\n",
              "      <td>96</td>\n",
              "      <td>308</td>\n",
              "      <td>10.6</td>\n",
              "      <td>44.68</td>\n",
              "      <td>116</td>\n",
              "      <td>31</td>\n",
              "    </tr>\n",
              "    <tr>\n",
              "      <th>28</th>\n",
              "      <td>Omaha</td>\n",
              "      <td>51.5</td>\n",
              "      <td>181</td>\n",
              "      <td>347</td>\n",
              "      <td>10.9</td>\n",
              "      <td>30.18</td>\n",
              "      <td>98</td>\n",
              "      <td>14</td>\n",
              "    </tr>\n",
              "    <tr>\n",
              "      <th>29</th>\n",
              "      <td>Philadelphia</td>\n",
              "      <td>54.6</td>\n",
              "      <td>1692</td>\n",
              "      <td>1950</td>\n",
              "      <td>9.6</td>\n",
              "      <td>39.93</td>\n",
              "      <td>115</td>\n",
              "      <td>69</td>\n",
              "    </tr>\n",
              "    <tr>\n",
              "      <th>30</th>\n",
              "      <td>Phoenix</td>\n",
              "      <td>70.3</td>\n",
              "      <td>213</td>\n",
              "      <td>582</td>\n",
              "      <td>6.0</td>\n",
              "      <td>7.05</td>\n",
              "      <td>36</td>\n",
              "      <td>10</td>\n",
              "    </tr>\n",
              "    <tr>\n",
              "      <th>31</th>\n",
              "      <td>Pittsburgh</td>\n",
              "      <td>50.4</td>\n",
              "      <td>347</td>\n",
              "      <td>520</td>\n",
              "      <td>9.4</td>\n",
              "      <td>36.22</td>\n",
              "      <td>147</td>\n",
              "      <td>61</td>\n",
              "    </tr>\n",
              "    <tr>\n",
              "      <th>32</th>\n",
              "      <td>Providence</td>\n",
              "      <td>50.0</td>\n",
              "      <td>343</td>\n",
              "      <td>179</td>\n",
              "      <td>10.6</td>\n",
              "      <td>42.75</td>\n",
              "      <td>125</td>\n",
              "      <td>94</td>\n",
              "    </tr>\n",
              "    <tr>\n",
              "      <th>33</th>\n",
              "      <td>Richmond</td>\n",
              "      <td>57.8</td>\n",
              "      <td>197</td>\n",
              "      <td>299</td>\n",
              "      <td>7.6</td>\n",
              "      <td>42.59</td>\n",
              "      <td>115</td>\n",
              "      <td>26</td>\n",
              "    </tr>\n",
              "    <tr>\n",
              "      <th>34</th>\n",
              "      <td>Salt Lake City</td>\n",
              "      <td>51.0</td>\n",
              "      <td>137</td>\n",
              "      <td>176</td>\n",
              "      <td>8.7</td>\n",
              "      <td>15.17</td>\n",
              "      <td>89</td>\n",
              "      <td>28</td>\n",
              "    </tr>\n",
              "    <tr>\n",
              "      <th>35</th>\n",
              "      <td>San Francisco</td>\n",
              "      <td>56.7</td>\n",
              "      <td>453</td>\n",
              "      <td>716</td>\n",
              "      <td>8.7</td>\n",
              "      <td>20.66</td>\n",
              "      <td>67</td>\n",
              "      <td>12</td>\n",
              "    </tr>\n",
              "    <tr>\n",
              "      <th>36</th>\n",
              "      <td>Seattle</td>\n",
              "      <td>51.1</td>\n",
              "      <td>379</td>\n",
              "      <td>531</td>\n",
              "      <td>9.4</td>\n",
              "      <td>38.79</td>\n",
              "      <td>164</td>\n",
              "      <td>29</td>\n",
              "    </tr>\n",
              "    <tr>\n",
              "      <th>37</th>\n",
              "      <td>St. Louis</td>\n",
              "      <td>55.9</td>\n",
              "      <td>775</td>\n",
              "      <td>622</td>\n",
              "      <td>9.5</td>\n",
              "      <td>35.89</td>\n",
              "      <td>105</td>\n",
              "      <td>56</td>\n",
              "    </tr>\n",
              "    <tr>\n",
              "      <th>38</th>\n",
              "      <td>Washington</td>\n",
              "      <td>57.3</td>\n",
              "      <td>434</td>\n",
              "      <td>757</td>\n",
              "      <td>9.3</td>\n",
              "      <td>38.89</td>\n",
              "      <td>111</td>\n",
              "      <td>29</td>\n",
              "    </tr>\n",
              "    <tr>\n",
              "      <th>39</th>\n",
              "      <td>Wichita</td>\n",
              "      <td>56.6</td>\n",
              "      <td>125</td>\n",
              "      <td>277</td>\n",
              "      <td>12.7</td>\n",
              "      <td>30.58</td>\n",
              "      <td>82</td>\n",
              "      <td>8</td>\n",
              "    </tr>\n",
              "    <tr>\n",
              "      <th>40</th>\n",
              "      <td>Wilmington</td>\n",
              "      <td>54.0</td>\n",
              "      <td>80</td>\n",
              "      <td>80</td>\n",
              "      <td>9.0</td>\n",
              "      <td>40.25</td>\n",
              "      <td>114</td>\n",
              "      <td>36</td>\n",
              "    </tr>\n",
              "  </tbody>\n",
              "</table>\n",
              "</div>\n",
              "      <button class=\"colab-df-convert\" onclick=\"convertToInteractive('df-28591b0e-ed14-4f33-81f2-9c01284d14ef')\"\n",
              "              title=\"Convert this dataframe to an interactive table.\"\n",
              "              style=\"display:none;\">\n",
              "        \n",
              "  <svg xmlns=\"http://www.w3.org/2000/svg\" height=\"24px\"viewBox=\"0 0 24 24\"\n",
              "       width=\"24px\">\n",
              "    <path d=\"M0 0h24v24H0V0z\" fill=\"none\"/>\n",
              "    <path d=\"M18.56 5.44l.94 2.06.94-2.06 2.06-.94-2.06-.94-.94-2.06-.94 2.06-2.06.94zm-11 1L8.5 8.5l.94-2.06 2.06-.94-2.06-.94L8.5 2.5l-.94 2.06-2.06.94zm10 10l.94 2.06.94-2.06 2.06-.94-2.06-.94-.94-2.06-.94 2.06-2.06.94z\"/><path d=\"M17.41 7.96l-1.37-1.37c-.4-.4-.92-.59-1.43-.59-.52 0-1.04.2-1.43.59L10.3 9.45l-7.72 7.72c-.78.78-.78 2.05 0 2.83L4 21.41c.39.39.9.59 1.41.59.51 0 1.02-.2 1.41-.59l7.78-7.78 2.81-2.81c.8-.78.8-2.07 0-2.86zM5.41 20L4 18.59l7.72-7.72 1.47 1.35L5.41 20z\"/>\n",
              "  </svg>\n",
              "      </button>\n",
              "      \n",
              "  <style>\n",
              "    .colab-df-container {\n",
              "      display:flex;\n",
              "      flex-wrap:wrap;\n",
              "      gap: 12px;\n",
              "    }\n",
              "\n",
              "    .colab-df-convert {\n",
              "      background-color: #E8F0FE;\n",
              "      border: none;\n",
              "      border-radius: 50%;\n",
              "      cursor: pointer;\n",
              "      display: none;\n",
              "      fill: #1967D2;\n",
              "      height: 32px;\n",
              "      padding: 0 0 0 0;\n",
              "      width: 32px;\n",
              "    }\n",
              "\n",
              "    .colab-df-convert:hover {\n",
              "      background-color: #E2EBFA;\n",
              "      box-shadow: 0px 1px 2px rgba(60, 64, 67, 0.3), 0px 1px 3px 1px rgba(60, 64, 67, 0.15);\n",
              "      fill: #174EA6;\n",
              "    }\n",
              "\n",
              "    [theme=dark] .colab-df-convert {\n",
              "      background-color: #3B4455;\n",
              "      fill: #D2E3FC;\n",
              "    }\n",
              "\n",
              "    [theme=dark] .colab-df-convert:hover {\n",
              "      background-color: #434B5C;\n",
              "      box-shadow: 0px 1px 3px 1px rgba(0, 0, 0, 0.15);\n",
              "      filter: drop-shadow(0px 1px 2px rgba(0, 0, 0, 0.3));\n",
              "      fill: #FFFFFF;\n",
              "    }\n",
              "  </style>\n",
              "\n",
              "      <script>\n",
              "        const buttonEl =\n",
              "          document.querySelector('#df-28591b0e-ed14-4f33-81f2-9c01284d14ef button.colab-df-convert');\n",
              "        buttonEl.style.display =\n",
              "          google.colab.kernel.accessAllowed ? 'block' : 'none';\n",
              "\n",
              "        async function convertToInteractive(key) {\n",
              "          const element = document.querySelector('#df-28591b0e-ed14-4f33-81f2-9c01284d14ef');\n",
              "          const dataTable =\n",
              "            await google.colab.kernel.invokeFunction('convertToInteractive',\n",
              "                                                     [key], {});\n",
              "          if (!dataTable) return;\n",
              "\n",
              "          const docLinkHtml = 'Like what you see? Visit the ' +\n",
              "            '<a target=\"_blank\" href=https://colab.research.google.com/notebooks/data_table.ipynb>data table notebook</a>'\n",
              "            + ' to learn more about interactive tables.';\n",
              "          element.innerHTML = '';\n",
              "          dataTable['output_type'] = 'display_data';\n",
              "          await google.colab.output.renderOutput(dataTable, element);\n",
              "          const docLink = document.createElement('div');\n",
              "          docLink.innerHTML = docLinkHtml;\n",
              "          element.appendChild(docLink);\n",
              "        }\n",
              "      </script>\n",
              "    </div>\n",
              "  </div>\n",
              "  "
            ],
            "text/plain": [
              "            Cities  temp  manu  popul  wind  precip  predays  SO2\n",
              "0           Albany  47.6    44    116   8.8   33.36      135   46\n",
              "1      Albuquerque  56.8    46    244   8.9    7.77       58   11\n",
              "2          Atlanta  61.5   368    497   9.1   48.34      115   24\n",
              "3        Baltimore  55.0   625    905   9.6   41.31      111   47\n",
              "4          Buffalo  47.1   391    463  12.4   36.11      166   11\n",
              "5       Charleston  55.2    35     71   6.5   40.75      148   31\n",
              "6          Chicago  50.6  3344   3369  10.4   34.44      122  110\n",
              "7       Cincinnati  54.0   462    453   7.1   39.04      132   23\n",
              "8        Cleveland  49.7  1007    751  10.9   34.99      155   65\n",
              "9         Columbus  51.5   266    540   8.6   37.01      134   26\n",
              "10          Dallas  66.2   641    844  10.9   35.94       78    9\n",
              "11          Denver  51.9   454    515   9.0   12.95       86   17\n",
              "12      Des Moines  49.0   104    201  11.2   30.85      103   17\n",
              "13         Detroit  49.9  1064   1513  10.1   30.96      129   35\n",
              "14        Hartford  49.1   412    158   9.0   43.37      127   56\n",
              "15         Houston  68.9   721   1233  10.8   48.19      103   10\n",
              "16    Indianapolis  52.3   361    746   9.7   38.74      121   28\n",
              "17    Jacksonville  68.4   136    529   8.8   54.47      116   14\n",
              "18     Kansas City  54.5   381    507  10.0   37.00       99   14\n",
              "19     Little Rock  61.0    91    132   8.2   48.52      100   13\n",
              "20      Louisville  55.6   291    593   8.3   43.11      123   30\n",
              "21         Memphis  61.6   337    624   9.2   49.10      105   10\n",
              "22           Miami  75.5   207    335   9.0   59.80      128   10\n",
              "23       Milwaukee  45.7   569    717  11.8   29.07      123   16\n",
              "24     Minneapolis  43.5   699    744  10.6   25.94      137   29\n",
              "25       Nashville  59.4   275    448   7.9   46.00      119   18\n",
              "26     New Orleans  68.3   204    361   8.4   56.77      113    9\n",
              "27         Norfolk  59.3    96    308  10.6   44.68      116   31\n",
              "28           Omaha  51.5   181    347  10.9   30.18       98   14\n",
              "29    Philadelphia  54.6  1692   1950   9.6   39.93      115   69\n",
              "30         Phoenix  70.3   213    582   6.0    7.05       36   10\n",
              "31      Pittsburgh  50.4   347    520   9.4   36.22      147   61\n",
              "32      Providence  50.0   343    179  10.6   42.75      125   94\n",
              "33        Richmond  57.8   197    299   7.6   42.59      115   26\n",
              "34  Salt Lake City  51.0   137    176   8.7   15.17       89   28\n",
              "35   San Francisco  56.7   453    716   8.7   20.66       67   12\n",
              "36         Seattle  51.1   379    531   9.4   38.79      164   29\n",
              "37       St. Louis  55.9   775    622   9.5   35.89      105   56\n",
              "38      Washington  57.3   434    757   9.3   38.89      111   29\n",
              "39         Wichita  56.6   125    277  12.7   30.58       82    8\n",
              "40      Wilmington  54.0    80     80   9.0   40.25      114   36"
            ]
          },
          "metadata": {},
          "execution_count": 6
        }
      ],
      "source": [
        "df"
      ]
    },
    {
      "cell_type": "code",
      "execution_count": null,
      "metadata": {
        "colab": {
          "base_uri": "https://localhost:8080/"
        },
        "outputId": "fdd5cc30-265c-422b-ee6b-18d98a7a6850",
        "id": "1-MCSga-JoqT"
      },
      "outputs": [
        {
          "output_type": "execute_result",
          "data": {
            "text/plain": [
              "pandas.core.indexes.range.RangeIndex"
            ]
          },
          "metadata": {},
          "execution_count": 7
        }
      ],
      "source": [
        "index=df.index\n",
        "type(index)"
      ]
    },
    {
      "cell_type": "code",
      "execution_count": null,
      "metadata": {
        "colab": {
          "base_uri": "https://localhost:8080/",
          "height": 364
        },
        "id": "MwUC63ZAIxG7",
        "outputId": "4229e210-f5c0-476b-c693-21ecb6af2362"
      },
      "outputs": [
        {
          "output_type": "execute_result",
          "data": {
            "text/html": [
              "\n",
              "  <div id=\"df-81c5f0f6-603c-46e9-b37c-d7bf2e851c78\">\n",
              "    <div class=\"colab-df-container\">\n",
              "      <div>\n",
              "<style scoped>\n",
              "    .dataframe tbody tr th:only-of-type {\n",
              "        vertical-align: middle;\n",
              "    }\n",
              "\n",
              "    .dataframe tbody tr th {\n",
              "        vertical-align: top;\n",
              "    }\n",
              "\n",
              "    .dataframe thead th {\n",
              "        text-align: right;\n",
              "    }\n",
              "</style>\n",
              "<table border=\"1\" class=\"dataframe\">\n",
              "  <thead>\n",
              "    <tr style=\"text-align: right;\">\n",
              "      <th></th>\n",
              "      <th>temp</th>\n",
              "      <th>manu</th>\n",
              "      <th>popul</th>\n",
              "      <th>wind</th>\n",
              "      <th>precip</th>\n",
              "      <th>predays</th>\n",
              "      <th>SO2</th>\n",
              "    </tr>\n",
              "  </thead>\n",
              "  <tbody>\n",
              "    <tr>\n",
              "      <th>count</th>\n",
              "      <td>41.000000</td>\n",
              "      <td>41.000000</td>\n",
              "      <td>41.000000</td>\n",
              "      <td>41.000000</td>\n",
              "      <td>41.000000</td>\n",
              "      <td>41.000000</td>\n",
              "      <td>41.000000</td>\n",
              "    </tr>\n",
              "    <tr>\n",
              "      <th>mean</th>\n",
              "      <td>55.763415</td>\n",
              "      <td>463.097561</td>\n",
              "      <td>608.609756</td>\n",
              "      <td>9.443902</td>\n",
              "      <td>36.769024</td>\n",
              "      <td>113.902439</td>\n",
              "      <td>30.048780</td>\n",
              "    </tr>\n",
              "    <tr>\n",
              "      <th>std</th>\n",
              "      <td>7.227716</td>\n",
              "      <td>563.473948</td>\n",
              "      <td>579.113023</td>\n",
              "      <td>1.428644</td>\n",
              "      <td>11.771550</td>\n",
              "      <td>26.506419</td>\n",
              "      <td>23.472272</td>\n",
              "    </tr>\n",
              "    <tr>\n",
              "      <th>min</th>\n",
              "      <td>43.500000</td>\n",
              "      <td>35.000000</td>\n",
              "      <td>71.000000</td>\n",
              "      <td>6.000000</td>\n",
              "      <td>7.050000</td>\n",
              "      <td>36.000000</td>\n",
              "      <td>8.000000</td>\n",
              "    </tr>\n",
              "    <tr>\n",
              "      <th>25%</th>\n",
              "      <td>50.600000</td>\n",
              "      <td>181.000000</td>\n",
              "      <td>299.000000</td>\n",
              "      <td>8.700000</td>\n",
              "      <td>30.960000</td>\n",
              "      <td>103.000000</td>\n",
              "      <td>13.000000</td>\n",
              "    </tr>\n",
              "    <tr>\n",
              "      <th>50%</th>\n",
              "      <td>54.600000</td>\n",
              "      <td>347.000000</td>\n",
              "      <td>515.000000</td>\n",
              "      <td>9.300000</td>\n",
              "      <td>38.740000</td>\n",
              "      <td>115.000000</td>\n",
              "      <td>26.000000</td>\n",
              "    </tr>\n",
              "    <tr>\n",
              "      <th>75%</th>\n",
              "      <td>59.300000</td>\n",
              "      <td>462.000000</td>\n",
              "      <td>717.000000</td>\n",
              "      <td>10.600000</td>\n",
              "      <td>43.110000</td>\n",
              "      <td>128.000000</td>\n",
              "      <td>35.000000</td>\n",
              "    </tr>\n",
              "    <tr>\n",
              "      <th>max</th>\n",
              "      <td>75.500000</td>\n",
              "      <td>3344.000000</td>\n",
              "      <td>3369.000000</td>\n",
              "      <td>12.700000</td>\n",
              "      <td>59.800000</td>\n",
              "      <td>166.000000</td>\n",
              "      <td>110.000000</td>\n",
              "    </tr>\n",
              "  </tbody>\n",
              "</table>\n",
              "</div>\n",
              "      <button class=\"colab-df-convert\" onclick=\"convertToInteractive('df-81c5f0f6-603c-46e9-b37c-d7bf2e851c78')\"\n",
              "              title=\"Convert this dataframe to an interactive table.\"\n",
              "              style=\"display:none;\">\n",
              "        \n",
              "  <svg xmlns=\"http://www.w3.org/2000/svg\" height=\"24px\"viewBox=\"0 0 24 24\"\n",
              "       width=\"24px\">\n",
              "    <path d=\"M0 0h24v24H0V0z\" fill=\"none\"/>\n",
              "    <path d=\"M18.56 5.44l.94 2.06.94-2.06 2.06-.94-2.06-.94-.94-2.06-.94 2.06-2.06.94zm-11 1L8.5 8.5l.94-2.06 2.06-.94-2.06-.94L8.5 2.5l-.94 2.06-2.06.94zm10 10l.94 2.06.94-2.06 2.06-.94-2.06-.94-.94-2.06-.94 2.06-2.06.94z\"/><path d=\"M17.41 7.96l-1.37-1.37c-.4-.4-.92-.59-1.43-.59-.52 0-1.04.2-1.43.59L10.3 9.45l-7.72 7.72c-.78.78-.78 2.05 0 2.83L4 21.41c.39.39.9.59 1.41.59.51 0 1.02-.2 1.41-.59l7.78-7.78 2.81-2.81c.8-.78.8-2.07 0-2.86zM5.41 20L4 18.59l7.72-7.72 1.47 1.35L5.41 20z\"/>\n",
              "  </svg>\n",
              "      </button>\n",
              "      \n",
              "  <style>\n",
              "    .colab-df-container {\n",
              "      display:flex;\n",
              "      flex-wrap:wrap;\n",
              "      gap: 12px;\n",
              "    }\n",
              "\n",
              "    .colab-df-convert {\n",
              "      background-color: #E8F0FE;\n",
              "      border: none;\n",
              "      border-radius: 50%;\n",
              "      cursor: pointer;\n",
              "      display: none;\n",
              "      fill: #1967D2;\n",
              "      height: 32px;\n",
              "      padding: 0 0 0 0;\n",
              "      width: 32px;\n",
              "    }\n",
              "\n",
              "    .colab-df-convert:hover {\n",
              "      background-color: #E2EBFA;\n",
              "      box-shadow: 0px 1px 2px rgba(60, 64, 67, 0.3), 0px 1px 3px 1px rgba(60, 64, 67, 0.15);\n",
              "      fill: #174EA6;\n",
              "    }\n",
              "\n",
              "    [theme=dark] .colab-df-convert {\n",
              "      background-color: #3B4455;\n",
              "      fill: #D2E3FC;\n",
              "    }\n",
              "\n",
              "    [theme=dark] .colab-df-convert:hover {\n",
              "      background-color: #434B5C;\n",
              "      box-shadow: 0px 1px 3px 1px rgba(0, 0, 0, 0.15);\n",
              "      filter: drop-shadow(0px 1px 2px rgba(0, 0, 0, 0.3));\n",
              "      fill: #FFFFFF;\n",
              "    }\n",
              "  </style>\n",
              "\n",
              "      <script>\n",
              "        const buttonEl =\n",
              "          document.querySelector('#df-81c5f0f6-603c-46e9-b37c-d7bf2e851c78 button.colab-df-convert');\n",
              "        buttonEl.style.display =\n",
              "          google.colab.kernel.accessAllowed ? 'block' : 'none';\n",
              "\n",
              "        async function convertToInteractive(key) {\n",
              "          const element = document.querySelector('#df-81c5f0f6-603c-46e9-b37c-d7bf2e851c78');\n",
              "          const dataTable =\n",
              "            await google.colab.kernel.invokeFunction('convertToInteractive',\n",
              "                                                     [key], {});\n",
              "          if (!dataTable) return;\n",
              "\n",
              "          const docLinkHtml = 'Like what you see? Visit the ' +\n",
              "            '<a target=\"_blank\" href=https://colab.research.google.com/notebooks/data_table.ipynb>data table notebook</a>'\n",
              "            + ' to learn more about interactive tables.';\n",
              "          element.innerHTML = '';\n",
              "          dataTable['output_type'] = 'display_data';\n",
              "          await google.colab.output.renderOutput(dataTable, element);\n",
              "          const docLink = document.createElement('div');\n",
              "          docLink.innerHTML = docLinkHtml;\n",
              "          element.appendChild(docLink);\n",
              "        }\n",
              "      </script>\n",
              "    </div>\n",
              "  </div>\n",
              "  "
            ],
            "text/plain": [
              "            temp         manu        popul  ...     precip     predays         SO2\n",
              "count  41.000000    41.000000    41.000000  ...  41.000000   41.000000   41.000000\n",
              "mean   55.763415   463.097561   608.609756  ...  36.769024  113.902439   30.048780\n",
              "std     7.227716   563.473948   579.113023  ...  11.771550   26.506419   23.472272\n",
              "min    43.500000    35.000000    71.000000  ...   7.050000   36.000000    8.000000\n",
              "25%    50.600000   181.000000   299.000000  ...  30.960000  103.000000   13.000000\n",
              "50%    54.600000   347.000000   515.000000  ...  38.740000  115.000000   26.000000\n",
              "75%    59.300000   462.000000   717.000000  ...  43.110000  128.000000   35.000000\n",
              "max    75.500000  3344.000000  3369.000000  ...  59.800000  166.000000  110.000000\n",
              "\n",
              "[8 rows x 7 columns]"
            ]
          },
          "metadata": {},
          "execution_count": 8
        }
      ],
      "source": [
        "df.describe()"
      ]
    },
    {
      "cell_type": "markdown",
      "metadata": {
        "id": "X8s8ui-3IxG-"
      },
      "source": [
        "# Data Visualization"
      ]
    },
    {
      "cell_type": "code",
      "execution_count": null,
      "metadata": {
        "colab": {
          "base_uri": "https://localhost:8080/",
          "height": 935
        },
        "id": "hhnPEquEIxHF",
        "outputId": "076483c9-dc3e-4c8e-f423-a921e576567c"
      },
      "outputs": [
        {
          "output_type": "display_data",
          "data": {
            "text/html": [
              "<html>\n",
              "<head><meta charset=\"utf-8\" /></head>\n",
              "<body>\n",
              "    <div>\n",
              "            <script src=\"https://cdnjs.cloudflare.com/ajax/libs/mathjax/2.7.5/MathJax.js?config=TeX-AMS-MML_SVG\"></script><script type=\"text/javascript\">if (window.MathJax) {MathJax.Hub.Config({SVG: {font: \"STIX-Web\"}});}</script>\n",
              "                <script type=\"text/javascript\">window.PlotlyConfig = {MathJaxConfig: 'local'};</script>\n",
              "        <script src=\"https://cdn.plot.ly/plotly-latest.min.js\"></script>    \n",
              "            <div id=\"1865c026-1dc9-4485-80b9-bdfa4952682d\" class=\"plotly-graph-div\" style=\"height:900px; width:100%;\"></div>\n",
              "            <script type=\"text/javascript\">\n",
              "                \n",
              "                    window.PLOTLYENV=window.PLOTLYENV || {};\n",
              "                    \n",
              "                if (document.getElementById(\"1865c026-1dc9-4485-80b9-bdfa4952682d\")) {\n",
              "                    Plotly.newPlot(\n",
              "                        '1865c026-1dc9-4485-80b9-bdfa4952682d',\n",
              "                        [{\"dimensions\": [{\"axis\": {\"matches\": true}, \"label\": \"Cities\", \"values\": [\"Albany\", \"Albuquerque\", \"Atlanta\", \"Baltimore\", \"Buffalo\", \"Charleston\", \"Chicago\", \"Cincinnati\", \"Cleveland\", \"Columbus\", \"Dallas\", \"Denver\", \"Des Moines\", \"Detroit\", \"Hartford\", \"Houston\", \"Indianapolis\", \"Jacksonville\", \"Kansas City\", \"Little Rock\", \"Louisville\", \"Memphis\", \"Miami\", \"Milwaukee\", \"Minneapolis\", \"Nashville\", \"New Orleans\", \"Norfolk\", \"Omaha\", \"Philadelphia\", \"Phoenix\", \"Pittsburgh\", \"Providence\", \"Richmond\", \"Salt Lake City\", \"San Francisco\", \"Seattle\", \"St. Louis\", \"Washington\", \"Wichita\", \"Wilmington\"]}, {\"axis\": {\"matches\": true}, \"label\": \"temp\", \"values\": [47.6, 56.8, 61.5, 55.0, 47.1, 55.2, 50.6, 54.0, 49.7, 51.5, 66.2, 51.9, 49.0, 49.9, 49.1, 68.9, 52.3, 68.4, 54.5, 61.0, 55.6, 61.6, 75.5, 45.7, 43.5, 59.4, 68.3, 59.3, 51.5, 54.6, 70.3, 50.4, 50.0, 57.8, 51.0, 56.7, 51.1, 55.9, 57.3, 56.6, 54.0]}, {\"axis\": {\"matches\": true}, \"label\": \"manu\", \"values\": [44, 46, 368, 625, 391, 35, 3344, 462, 1007, 266, 641, 454, 104, 1064, 412, 721, 361, 136, 381, 91, 291, 337, 207, 569, 699, 275, 204, 96, 181, 1692, 213, 347, 343, 197, 137, 453, 379, 775, 434, 125, 80]}, {\"axis\": {\"matches\": true}, \"label\": \"popul\", \"values\": [116, 244, 497, 905, 463, 71, 3369, 453, 751, 540, 844, 515, 201, 1513, 158, 1233, 746, 529, 507, 132, 593, 624, 335, 717, 744, 448, 361, 308, 347, 1950, 582, 520, 179, 299, 176, 716, 531, 622, 757, 277, 80]}, {\"axis\": {\"matches\": true}, \"label\": \"wind\", \"values\": [8.8, 8.9, 9.1, 9.6, 12.4, 6.5, 10.4, 7.1, 10.9, 8.6, 10.9, 9.0, 11.2, 10.1, 9.0, 10.8, 9.7, 8.8, 10.0, 8.2, 8.3, 9.2, 9.0, 11.8, 10.6, 7.9, 8.4, 10.6, 10.9, 9.6, 6.0, 9.4, 10.6, 7.6, 8.7, 8.7, 9.4, 9.5, 9.3, 12.7, 9.0]}, {\"axis\": {\"matches\": true}, \"label\": \"precip\", \"values\": [33.36, 7.77, 48.34, 41.31, 36.11, 40.75, 34.44, 39.04, 34.99, 37.01, 35.94, 12.95, 30.85, 30.96, 43.37, 48.19, 38.74, 54.47, 37.0, 48.52, 43.11, 49.1, 59.8, 29.07, 25.94, 46.0, 56.77, 44.68, 30.18, 39.93, 7.05, 36.22, 42.75, 42.59, 15.17, 20.66, 38.79, 35.89, 38.89, 30.58, 40.25]}, {\"axis\": {\"matches\": true}, \"label\": \"predays\", \"values\": [135, 58, 115, 111, 166, 148, 122, 132, 155, 134, 78, 86, 103, 129, 127, 103, 121, 116, 99, 100, 123, 105, 128, 123, 137, 119, 113, 116, 98, 115, 36, 147, 125, 115, 89, 67, 164, 105, 111, 82, 114]}, {\"axis\": {\"matches\": true}, \"label\": \"SO2\", \"values\": [46, 11, 24, 47, 11, 31, 110, 23, 65, 26, 9, 17, 17, 35, 56, 10, 28, 14, 14, 13, 30, 10, 10, 16, 29, 18, 9, 31, 14, 69, 10, 61, 94, 26, 28, 12, 29, 56, 29, 8, 36]}], \"hoverlabel\": {\"namelength\": 0}, \"hovertemplate\": \"%{xaxis.title.text}=%{x}<br>%{yaxis.title.text}=%{y}<br>SO2=%{marker.color}\", \"legendgroup\": \"\", \"marker\": {\"color\": [46, 11, 24, 47, 11, 31, 110, 23, 65, 26, 9, 17, 17, 35, 56, 10, 28, 14, 14, 13, 30, 10, 10, 16, 29, 18, 9, 31, 14, 69, 10, 61, 94, 26, 28, 12, 29, 56, 29, 8, 36], \"coloraxis\": \"coloraxis\", \"symbol\": \"circle\"}, \"name\": \"\", \"showlegend\": false, \"type\": \"splom\"}],\n",
              "                        {\"coloraxis\": {\"colorbar\": {\"title\": {\"text\": \"SO2\"}}, \"colorscale\": [[0.0, \"rgb(0, 147, 146)\"], [0.16666666666666666, \"rgb(114, 170, 161)\"], [0.3333333333333333, \"rgb(177, 199, 179)\"], [0.5, \"rgb(241, 234, 200)\"], [0.6666666666666666, \"rgb(229, 185, 173)\"], [0.8333333333333334, \"rgb(217, 137, 148)\"], [1.0, \"rgb(208, 88, 126)\"]]}, \"dragmode\": \"select\", \"height\": 900, \"legend\": {\"tracegroupgap\": 0}, \"margin\": {\"t\": 60}, \"template\": {\"data\": {\"bar\": [{\"error_x\": {\"color\": \"#2a3f5f\"}, \"error_y\": {\"color\": \"#2a3f5f\"}, \"marker\": {\"line\": {\"color\": \"#E5ECF6\", \"width\": 0.5}}, \"type\": \"bar\"}], \"barpolar\": [{\"marker\": {\"line\": {\"color\": \"#E5ECF6\", \"width\": 0.5}}, \"type\": \"barpolar\"}], \"carpet\": [{\"aaxis\": {\"endlinecolor\": \"#2a3f5f\", \"gridcolor\": \"white\", \"linecolor\": \"white\", \"minorgridcolor\": \"white\", \"startlinecolor\": \"#2a3f5f\"}, \"baxis\": {\"endlinecolor\": \"#2a3f5f\", \"gridcolor\": \"white\", \"linecolor\": \"white\", \"minorgridcolor\": \"white\", \"startlinecolor\": \"#2a3f5f\"}, \"type\": \"carpet\"}], \"choropleth\": [{\"colorbar\": {\"outlinewidth\": 0, \"ticks\": \"\"}, \"type\": \"choropleth\"}], \"contour\": [{\"colorbar\": {\"outlinewidth\": 0, \"ticks\": \"\"}, \"colorscale\": [[0.0, \"#0d0887\"], [0.1111111111111111, \"#46039f\"], [0.2222222222222222, \"#7201a8\"], [0.3333333333333333, \"#9c179e\"], [0.4444444444444444, \"#bd3786\"], [0.5555555555555556, \"#d8576b\"], [0.6666666666666666, \"#ed7953\"], [0.7777777777777778, \"#fb9f3a\"], [0.8888888888888888, \"#fdca26\"], [1.0, \"#f0f921\"]], \"type\": \"contour\"}], \"contourcarpet\": [{\"colorbar\": {\"outlinewidth\": 0, \"ticks\": \"\"}, \"type\": \"contourcarpet\"}], \"heatmap\": [{\"colorbar\": {\"outlinewidth\": 0, \"ticks\": \"\"}, \"colorscale\": [[0.0, \"#0d0887\"], [0.1111111111111111, \"#46039f\"], [0.2222222222222222, \"#7201a8\"], [0.3333333333333333, \"#9c179e\"], [0.4444444444444444, \"#bd3786\"], [0.5555555555555556, \"#d8576b\"], [0.6666666666666666, \"#ed7953\"], [0.7777777777777778, \"#fb9f3a\"], [0.8888888888888888, \"#fdca26\"], [1.0, \"#f0f921\"]], \"type\": \"heatmap\"}], \"heatmapgl\": [{\"colorbar\": {\"outlinewidth\": 0, \"ticks\": \"\"}, \"colorscale\": [[0.0, \"#0d0887\"], [0.1111111111111111, \"#46039f\"], [0.2222222222222222, \"#7201a8\"], [0.3333333333333333, \"#9c179e\"], [0.4444444444444444, \"#bd3786\"], [0.5555555555555556, \"#d8576b\"], [0.6666666666666666, \"#ed7953\"], [0.7777777777777778, \"#fb9f3a\"], [0.8888888888888888, \"#fdca26\"], [1.0, \"#f0f921\"]], \"type\": \"heatmapgl\"}], \"histogram\": [{\"marker\": {\"colorbar\": {\"outlinewidth\": 0, \"ticks\": \"\"}}, \"type\": \"histogram\"}], \"histogram2d\": [{\"colorbar\": {\"outlinewidth\": 0, \"ticks\": \"\"}, \"colorscale\": [[0.0, \"#0d0887\"], [0.1111111111111111, \"#46039f\"], [0.2222222222222222, \"#7201a8\"], [0.3333333333333333, \"#9c179e\"], [0.4444444444444444, \"#bd3786\"], [0.5555555555555556, \"#d8576b\"], [0.6666666666666666, \"#ed7953\"], [0.7777777777777778, \"#fb9f3a\"], [0.8888888888888888, \"#fdca26\"], [1.0, \"#f0f921\"]], \"type\": \"histogram2d\"}], \"histogram2dcontour\": [{\"colorbar\": {\"outlinewidth\": 0, \"ticks\": \"\"}, \"colorscale\": [[0.0, \"#0d0887\"], [0.1111111111111111, \"#46039f\"], [0.2222222222222222, \"#7201a8\"], [0.3333333333333333, \"#9c179e\"], [0.4444444444444444, \"#bd3786\"], [0.5555555555555556, \"#d8576b\"], [0.6666666666666666, \"#ed7953\"], [0.7777777777777778, \"#fb9f3a\"], [0.8888888888888888, \"#fdca26\"], [1.0, \"#f0f921\"]], \"type\": \"histogram2dcontour\"}], \"mesh3d\": [{\"colorbar\": {\"outlinewidth\": 0, \"ticks\": \"\"}, \"type\": \"mesh3d\"}], \"parcoords\": [{\"line\": {\"colorbar\": {\"outlinewidth\": 0, \"ticks\": \"\"}}, \"type\": \"parcoords\"}], \"pie\": [{\"automargin\": true, \"type\": \"pie\"}], \"scatter\": [{\"marker\": {\"colorbar\": {\"outlinewidth\": 0, \"ticks\": \"\"}}, \"type\": \"scatter\"}], \"scatter3d\": [{\"line\": {\"colorbar\": {\"outlinewidth\": 0, \"ticks\": \"\"}}, \"marker\": {\"colorbar\": {\"outlinewidth\": 0, \"ticks\": \"\"}}, \"type\": \"scatter3d\"}], \"scattercarpet\": [{\"marker\": {\"colorbar\": {\"outlinewidth\": 0, \"ticks\": \"\"}}, \"type\": \"scattercarpet\"}], \"scattergeo\": [{\"marker\": {\"colorbar\": {\"outlinewidth\": 0, \"ticks\": \"\"}}, \"type\": \"scattergeo\"}], \"scattergl\": [{\"marker\": {\"colorbar\": {\"outlinewidth\": 0, \"ticks\": \"\"}}, \"type\": \"scattergl\"}], \"scattermapbox\": [{\"marker\": {\"colorbar\": {\"outlinewidth\": 0, \"ticks\": \"\"}}, \"type\": \"scattermapbox\"}], \"scatterpolar\": [{\"marker\": {\"colorbar\": {\"outlinewidth\": 0, \"ticks\": \"\"}}, \"type\": \"scatterpolar\"}], \"scatterpolargl\": [{\"marker\": {\"colorbar\": {\"outlinewidth\": 0, \"ticks\": \"\"}}, \"type\": \"scatterpolargl\"}], \"scatterternary\": [{\"marker\": {\"colorbar\": {\"outlinewidth\": 0, \"ticks\": \"\"}}, \"type\": \"scatterternary\"}], \"surface\": [{\"colorbar\": {\"outlinewidth\": 0, \"ticks\": \"\"}, \"colorscale\": [[0.0, \"#0d0887\"], [0.1111111111111111, \"#46039f\"], [0.2222222222222222, \"#7201a8\"], [0.3333333333333333, \"#9c179e\"], [0.4444444444444444, \"#bd3786\"], [0.5555555555555556, \"#d8576b\"], [0.6666666666666666, \"#ed7953\"], [0.7777777777777778, \"#fb9f3a\"], [0.8888888888888888, \"#fdca26\"], [1.0, \"#f0f921\"]], \"type\": \"surface\"}], \"table\": [{\"cells\": {\"fill\": {\"color\": \"#EBF0F8\"}, \"line\": {\"color\": \"white\"}}, \"header\": {\"fill\": {\"color\": \"#C8D4E3\"}, \"line\": {\"color\": \"white\"}}, \"type\": \"table\"}]}, \"layout\": {\"annotationdefaults\": {\"arrowcolor\": \"#2a3f5f\", \"arrowhead\": 0, \"arrowwidth\": 1}, \"coloraxis\": {\"colorbar\": {\"outlinewidth\": 0, \"ticks\": \"\"}}, \"colorscale\": {\"diverging\": [[0, \"#8e0152\"], [0.1, \"#c51b7d\"], [0.2, \"#de77ae\"], [0.3, \"#f1b6da\"], [0.4, \"#fde0ef\"], [0.5, \"#f7f7f7\"], [0.6, \"#e6f5d0\"], [0.7, \"#b8e186\"], [0.8, \"#7fbc41\"], [0.9, \"#4d9221\"], [1, \"#276419\"]], \"sequential\": [[0.0, \"#0d0887\"], [0.1111111111111111, \"#46039f\"], [0.2222222222222222, \"#7201a8\"], [0.3333333333333333, \"#9c179e\"], [0.4444444444444444, \"#bd3786\"], [0.5555555555555556, \"#d8576b\"], [0.6666666666666666, \"#ed7953\"], [0.7777777777777778, \"#fb9f3a\"], [0.8888888888888888, \"#fdca26\"], [1.0, \"#f0f921\"]], \"sequentialminus\": [[0.0, \"#0d0887\"], [0.1111111111111111, \"#46039f\"], [0.2222222222222222, \"#7201a8\"], [0.3333333333333333, \"#9c179e\"], [0.4444444444444444, \"#bd3786\"], [0.5555555555555556, \"#d8576b\"], [0.6666666666666666, \"#ed7953\"], [0.7777777777777778, \"#fb9f3a\"], [0.8888888888888888, \"#fdca26\"], [1.0, \"#f0f921\"]]}, \"colorway\": [\"#636efa\", \"#EF553B\", \"#00cc96\", \"#ab63fa\", \"#FFA15A\", \"#19d3f3\", \"#FF6692\", \"#B6E880\", \"#FF97FF\", \"#FECB52\"], \"font\": {\"color\": \"#2a3f5f\"}, \"geo\": {\"bgcolor\": \"white\", \"lakecolor\": \"white\", \"landcolor\": \"#E5ECF6\", \"showlakes\": true, \"showland\": true, \"subunitcolor\": \"white\"}, \"hoverlabel\": {\"align\": \"left\"}, \"hovermode\": \"closest\", \"mapbox\": {\"style\": \"light\"}, \"paper_bgcolor\": \"white\", \"plot_bgcolor\": \"#E5ECF6\", \"polar\": {\"angularaxis\": {\"gridcolor\": \"white\", \"linecolor\": \"white\", \"ticks\": \"\"}, \"bgcolor\": \"#E5ECF6\", \"radialaxis\": {\"gridcolor\": \"white\", \"linecolor\": \"white\", \"ticks\": \"\"}}, \"scene\": {\"xaxis\": {\"backgroundcolor\": \"#E5ECF6\", \"gridcolor\": \"white\", \"gridwidth\": 2, \"linecolor\": \"white\", \"showbackground\": true, \"ticks\": \"\", \"zerolinecolor\": \"white\"}, \"yaxis\": {\"backgroundcolor\": \"#E5ECF6\", \"gridcolor\": \"white\", \"gridwidth\": 2, \"linecolor\": \"white\", \"showbackground\": true, \"ticks\": \"\", \"zerolinecolor\": \"white\"}, \"zaxis\": {\"backgroundcolor\": \"#E5ECF6\", \"gridcolor\": \"white\", \"gridwidth\": 2, \"linecolor\": \"white\", \"showbackground\": true, \"ticks\": \"\", \"zerolinecolor\": \"white\"}}, \"shapedefaults\": {\"line\": {\"color\": \"#2a3f5f\"}}, \"ternary\": {\"aaxis\": {\"gridcolor\": \"white\", \"linecolor\": \"white\", \"ticks\": \"\"}, \"baxis\": {\"gridcolor\": \"white\", \"linecolor\": \"white\", \"ticks\": \"\"}, \"bgcolor\": \"#E5ECF6\", \"caxis\": {\"gridcolor\": \"white\", \"linecolor\": \"white\", \"ticks\": \"\"}}, \"title\": {\"x\": 0.05}, \"xaxis\": {\"automargin\": true, \"gridcolor\": \"white\", \"linecolor\": \"white\", \"ticks\": \"\", \"title\": {\"standoff\": 15}, \"zerolinecolor\": \"white\", \"zerolinewidth\": 2}, \"yaxis\": {\"automargin\": true, \"gridcolor\": \"white\", \"linecolor\": \"white\", \"ticks\": \"\", \"title\": {\"standoff\": 15}, \"zerolinecolor\": \"white\", \"zerolinewidth\": 2}}}},\n",
              "                        {\"responsive\": true}\n",
              "                    ).then(function(){\n",
              "                            \n",
              "var gd = document.getElementById('1865c026-1dc9-4485-80b9-bdfa4952682d');\n",
              "var x = new MutationObserver(function (mutations, observer) {{\n",
              "        var display = window.getComputedStyle(gd).display;\n",
              "        if (!display || display === 'none') {{\n",
              "            console.log([gd, 'removed!']);\n",
              "            Plotly.purge(gd);\n",
              "            observer.disconnect();\n",
              "        }}\n",
              "}});\n",
              "\n",
              "// Listen for the removal of the full notebook cells\n",
              "var notebookContainer = gd.closest('#notebook-container');\n",
              "if (notebookContainer) {{\n",
              "    x.observe(notebookContainer, {childList: true});\n",
              "}}\n",
              "\n",
              "// Listen for the clearing of the current output cell\n",
              "var outputEl = gd.closest('.output');\n",
              "if (outputEl) {{\n",
              "    x.observe(outputEl, {childList: true});\n",
              "}}\n",
              "\n",
              "                        })\n",
              "                };\n",
              "                \n",
              "            </script>\n",
              "        </div>\n",
              "</body>\n",
              "</html>"
            ]
          },
          "metadata": {}
        },
        {
          "output_type": "display_data",
          "data": {
            "text/plain": [
              "<Figure size 432x288 with 0 Axes>"
            ]
          },
          "metadata": {}
        }
      ],
      "source": [
        "fig = px.scatter_matrix(df, dimensions=[\"Cities\",\"temp\",\"manu\",\"popul\",\"wind\",\"precip\",\"predays\",\"SO2\"],labels={col:col.replace('_', ' ') for col in df.columns},height=900, color=\"SO2\", color_continuous_scale=px.colors.diverging.Tealrose)\n",
        "fig.show()\n",
        "plt.savefig(\"Scatter_plot.png\",dpi=400)"
      ]
    },
    {
      "cell_type": "code",
      "execution_count": null,
      "metadata": {
        "id": "BCMf4tPeIxHK",
        "outputId": "b411d87e-acde-4721-d417-a1356cefd5cd",
        "colab": {
          "base_uri": "https://localhost:8080/"
        }
      },
      "outputs": [
        {
          "output_type": "execute_result",
          "data": {
            "application/vnd.google.colaboratory.intrinsic+json": {
              "type": "string"
            },
            "text/plain": [
              "'\\nPotential outliers-\\ni)SO2 level- two cities - Providence & Chicago have exceptionally high S02 levels - 110 & 94 units\\nii) Cities- Chicago has exceptionally high population - 3369 units\\niii) Manufacturing plants - Chicago 3344 units\\n'"
            ]
          },
          "metadata": {},
          "execution_count": 27
        }
      ],
      "source": [
        "'''\n",
        "Potential outliers-\n",
        "i)SO2 level- two cities - Providence & Chicago have exceptionally high S02 levels - 110 & 94 units\n",
        "ii) Cities- Chicago has exceptionally high population - 3369 units\n",
        "iii) Manufacturing plants - Chicago 3344 units\n",
        "'''"
      ]
    },
    {
      "cell_type": "markdown",
      "source": [
        "#Box plot"
      ],
      "metadata": {
        "id": "B5FIDiB-OU-c"
      }
    },
    {
      "cell_type": "code",
      "execution_count": null,
      "metadata": {
        "id": "BsyRhxQqIxHb",
        "colab": {
          "base_uri": "https://localhost:8080/",
          "height": 261
        },
        "outputId": "00493df1-cc22-47bf-b5c5-841ef2d9f378"
      },
      "outputs": [
        {
          "output_type": "display_data",
          "data": {
            "image/png": "[encoded data removed]",
            "text/plain": [
              "<Figure size 432x288 with 2 Axes>"
            ]
          },
          "metadata": {
            "needs_background": "light"
          }
        }
      ],
      "source": [
        "# As per SO2 level\n",
        "fig,ax=plt.subplots(1,2)\n",
        "\n",
        "ax[0].boxplot(df[\"SO2\"])\n",
        "\n",
        "plt.sca(ax[0])\n",
        "plt.ylabel(\"Cities as per SO2 Level\",fontsize=8)\n",
        "\n",
        "plt.xticks([1],[\"Cities\"],rotation = \"horizontal\")\n",
        "plt.yticks(df[\"SO2\"],df[\"Cities\"],rotation=\"horizontal\")\n",
        "ax[0].tick_params(axis =\"y\",labelsize=7)\n",
        "ax[0].tick_params(axis=\"x\",labelsize=7)\n",
        "\n",
        "plt.sca(ax[1])\n",
        "ax[1].boxplot(df[\"SO2\"])\n",
        "plt.ylabel(\"SO2 level\")\n",
        "plt.xticks([1],[\"Cities\"],rotation=\"horizontal\")\n",
        "ax[1].tick_params(axis =\"y\",labelsize=8)\n",
        "plt.xticks([1],[\"Cities\"],rotation = \"horizontal\")\n",
        "ax[1].tick_params(axis=\"x\",labelsize=7)\n",
        "\n",
        "plt.subplots_adjust(left = 0.4,wspace=0.6)\n",
        "plt.savefig(\"Box_plot-1.png\",dpi=400)"
      ]
    },
    {
      "cell_type": "code",
      "source": [
        "# As per Population\n",
        "fig,ax=plt.subplots(1,2)\n",
        "\n",
        "ax[0].boxplot(df[\"popul\"])\n",
        "\n",
        "plt.sca(ax[0])\n",
        "plt.ylabel(\"Cities as per count of population\",fontsize=8)\n",
        "\n",
        "plt.xticks([1],[\"Boxplot\"],rotation = \"horizontal\")\n",
        "plt.yticks(df[\"popul\"],df[\"Cities\"],rotation=\"horizontal\")\n",
        "ax[0].tick_params(axis =\"y\",labelsize=8)\n",
        "ax[0].tick_params(axis=\"x\",labelsize=7)\n",
        "\n",
        "plt.sca(ax[1])\n",
        "ax[1].boxplot(df[\"popul\"])\n",
        "plt.xticks([1],[\"Boxplot\"],rotation=\"horizontal\")\n",
        "ax[1].tick_params(axis =\"y\",labelsize=8)\n",
        "ax[1].tick_params(axis=\"x\",labelsize=7)\n",
        "\n",
        "plt.subplots_adjust(left = 0.3,wspace=0.6)\n",
        "plt.savefig(\"Box_plot-2.png\",dpi=400)"
      ],
      "metadata": {
        "colab": {
          "base_uri": "https://localhost:8080/",
          "height": 263
        },
        "id": "5Zbt3zJNOZgI",
        "outputId": "5309d703-e4b8-4576-f4d8-214b80c96110"
      },
      "execution_count": null,
      "outputs": [
        {
          "output_type": "display_data",
          "data": {
            "image/png": "[encoded data removed]",
            "text/plain": [
              "<Figure size 432x288 with 2 Axes>"
            ]
          },
          "metadata": {
            "needs_background": "light"
          }
        }
      ]
    },
    {
      "cell_type": "code",
      "source": [
        "# As per Manufacturing uunits\n",
        "fig,ax=plt.subplots(1,2)\n",
        "\n",
        "ax[0].boxplot(df[\"manu\"])\n",
        "\n",
        "plt.sca(ax[0])\n",
        "plt.ylabel(\"Cities as per count of maufacturing units\",fontsize=8)\n",
        "\n",
        "plt.xticks([1],[\"Boxplot\"],rotation = \"horizontal\")\n",
        "plt.yticks(df[\"manu\"],df[\"Cities\"],rotation=\"horizontal\")\n",
        "ax[0].tick_params(axis =\"y\",labelsize=6)\n",
        "ax[0].tick_params(axis=\"x\",labelsize=7)\n",
        "\n",
        "plt.sca(ax[1])\n",
        "ax[1].boxplot(df[\"manu\"])\n",
        "plt.xticks([1],[\"Boxplot\"],rotation=\"horizontal\")\n",
        "ax[1].tick_params(axis =\"y\",labelsize=7)\n",
        "ax[1].tick_params(axis=\"x\",labelsize=7)\n",
        "plt.subplots_adjust(left = 0.3,wspace=0.6)\n",
        "plt.savefig(\"Box_plot-3.png\",dpi=400)\n"
      ],
      "metadata": {
        "colab": {
          "base_uri": "https://localhost:8080/",
          "height": 263
        },
        "id": "39HaMMCRR8kD",
        "outputId": "c2ece0d4-e60c-4d0d-faad-54bd47c4fdc1"
      },
      "execution_count": null,
      "outputs": [
        {
          "output_type": "display_data",
          "data": {
            "image/png": "[encoded data removed]",
            "text/plain": [
              "<Figure size 432x288 with 2 Axes>"
            ]
          },
          "metadata": {
            "needs_background": "light"
          }
        }
      ]
    },
    {
      "cell_type": "code",
      "execution_count": null,
      "metadata": {
        "id": "94-ESIANIxHO",
        "outputId": "0e939fd9-1b15-4e72-d399-9aa33072ba3a",
        "colab": {
          "base_uri": "https://localhost:8080/",
          "height": 269
        }
      },
      "outputs": [
        {
          "output_type": "display_data",
          "data": {
            "image/png": "[encoded data removed]",
            "text/plain": [
              "<Figure size 432x288 with 2 Axes>"
            ]
          },
          "metadata": {
            "needs_background": "light"
          }
        }
      ],
      "source": [
        "#Determination of correlation using heat maps\n",
        "import seaborn as sns\n",
        "sns.heatmap(df.corr(),annot = True)\n",
        "plt.savefig(\"variance-covariance_matrix.png\",dpi=400)"
      ]
    },
    {
      "cell_type": "code",
      "execution_count": null,
      "metadata": {
        "id": "QTud_MoRIxHR",
        "outputId": "a078a23f-3f43-4ba2-bfe8-3a90460ccf72",
        "colab": {
          "base_uri": "https://localhost:8080/",
          "height": 110
        }
      },
      "outputs": [
        {
          "output_type": "execute_result",
          "data": {
            "application/vnd.google.colaboratory.intrinsic+json": {
              "type": "string"
            },
            "text/plain": [
              "'\\nSignificant correlation - \\ni) Manufacturing units and Population size of city -0.95\\nii) Manufacturing units and SO2 - 0.64 \\nNow due to i)  & ii) their exist multicollinearity b/w population,Manufacturing units and S02\\n\\n\\niii)Wind and Manufacturing units - 0.24\\niv)Wind and Population units - 0.21\\nnow due to iii) and iv) their exist multicollinearity b/w wind ,manufacturing units and poulation units.\\n\\niv) average number of days of precipitation and SO2 - 0.37\\n\\nv)Temprature and SO2 level -  -0.43\\nvi)temprature and average number of days of precipitation - -0.43\\n'"
            ]
          },
          "metadata": {},
          "execution_count": 32
        }
      ],
      "source": [
        "'''\n",
        "Significant correlation - \n",
        "i) Manufacturing units and Population size of city -0.95\n",
        "ii) Manufacturing units and SO2 - 0.64 \n",
        "Now due to i)  & ii) their exist multicollinearity b/w population,Manufacturing units and S02\n",
        "\n",
        "\n",
        "iii)Wind and Manufacturing units - 0.24\n",
        "iv)Wind and Population units - 0.21\n",
        "now due to iii) and iv) their exist multicollinearity b/w wind ,manufacturing units and poulation units.\n",
        "\n",
        "iv) average number of days of precipitation and SO2 - 0.37\n",
        "\n",
        "v)Temprature and SO2 level -  -0.43\n",
        "vi)temprature and average number of days of precipitation - -0.43\n",
        "'''\n"
      ]
    },
    {
      "cell_type": "code",
      "execution_count": null,
      "metadata": {
        "id": "y_sU8mcBIxHV",
        "outputId": "76e13d43-a076-4051-fbd3-c74282290bb2",
        "colab": {
          "base_uri": "https://localhost:8080/",
          "height": 360
        }
      },
      "outputs": [
        {
          "output_type": "stream",
          "name": "stderr",
          "text": [
            "/usr/local/lib/python3.7/dist-packages/statsmodels/tools/_testing.py:19: FutureWarning:\n",
            "\n",
            "pandas.util.testing is deprecated. Use the functions in the public API at pandas.testing instead.\n",
            "\n"
          ]
        },
        {
          "output_type": "stream",
          "name": "stdout",
          "text": [
            "Index(['temp', 'manu', 'popul', 'wind', 'precip', 'predays', 'SO2'], dtype='object')\n"
          ]
        },
        {
          "output_type": "execute_result",
          "data": {
            "text/html": [
              "\n",
              "  <div id=\"df-c0a58f88-ffc2-4939-925b-6845250fcb1e\">\n",
              "    <div class=\"colab-df-container\">\n",
              "      <div>\n",
              "<style scoped>\n",
              "    .dataframe tbody tr th:only-of-type {\n",
              "        vertical-align: middle;\n",
              "    }\n",
              "\n",
              "    .dataframe tbody tr th {\n",
              "        vertical-align: top;\n",
              "    }\n",
              "\n",
              "    .dataframe thead th {\n",
              "        text-align: right;\n",
              "    }\n",
              "</style>\n",
              "<table border=\"1\" class=\"dataframe\">\n",
              "  <thead>\n",
              "    <tr style=\"text-align: right;\">\n",
              "      <th></th>\n",
              "      <th>feature</th>\n",
              "      <th>VIF</th>\n",
              "    </tr>\n",
              "  </thead>\n",
              "  <tbody>\n",
              "    <tr>\n",
              "      <th>0</th>\n",
              "      <td>temp</td>\n",
              "      <td>35.469289</td>\n",
              "    </tr>\n",
              "    <tr>\n",
              "      <th>1</th>\n",
              "      <td>manu</td>\n",
              "      <td>37.087048</td>\n",
              "    </tr>\n",
              "    <tr>\n",
              "      <th>2</th>\n",
              "      <td>popul</td>\n",
              "      <td>36.627461</td>\n",
              "    </tr>\n",
              "    <tr>\n",
              "      <th>3</th>\n",
              "      <td>wind</td>\n",
              "      <td>35.675047</td>\n",
              "    </tr>\n",
              "    <tr>\n",
              "      <th>4</th>\n",
              "      <td>precip</td>\n",
              "      <td>20.936112</td>\n",
              "    </tr>\n",
              "    <tr>\n",
              "      <th>5</th>\n",
              "      <td>predays</td>\n",
              "      <td>32.612478</td>\n",
              "    </tr>\n",
              "    <tr>\n",
              "      <th>6</th>\n",
              "      <td>SO2</td>\n",
              "      <td>6.966370</td>\n",
              "    </tr>\n",
              "  </tbody>\n",
              "</table>\n",
              "</div>\n",
              "      <button class=\"colab-df-convert\" onclick=\"convertToInteractive('df-c0a58f88-ffc2-4939-925b-6845250fcb1e')\"\n",
              "              title=\"Convert this dataframe to an interactive table.\"\n",
              "              style=\"display:none;\">\n",
              "        \n",
              "  <svg xmlns=\"http://www.w3.org/2000/svg\" height=\"24px\"viewBox=\"0 0 24 24\"\n",
              "       width=\"24px\">\n",
              "    <path d=\"M0 0h24v24H0V0z\" fill=\"none\"/>\n",
              "    <path d=\"M18.56 5.44l.94 2.06.94-2.06 2.06-.94-2.06-.94-.94-2.06-.94 2.06-2.06.94zm-11 1L8.5 8.5l.94-2.06 2.06-.94-2.06-.94L8.5 2.5l-.94 2.06-2.06.94zm10 10l.94 2.06.94-2.06 2.06-.94-2.06-.94-.94-2.06-.94 2.06-2.06.94z\"/><path d=\"M17.41 7.96l-1.37-1.37c-.4-.4-.92-.59-1.43-.59-.52 0-1.04.2-1.43.59L10.3 9.45l-7.72 7.72c-.78.78-.78 2.05 0 2.83L4 21.41c.39.39.9.59 1.41.59.51 0 1.02-.2 1.41-.59l7.78-7.78 2.81-2.81c.8-.78.8-2.07 0-2.86zM5.41 20L4 18.59l7.72-7.72 1.47 1.35L5.41 20z\"/>\n",
              "  </svg>\n",
              "      </button>\n",
              "      \n",
              "  <style>\n",
              "    .colab-df-container {\n",
              "      display:flex;\n",
              "      flex-wrap:wrap;\n",
              "      gap: 12px;\n",
              "    }\n",
              "\n",
              "    .colab-df-convert {\n",
              "      background-color: #E8F0FE;\n",
              "      border: none;\n",
              "      border-radius: 50%;\n",
              "      cursor: pointer;\n",
              "      display: none;\n",
              "      fill: #1967D2;\n",
              "      height: 32px;\n",
              "      padding: 0 0 0 0;\n",
              "      width: 32px;\n",
              "    }\n",
              "\n",
              "    .colab-df-convert:hover {\n",
              "      background-color: #E2EBFA;\n",
              "      box-shadow: 0px 1px 2px rgba(60, 64, 67, 0.3), 0px 1px 3px 1px rgba(60, 64, 67, 0.15);\n",
              "      fill: #174EA6;\n",
              "    }\n",
              "\n",
              "    [theme=dark] .colab-df-convert {\n",
              "      background-color: #3B4455;\n",
              "      fill: #D2E3FC;\n",
              "    }\n",
              "\n",
              "    [theme=dark] .colab-df-convert:hover {\n",
              "      background-color: #434B5C;\n",
              "      box-shadow: 0px 1px 3px 1px rgba(0, 0, 0, 0.15);\n",
              "      filter: drop-shadow(0px 1px 2px rgba(0, 0, 0, 0.3));\n",
              "      fill: #FFFFFF;\n",
              "    }\n",
              "  </style>\n",
              "\n",
              "      <script>\n",
              "        const buttonEl =\n",
              "          document.querySelector('#df-c0a58f88-ffc2-4939-925b-6845250fcb1e button.colab-df-convert');\n",
              "        buttonEl.style.display =\n",
              "          google.colab.kernel.accessAllowed ? 'block' : 'none';\n",
              "\n",
              "        async function convertToInteractive(key) {\n",
              "          const element = document.querySelector('#df-c0a58f88-ffc2-4939-925b-6845250fcb1e');\n",
              "          const dataTable =\n",
              "            await google.colab.kernel.invokeFunction('convertToInteractive',\n",
              "                                                     [key], {});\n",
              "          if (!dataTable) return;\n",
              "\n",
              "          const docLinkHtml = 'Like what you see? Visit the ' +\n",
              "            '<a target=\"_blank\" href=https://colab.research.google.com/notebooks/data_table.ipynb>data table notebook</a>'\n",
              "            + ' to learn more about interactive tables.';\n",
              "          element.innerHTML = '';\n",
              "          dataTable['output_type'] = 'display_data';\n",
              "          await google.colab.output.renderOutput(dataTable, element);\n",
              "          const docLink = document.createElement('div');\n",
              "          docLink.innerHTML = docLinkHtml;\n",
              "          element.appendChild(docLink);\n",
              "        }\n",
              "      </script>\n",
              "    </div>\n",
              "  </div>\n",
              "  "
            ],
            "text/plain": [
              "   feature        VIF\n",
              "0     temp  35.469289\n",
              "1     manu  37.087048\n",
              "2    popul  36.627461\n",
              "3     wind  35.675047\n",
              "4   precip  20.936112\n",
              "5  predays  32.612478\n",
              "6      SO2   6.966370"
            ]
          },
          "metadata": {},
          "execution_count": 16
        }
      ],
      "source": [
        "from statsmodels.stats.outliers_influence import variance_inflation_factor\n",
        "X=df[[\"temp\",\"manu\",\"popul\",\"wind\",\"precip\",\"predays\",\"SO2\"]]\n",
        "vif_data=pd.DataFrame()\n",
        "vif_data[\"feature\"]=X.columns\n",
        "print(X.columns)\n",
        "X.values\n",
        "vif_data[\"VIF\"]=[variance_inflation_factor(X.values,i) for i in range(len(X.columns))]\n",
        "vif_data"
      ]
    },
    {
      "cell_type": "markdown",
      "source": [
        "#There are three cities that have SO2 levels exceptionally high- Philadelphia , Providence, Chicago"
      ],
      "metadata": {
        "id": "0FK42m2zMNGe"
      }
    },
    {
      "cell_type": "markdown",
      "metadata": {
        "id": "872XdJ6fIxHb"
      },
      "source": [
        "# K-Means Clustering of cities based on SO2 levels"
      ]
    },
    {
      "cell_type": "code",
      "execution_count": null,
      "metadata": {
        "id": "oIKkh_JOIxHc"
      },
      "outputs": [],
      "source": [
        "# Clustsering\n",
        "df2=df.copy()\n",
        "# dropping two cities - CHICAGO & Providence\n",
        "for i in df2.index:\n",
        "    if df2.loc[i,\"SO2\"]>90:\n",
        "        df2.drop(i,inplace=True)\n",
        "\n",
        "X = df2.loc[:,\"SO2\"].values\n",
        "X=X.reshape(-1,1)"
      ]
    },
    {
      "cell_type": "code",
      "execution_count": null,
      "metadata": {
        "id": "8_fEliRLIxHd",
        "outputId": "66258c53-07bc-405b-f7ff-0e7df2ac265e",
        "colab": {
          "base_uri": "https://localhost:8080/",
          "height": 301
        }
      },
      "outputs": [
        {
          "output_type": "display_data",
          "data": {
            "image/png": "[encoded data removed]",
            "text/plain": [
              "<Figure size 432x288 with 1 Axes>"
            ]
          },
          "metadata": {}
        }
      ],
      "source": [
        "from sklearn.cluster import KMeans\n",
        "wcss = []\n",
        "for i in range(1, 11):\n",
        "    kmeans = KMeans(n_clusters = i, init = 'k-means++', random_state = 42)\n",
        "    kmeans.fit(X)\n",
        "    wcss.append(kmeans.inertia_)\n",
        "plt.plot(range(1, 11), wcss)\n",
        "plt.title('The Elbow Method')\n",
        "plt.xlabel('Number of clusters')\n",
        "plt.ylabel('WCSS')\n",
        "plt.show()"
      ]
    },
    {
      "cell_type": "code",
      "execution_count": null,
      "metadata": {
        "id": "skxPAMZQIxHe",
        "outputId": "9375555f-b7ee-4157-a761-ef4fb54172bd",
        "colab": {
          "base_uri": "https://localhost:8080/"
        }
      },
      "outputs": [
        {
          "output_type": "stream",
          "name": "stdout",
          "text": [
            "[0 1 2 0 1 2 2 0 2 1 1 1 2 0 1 2 1 1 1 2 1 1 1 2 1 1 2 1 0 1 0 2 2 1 2 0 2\n",
            " 1 2]\n"
          ]
        }
      ],
      "source": [
        "kmeans = KMeans(n_clusters=3, init='k-means++', max_iter=300, n_init=10, random_state=0)\n",
        "y_kmeans = kmeans.fit_predict(X)\n",
        "print(y_kmeans)"
      ]
    },
    {
      "cell_type": "code",
      "execution_count": null,
      "metadata": {
        "id": "GYsb_WF-IxHf",
        "outputId": "2085c655-46c4-4e45-da36-b996566503c0",
        "colab": {
          "base_uri": "https://localhost:8080/",
          "height": 364
        }
      },
      "outputs": [
        {
          "output_type": "display_data",
          "data": {
            "image/png": "[encoded data removed]",
            "text/plain": [
              "<Figure size 432x288 with 1 Axes>"
            ]
          },
          "metadata": {}
        }
      ],
      "source": [
        "fig,ax= plt.subplots()\n",
        "plt.scatter(df2.loc[y_kmeans == 0,\"Cities\"].values,X[y_kmeans == 0, 0], s = 100, c = 'red', label = 'Cluster 1')\n",
        "plt.scatter(df2.loc[y_kmeans == 1,\"Cities\"].values,X[y_kmeans == 1, 0], s = 100, c = 'blue', label = 'Cluster 2')\n",
        "plt.scatter(df2.loc[y_kmeans == 2,\"Cities\"].values,X[y_kmeans == 2, 0], s = 100, c = 'green', label = 'Cluster 3')\n",
        "\n",
        "\n",
        "\n",
        "plt.title('Clusters of cities as per SO2 concentration')\n",
        "plt.xlabel(\"Cities\",fontsize=10)\n",
        "plt.ylabel('SO2 concentration',fontsize=10)\n",
        "plt.xticks(rotation=90)\n",
        "plt.legend()\n",
        "plt.show()"
      ]
    },
    {
      "cell_type": "markdown",
      "source": [
        "#Cities can be clustered into 3 categories and accordingly strategy can be adopted to control SO2 levels."
      ],
      "metadata": {
        "id": "GX7IzPQlXrhe"
      }
    },
    {
      "cell_type": "markdown",
      "source": [
        "# K-Means clustering based on all predictor variables\n"
      ],
      "metadata": {
        "id": "4G4Jg7ZLXl0t"
      }
    },
    {
      "cell_type": "code",
      "execution_count": null,
      "metadata": {
        "id": "RNt8k0coIxHh",
        "outputId": "ecfbd95e-2361-4c2b-cfcf-8c9f1d6e8422",
        "colab": {
          "base_uri": "https://localhost:8080/",
          "height": 301
        }
      },
      "outputs": [
        {
          "output_type": "display_data",
          "data": {
            "image/png": "[encoded data removed]",
            "text/plain": [
              "<Figure size 432x288 with 1 Axes>"
            ]
          },
          "metadata": {}
        }
      ],
      "source": [
        "X=pd.DataFrame.to_numpy(df2[[\"temp\",\"manu\",\"popul\",\"wind\",\"precip\",\"predays\"]])\n",
        "\n",
        "wcss = []\n",
        "for i in range(1, 11):\n",
        "    kmeans = KMeans(n_clusters = i, init = 'k-means++', random_state = 42)\n",
        "    kmeans.fit(X)\n",
        "    wcss.append(kmeans.inertia_)\n",
        "plt.plot(range(1, 11), wcss)\n",
        "plt.title('The Elbow Method')\n",
        "plt.xlabel('Number of clusters')\n",
        "plt.ylabel('WCSS')\n",
        "plt.show()"
      ]
    },
    {
      "cell_type": "code",
      "execution_count": null,
      "metadata": {
        "id": "eoFXcuIgIxHj"
      },
      "outputs": [],
      "source": [
        "kmeans = KMeans(n_clusters=4 ,init='k-means++', max_iter=300, n_init=10, random_state=0)\n",
        "y_kmeans = kmeans.fit_predict(X)\n"
      ]
    },
    {
      "cell_type": "code",
      "execution_count": null,
      "metadata": {
        "id": "XtRfGJtEIxHk",
        "outputId": "f640b24b-c112-4838-96bf-8cb257576422",
        "colab": {
          "base_uri": "https://localhost:8080/"
        }
      },
      "outputs": [
        {
          "output_type": "execute_result",
          "data": {
            "text/plain": [
              "array([0, 0, 3, 1, 3, 0, 3, 1, 3, 1, 3, 0, 2, 0, 1, 3, 3, 3, 0, 3, 3, 0,\n",
              "       1, 1, 3, 0, 0, 0, 2, 3, 3, 0, 0, 3, 3, 1, 3, 0, 0], dtype=int32)"
            ]
          },
          "metadata": {},
          "execution_count": 42
        }
      ],
      "source": [
        "y_kmeans"
      ]
    },
    {
      "cell_type": "code",
      "execution_count": null,
      "metadata": {
        "id": "H2sOotteIxHl",
        "colab": {
          "base_uri": "https://localhost:8080/"
        },
        "outputId": "af73dbde-4914-44a3-ced4-467e663e98f6"
      },
      "outputs": [
        {
          "output_type": "execute_result",
          "data": {
            "text/plain": [
              "array([[  47.6 ,   44.  ,  116.  ,    8.8 ,   33.36,  135.  ],\n",
              "       [  56.8 ,   46.  ,  244.  ,    8.9 ,    7.77,   58.  ],\n",
              "       [  61.5 ,  368.  ,  497.  ,    9.1 ,   48.34,  115.  ],\n",
              "       [  55.  ,  625.  ,  905.  ,    9.6 ,   41.31,  111.  ],\n",
              "       [  47.1 ,  391.  ,  463.  ,   12.4 ,   36.11,  166.  ],\n",
              "       [  55.2 ,   35.  ,   71.  ,    6.5 ,   40.75,  148.  ],\n",
              "       [  54.  ,  462.  ,  453.  ,    7.1 ,   39.04,  132.  ],\n",
              "       [  49.7 , 1007.  ,  751.  ,   10.9 ,   34.99,  155.  ],\n",
              "       [  51.5 ,  266.  ,  540.  ,    8.6 ,   37.01,  134.  ],\n",
              "       [  66.2 ,  641.  ,  844.  ,   10.9 ,   35.94,   78.  ],\n",
              "       [  51.9 ,  454.  ,  515.  ,    9.  ,   12.95,   86.  ],\n",
              "       [  49.  ,  104.  ,  201.  ,   11.2 ,   30.85,  103.  ],\n",
              "       [  49.9 , 1064.  , 1513.  ,   10.1 ,   30.96,  129.  ],\n",
              "       [  49.1 ,  412.  ,  158.  ,    9.  ,   43.37,  127.  ],\n",
              "       [  68.9 ,  721.  , 1233.  ,   10.8 ,   48.19,  103.  ],\n",
              "       [  52.3 ,  361.  ,  746.  ,    9.7 ,   38.74,  121.  ],\n",
              "       [  68.4 ,  136.  ,  529.  ,    8.8 ,   54.47,  116.  ],\n",
              "       [  54.5 ,  381.  ,  507.  ,   10.  ,   37.  ,   99.  ],\n",
              "       [  61.  ,   91.  ,  132.  ,    8.2 ,   48.52,  100.  ],\n",
              "       [  55.6 ,  291.  ,  593.  ,    8.3 ,   43.11,  123.  ],\n",
              "       [  61.6 ,  337.  ,  624.  ,    9.2 ,   49.1 ,  105.  ],\n",
              "       [  75.5 ,  207.  ,  335.  ,    9.  ,   59.8 ,  128.  ],\n",
              "       [  45.7 ,  569.  ,  717.  ,   11.8 ,   29.07,  123.  ],\n",
              "       [  43.5 ,  699.  ,  744.  ,   10.6 ,   25.94,  137.  ],\n",
              "       [  59.4 ,  275.  ,  448.  ,    7.9 ,   46.  ,  119.  ],\n",
              "       [  68.3 ,  204.  ,  361.  ,    8.4 ,   56.77,  113.  ],\n",
              "       [  59.3 ,   96.  ,  308.  ,   10.6 ,   44.68,  116.  ],\n",
              "       [  51.5 ,  181.  ,  347.  ,   10.9 ,   30.18,   98.  ],\n",
              "       [  54.6 , 1692.  , 1950.  ,    9.6 ,   39.93,  115.  ],\n",
              "       [  70.3 ,  213.  ,  582.  ,    6.  ,    7.05,   36.  ],\n",
              "       [  50.4 ,  347.  ,  520.  ,    9.4 ,   36.22,  147.  ],\n",
              "       [  57.8 ,  197.  ,  299.  ,    7.6 ,   42.59,  115.  ],\n",
              "       [  51.  ,  137.  ,  176.  ,    8.7 ,   15.17,   89.  ],\n",
              "       [  56.7 ,  453.  ,  716.  ,    8.7 ,   20.66,   67.  ],\n",
              "       [  51.1 ,  379.  ,  531.  ,    9.4 ,   38.79,  164.  ],\n",
              "       [  55.9 ,  775.  ,  622.  ,    9.5 ,   35.89,  105.  ],\n",
              "       [  57.3 ,  434.  ,  757.  ,    9.3 ,   38.89,  111.  ],\n",
              "       [  56.6 ,  125.  ,  277.  ,   12.7 ,   30.58,   82.  ],\n",
              "       [  54.  ,   80.  ,   80.  ,    9.  ,   40.25,  114.  ]])"
            ]
          },
          "metadata": {},
          "execution_count": 43
        }
      ],
      "source": [
        "X"
      ]
    },
    {
      "cell_type": "code",
      "execution_count": null,
      "metadata": {
        "id": "A_9Lb7nwIxHm",
        "outputId": "8644a9b0-bc92-4ee5-c06c-47e366ac1cc2",
        "colab": {
          "base_uri": "https://localhost:8080/",
          "height": 774
        }
      },
      "outputs": [
        {
          "output_type": "display_data",
          "data": {
            "image/png": "[encoded data removed]",
            "text/plain": [
              "<Figure size 864x864 with 6 Axes>"
            ]
          },
          "metadata": {}
        }
      ],
      "source": [
        "fig ,ax = plt.subplots(nrows=2,ncols=3,figsize=(12,12))\n",
        "ax[0,0].scatter(df2.loc[y_kmeans == 0,\"Cities\"].values,X[y_kmeans == 0, 0], s = 100, c = 'red', label = 'Cluster 1')\n",
        "ax[0,0].scatter(df2.loc[y_kmeans == 1,\"Cities\"].values,X[y_kmeans == 1, 0], s = 100, c = 'blue', label = 'Cluster 2')\n",
        "ax[0,0].scatter(df2.loc[y_kmeans == 2,\"Cities\"].values,X[y_kmeans == 2, 0], s = 100, c = 'green', label = 'Cluster 3')\n",
        "ax[0,0].scatter(df2.loc[y_kmeans == 3,\"Cities\"].values,X[y_kmeans == 3, 0], s = 100, c = 'pink', label = 'Cluster 4')\n",
        "\n",
        "ax[0,1].scatter(df2.loc[y_kmeans == 0,\"Cities\"].values,X[y_kmeans == 0, 1], s = 100, c = 'red', label = 'Cluster 1')\n",
        "ax[0,1].scatter(df2.loc[y_kmeans == 1,\"Cities\"].values,X[y_kmeans == 1, 1], s = 100, c = 'blue', label = 'Cluster 2')\n",
        "ax[0,1].scatter(df2.loc[y_kmeans == 2,\"Cities\"].values,X[y_kmeans == 2, 1], s = 100, c = 'green', label = 'Cluster 3')\n",
        "ax[0,1].scatter(df2.loc[y_kmeans == 3,\"Cities\"].values,X[y_kmeans == 3, 1], s = 100, c = 'pink', label = 'Cluster 3')\n",
        "\n",
        "ax[0,2].scatter(df2.loc[y_kmeans == 0,\"Cities\"].values,X[y_kmeans == 0, 2], s = 100, c = 'red', label = 'Cluster 1')\n",
        "ax[0,2].scatter(df2.loc[y_kmeans == 1,\"Cities\"].values,X[y_kmeans == 1, 2], s = 100, c = 'blue', label = 'Cluster 2')\n",
        "ax[0,2].scatter(df2.loc[y_kmeans == 2,\"Cities\"].values,X[y_kmeans == 2, 2], s = 100, c = 'green', label = 'Cluster 3')\n",
        "ax[0,2].scatter(df2.loc[y_kmeans == 3,\"Cities\"].values,X[y_kmeans == 3, 2], s = 100, c = 'pink', label = 'Cluster 4')\n",
        "\n",
        "ax[1,0].scatter(df2.loc[y_kmeans == 0,\"Cities\"].values,X[y_kmeans == 0, 3], s = 100, c = 'red', label = 'Cluster 1')\n",
        "ax[1,0].scatter(df2.loc[y_kmeans == 1,\"Cities\"].values,X[y_kmeans == 1, 3], s = 100, c = 'blue', label = 'Cluster 2')\n",
        "ax[1,0].scatter(df2.loc[y_kmeans == 2,\"Cities\"].values,X[y_kmeans == 2, 3], s = 100, c = 'green', label = 'Cluster 3')\n",
        "ax[1,0].scatter(df2.loc[y_kmeans == 3,\"Cities\"].values,X[y_kmeans == 3, 3], s = 100, c = 'pink', label = 'Cluster 4')\n",
        "\n",
        "ax[1,1].scatter(df2.loc[y_kmeans == 0,\"Cities\"].values,X[y_kmeans == 0, 4], s = 100, c = 'red', label = 'Cluster 1')\n",
        "ax[1,1].scatter(df2.loc[y_kmeans == 1,\"Cities\"].values,X[y_kmeans == 1, 4], s = 100, c = 'blue', label = 'Cluster 2')\n",
        "ax[1,1].scatter(df2.loc[y_kmeans == 2,\"Cities\"].values,X[y_kmeans == 2, 4], s = 100, c = 'green', label = 'Cluster 3')\n",
        "ax[1,1].scatter(df2.loc[y_kmeans == 3,\"Cities\"].values,X[y_kmeans == 3, 0], s = 100, c = 'pink', label = 'Cluster 4')\n",
        "\n",
        "ax[1,2].scatter(df2.loc[y_kmeans == 0,\"Cities\"].values,X[y_kmeans == 0, 5], s = 100, c = 'red', label = 'Cluster 1')\n",
        "ax[1,2].scatter(df2.loc[y_kmeans == 1,\"Cities\"].values,X[y_kmeans == 1, 5], s = 100, c = 'blue', label = 'Cluster 2')\n",
        "ax[1,2].scatter(df2.loc[y_kmeans == 2,\"Cities\"].values,X[y_kmeans == 2, 5], s = 100, c = 'green', label = 'Cluster 3')\n",
        "ax[1,2].scatter(df2.loc[y_kmeans == 3,\"Cities\"].values,X[y_kmeans == 3, 0], s = 100, c = 'pink', label = 'Cluster 4')\n",
        "\n",
        "\n",
        "plt.sca(ax[0, 0])\n",
        "plt.title('Clusters of cities as per Temp concentration')\n",
        "plt.xlabel(\"Cities\",fontsize='16')\n",
        "plt.ylabel('Temperature',fontsize='10')\n",
        "plt.xticks(rotation=90)\n",
        "ax[0,0].tick_params(axis='x',labelsize=7)\n",
        "\n",
        "\n",
        "# PLOT -2\n",
        "\n",
        "\n",
        "plt.sca(ax[0, 1])\n",
        "\n",
        "plt.title('Clusters of cities as per Manu')\n",
        "plt.xlabel(\"Cities\",fontsize='16')\n",
        "plt.ylabel(\"Manufacturing plants\",fontsize='10')\n",
        "plt.xticks(rotation=90)\n",
        "ax[0,1].tick_params(axis='x',labelsize=7)\n",
        "\n",
        "\n",
        "# PLOT -3\n",
        "plt.sca(ax[0, 2])\n",
        "\n",
        "plt.title('Clusters of cities as per Population')\n",
        "plt.xlabel(\"Cities\",fontsize='12')\n",
        "plt.ylabel('Population',fontsize='10')\n",
        "plt.xticks(rotation=90)\n",
        "ax[0,2].tick_params(axis='x',labelsize=7)\n",
        "\n",
        "\n",
        "# PLOT -4\n",
        "plt.sca(ax[1, 0])\n",
        "\n",
        "plt.title('Clusters of cities as per Wind')\n",
        "plt.xlabel(\"Cities\",fontsize='12')\n",
        "plt.ylabel('Wind',fontsize='10')\n",
        "plt.xticks(rotation=90)\n",
        "ax[1,0].tick_params(axis='x',labelsize=7)\n",
        "\n",
        "\n",
        "# PLOT -5\n",
        "plt.sca(ax[1, 1])\n",
        "\n",
        "plt.title('Clusters of cities as per Precip')\n",
        "plt.xlabel(\"Cties\",fontsize='12')\n",
        "plt.ylabel('Precipitation',fontsize='10')\n",
        "plt.xticks(rotation=90)\n",
        "ax[1,1].tick_params(axis='x',labelsize=7)\n",
        "\n",
        "\n",
        "# PLOT -6\n",
        "plt.sca(ax[1, 2])\n",
        "\n",
        "plt.title('Clusters of cities as per Predays')\n",
        "plt.xlabel(\"Cities\",fontsize='12')\n",
        "plt.ylabel('Predays',fontsize='10')\n",
        "plt.xticks(rotation=90)\n",
        "ax[1,2].tick_params(axis='x',labelsize=7)\n"
      ]
    },
    {
      "cell_type": "markdown",
      "source": [
        "#Better to cluster it into 3 clusters."
      ],
      "metadata": {
        "id": "nD8gYuPEZft_"
      }
    },
    {
      "cell_type": "code",
      "execution_count": null,
      "metadata": {
        "id": "RbAJTQlxIxHq",
        "colab": {
          "base_uri": "https://localhost:8080/"
        },
        "outputId": "1f93e4a0-0f38-4a2c-cf6b-5459d1d2e935"
      },
      "outputs": [
        {
          "output_type": "display_data",
          "data": {
            "text/html": [
              "<html>\n",
              "<head><meta charset=\"utf-8\" /></head>\n",
              "<body>\n",
              "    <div>\n",
              "            <script src=\"https://cdnjs.cloudflare.com/ajax/libs/mathjax/2.7.5/MathJax.js?config=TeX-AMS-MML_SVG\"></script><script type=\"text/javascript\">if (window.MathJax) {MathJax.Hub.Config({SVG: {font: \"STIX-Web\"}});}</script>\n",
              "                <script type=\"text/javascript\">window.PlotlyConfig = {MathJaxConfig: 'local'};</script>\n",
              "        <script src=\"https://cdn.plot.ly/plotly-latest.min.js\"></script>    \n",
              "            <div id=\"00c1f817-4884-4ea3-bc8e-bf63a87a7162\" class=\"plotly-graph-div\" style=\"height:525px; width:100%;\"></div>\n",
              "            <script type=\"text/javascript\">\n",
              "                \n",
              "                    window.PLOTLYENV=window.PLOTLYENV || {};\n",
              "                    \n",
              "                if (document.getElementById(\"00c1f817-4884-4ea3-bc8e-bf63a87a7162\")) {\n",
              "                    Plotly.newPlot(\n",
              "                        '00c1f817-4884-4ea3-bc8e-bf63a87a7162',\n",
              "                        [{\"hoverlabel\": {\"namelength\": 0}, \"hovertemplate\": \"manu=%{x}<br>popul=%{y}<br>SO2=%{z}\", \"legendgroup\": \"\", \"marker\": {\"color\": \"#636efa\", \"symbol\": \"circle\"}, \"mode\": \"markers\", \"name\": \"\", \"scene\": \"scene\", \"showlegend\": false, \"type\": \"scatter3d\", \"x\": [44, 46, 368, 625, 391, 35, 3344, 462, 1007, 266, 641, 454, 104, 1064, 412, 721, 361, 136, 381, 91, 291, 337, 207, 569, 699, 275, 204, 96, 181, 1692, 213, 347, 343, 197, 137, 453, 379, 775, 434, 125, 80], \"y\": [116, 244, 497, 905, 463, 71, 3369, 453, 751, 540, 844, 515, 201, 1513, 158, 1233, 746, 529, 507, 132, 593, 624, 335, 717, 744, 448, 361, 308, 347, 1950, 582, 520, 179, 299, 176, 716, 531, 622, 757, 277, 80], \"z\": [46, 11, 24, 47, 11, 31, 110, 23, 65, 26, 9, 17, 17, 35, 56, 10, 28, 14, 14, 13, 30, 10, 10, 16, 29, 18, 9, 31, 14, 69, 10, 61, 94, 26, 28, 12, 29, 56, 29, 8, 36]}],\n",
              "                        {\"legend\": {\"tracegroupgap\": 0}, \"margin\": {\"t\": 60}, \"scene\": {\"domain\": {\"x\": [0.0, 1.0], \"y\": [0.0, 1.0]}, \"xaxis\": {\"title\": {\"text\": \"manu\"}}, \"yaxis\": {\"title\": {\"text\": \"popul\"}}, \"zaxis\": {\"title\": {\"text\": \"SO2\"}}}, \"template\": {\"data\": {\"bar\": [{\"error_x\": {\"color\": \"#2a3f5f\"}, \"error_y\": {\"color\": \"#2a3f5f\"}, \"marker\": {\"line\": {\"color\": \"#E5ECF6\", \"width\": 0.5}}, \"type\": \"bar\"}], \"barpolar\": [{\"marker\": {\"line\": {\"color\": \"#E5ECF6\", \"width\": 0.5}}, \"type\": \"barpolar\"}], \"carpet\": [{\"aaxis\": {\"endlinecolor\": \"#2a3f5f\", \"gridcolor\": \"white\", \"linecolor\": \"white\", \"minorgridcolor\": \"white\", \"startlinecolor\": \"#2a3f5f\"}, \"baxis\": {\"endlinecolor\": \"#2a3f5f\", \"gridcolor\": \"white\", \"linecolor\": \"white\", \"minorgridcolor\": \"white\", \"startlinecolor\": \"#2a3f5f\"}, \"type\": \"carpet\"}], \"choropleth\": [{\"colorbar\": {\"outlinewidth\": 0, \"ticks\": \"\"}, \"type\": \"choropleth\"}], \"contour\": [{\"colorbar\": {\"outlinewidth\": 0, \"ticks\": \"\"}, \"colorscale\": [[0.0, \"#0d0887\"], [0.1111111111111111, \"#46039f\"], [0.2222222222222222, \"#7201a8\"], [0.3333333333333333, \"#9c179e\"], [0.4444444444444444, \"#bd3786\"], [0.5555555555555556, \"#d8576b\"], [0.6666666666666666, \"#ed7953\"], [0.7777777777777778, \"#fb9f3a\"], [0.8888888888888888, \"#fdca26\"], [1.0, \"#f0f921\"]], \"type\": \"contour\"}], \"contourcarpet\": [{\"colorbar\": {\"outlinewidth\": 0, \"ticks\": \"\"}, \"type\": \"contourcarpet\"}], \"heatmap\": [{\"colorbar\": {\"outlinewidth\": 0, \"ticks\": \"\"}, \"colorscale\": [[0.0, \"#0d0887\"], [0.1111111111111111, \"#46039f\"], [0.2222222222222222, \"#7201a8\"], [0.3333333333333333, \"#9c179e\"], [0.4444444444444444, \"#bd3786\"], [0.5555555555555556, \"#d8576b\"], [0.6666666666666666, \"#ed7953\"], [0.7777777777777778, \"#fb9f3a\"], [0.8888888888888888, \"#fdca26\"], [1.0, \"#f0f921\"]], \"type\": \"heatmap\"}], \"heatmapgl\": [{\"colorbar\": {\"outlinewidth\": 0, \"ticks\": \"\"}, \"colorscale\": [[0.0, \"#0d0887\"], [0.1111111111111111, \"#46039f\"], [0.2222222222222222, \"#7201a8\"], [0.3333333333333333, \"#9c179e\"], [0.4444444444444444, \"#bd3786\"], [0.5555555555555556, \"#d8576b\"], [0.6666666666666666, \"#ed7953\"], [0.7777777777777778, \"#fb9f3a\"], [0.8888888888888888, \"#fdca26\"], [1.0, \"#f0f921\"]], \"type\": \"heatmapgl\"}], \"histogram\": [{\"marker\": {\"colorbar\": {\"outlinewidth\": 0, \"ticks\": \"\"}}, \"type\": \"histogram\"}], \"histogram2d\": [{\"colorbar\": {\"outlinewidth\": 0, \"ticks\": \"\"}, \"colorscale\": [[0.0, \"#0d0887\"], [0.1111111111111111, \"#46039f\"], [0.2222222222222222, \"#7201a8\"], [0.3333333333333333, \"#9c179e\"], [0.4444444444444444, \"#bd3786\"], [0.5555555555555556, \"#d8576b\"], [0.6666666666666666, \"#ed7953\"], [0.7777777777777778, \"#fb9f3a\"], [0.8888888888888888, \"#fdca26\"], [1.0, \"#f0f921\"]], \"type\": \"histogram2d\"}], \"histogram2dcontour\": [{\"colorbar\": {\"outlinewidth\": 0, \"ticks\": \"\"}, \"colorscale\": [[0.0, \"#0d0887\"], [0.1111111111111111, \"#46039f\"], [0.2222222222222222, \"#7201a8\"], [0.3333333333333333, \"#9c179e\"], [0.4444444444444444, \"#bd3786\"], [0.5555555555555556, \"#d8576b\"], [0.6666666666666666, \"#ed7953\"], [0.7777777777777778, \"#fb9f3a\"], [0.8888888888888888, \"#fdca26\"], [1.0, \"#f0f921\"]], \"type\": \"histogram2dcontour\"}], \"mesh3d\": [{\"colorbar\": {\"outlinewidth\": 0, \"ticks\": \"\"}, \"type\": \"mesh3d\"}], \"parcoords\": [{\"line\": {\"colorbar\": {\"outlinewidth\": 0, \"ticks\": \"\"}}, \"type\": \"parcoords\"}], \"pie\": [{\"automargin\": true, \"type\": \"pie\"}], \"scatter\": [{\"marker\": {\"colorbar\": {\"outlinewidth\": 0, \"ticks\": \"\"}}, \"type\": \"scatter\"}], \"scatter3d\": [{\"line\": {\"colorbar\": {\"outlinewidth\": 0, \"ticks\": \"\"}}, \"marker\": {\"colorbar\": {\"outlinewidth\": 0, \"ticks\": \"\"}}, \"type\": \"scatter3d\"}], \"scattercarpet\": [{\"marker\": {\"colorbar\": {\"outlinewidth\": 0, \"ticks\": \"\"}}, \"type\": \"scattercarpet\"}], \"scattergeo\": [{\"marker\": {\"colorbar\": {\"outlinewidth\": 0, \"ticks\": \"\"}}, \"type\": \"scattergeo\"}], \"scattergl\": [{\"marker\": {\"colorbar\": {\"outlinewidth\": 0, \"ticks\": \"\"}}, \"type\": \"scattergl\"}], \"scattermapbox\": [{\"marker\": {\"colorbar\": {\"outlinewidth\": 0, \"ticks\": \"\"}}, \"type\": \"scattermapbox\"}], \"scatterpolar\": [{\"marker\": {\"colorbar\": {\"outlinewidth\": 0, \"ticks\": \"\"}}, \"type\": \"scatterpolar\"}], \"scatterpolargl\": [{\"marker\": {\"colorbar\": {\"outlinewidth\": 0, \"ticks\": \"\"}}, \"type\": \"scatterpolargl\"}], \"scatterternary\": [{\"marker\": {\"colorbar\": {\"outlinewidth\": 0, \"ticks\": \"\"}}, \"type\": \"scatterternary\"}], \"surface\": [{\"colorbar\": {\"outlinewidth\": 0, \"ticks\": \"\"}, \"colorscale\": [[0.0, \"#0d0887\"], [0.1111111111111111, \"#46039f\"], [0.2222222222222222, \"#7201a8\"], [0.3333333333333333, \"#9c179e\"], [0.4444444444444444, \"#bd3786\"], [0.5555555555555556, \"#d8576b\"], [0.6666666666666666, \"#ed7953\"], [0.7777777777777778, \"#fb9f3a\"], [0.8888888888888888, \"#fdca26\"], [1.0, \"#f0f921\"]], \"type\": \"surface\"}], \"table\": [{\"cells\": {\"fill\": {\"color\": \"#EBF0F8\"}, \"line\": {\"color\": \"white\"}}, \"header\": {\"fill\": {\"color\": \"#C8D4E3\"}, \"line\": {\"color\": \"white\"}}, \"type\": \"table\"}]}, \"layout\": {\"annotationdefaults\": {\"arrowcolor\": \"#2a3f5f\", \"arrowhead\": 0, \"arrowwidth\": 1}, \"coloraxis\": {\"colorbar\": {\"outlinewidth\": 0, \"ticks\": \"\"}}, \"colorscale\": {\"diverging\": [[0, \"#8e0152\"], [0.1, \"#c51b7d\"], [0.2, \"#de77ae\"], [0.3, \"#f1b6da\"], [0.4, \"#fde0ef\"], [0.5, \"#f7f7f7\"], [0.6, \"#e6f5d0\"], [0.7, \"#b8e186\"], [0.8, \"#7fbc41\"], [0.9, \"#4d9221\"], [1, \"#276419\"]], \"sequential\": [[0.0, \"#0d0887\"], [0.1111111111111111, \"#46039f\"], [0.2222222222222222, \"#7201a8\"], [0.3333333333333333, \"#9c179e\"], [0.4444444444444444, \"#bd3786\"], [0.5555555555555556, \"#d8576b\"], [0.6666666666666666, \"#ed7953\"], [0.7777777777777778, \"#fb9f3a\"], [0.8888888888888888, \"#fdca26\"], [1.0, \"#f0f921\"]], \"sequentialminus\": [[0.0, \"#0d0887\"], [0.1111111111111111, \"#46039f\"], [0.2222222222222222, \"#7201a8\"], [0.3333333333333333, \"#9c179e\"], [0.4444444444444444, \"#bd3786\"], [0.5555555555555556, \"#d8576b\"], [0.6666666666666666, \"#ed7953\"], [0.7777777777777778, \"#fb9f3a\"], [0.8888888888888888, \"#fdca26\"], [1.0, \"#f0f921\"]]}, \"colorway\": [\"#636efa\", \"#EF553B\", \"#00cc96\", \"#ab63fa\", \"#FFA15A\", \"#19d3f3\", \"#FF6692\", \"#B6E880\", \"#FF97FF\", \"#FECB52\"], \"font\": {\"color\": \"#2a3f5f\"}, \"geo\": {\"bgcolor\": \"white\", \"lakecolor\": \"white\", \"landcolor\": \"#E5ECF6\", \"showlakes\": true, \"showland\": true, \"subunitcolor\": \"white\"}, \"hoverlabel\": {\"align\": \"left\"}, \"hovermode\": \"closest\", \"mapbox\": {\"style\": \"light\"}, \"paper_bgcolor\": \"white\", \"plot_bgcolor\": \"#E5ECF6\", \"polar\": {\"angularaxis\": {\"gridcolor\": \"white\", \"linecolor\": \"white\", \"ticks\": \"\"}, \"bgcolor\": \"#E5ECF6\", \"radialaxis\": {\"gridcolor\": \"white\", \"linecolor\": \"white\", \"ticks\": \"\"}}, \"scene\": {\"xaxis\": {\"backgroundcolor\": \"#E5ECF6\", \"gridcolor\": \"white\", \"gridwidth\": 2, \"linecolor\": \"white\", \"showbackground\": true, \"ticks\": \"\", \"zerolinecolor\": \"white\"}, \"yaxis\": {\"backgroundcolor\": \"#E5ECF6\", \"gridcolor\": \"white\", \"gridwidth\": 2, \"linecolor\": \"white\", \"showbackground\": true, \"ticks\": \"\", \"zerolinecolor\": \"white\"}, \"zaxis\": {\"backgroundcolor\": \"#E5ECF6\", \"gridcolor\": \"white\", \"gridwidth\": 2, \"linecolor\": \"white\", \"showbackground\": true, \"ticks\": \"\", \"zerolinecolor\": \"white\"}}, \"shapedefaults\": {\"line\": {\"color\": \"#2a3f5f\"}}, \"ternary\": {\"aaxis\": {\"gridcolor\": \"white\", \"linecolor\": \"white\", \"ticks\": \"\"}, \"baxis\": {\"gridcolor\": \"white\", \"linecolor\": \"white\", \"ticks\": \"\"}, \"bgcolor\": \"#E5ECF6\", \"caxis\": {\"gridcolor\": \"white\", \"linecolor\": \"white\", \"ticks\": \"\"}}, \"title\": {\"x\": 0.05}, \"xaxis\": {\"automargin\": true, \"gridcolor\": \"white\", \"linecolor\": \"white\", \"ticks\": \"\", \"title\": {\"standoff\": 15}, \"zerolinecolor\": \"white\", \"zerolinewidth\": 2}, \"yaxis\": {\"automargin\": true, \"gridcolor\": \"white\", \"linecolor\": \"white\", \"ticks\": \"\", \"title\": {\"standoff\": 15}, \"zerolinecolor\": \"white\", \"zerolinewidth\": 2}}}},\n",
              "                        {\"responsive\": true}\n",
              "                    ).then(function(){\n",
              "                            \n",
              "var gd = document.getElementById('00c1f817-4884-4ea3-bc8e-bf63a87a7162');\n",
              "var x = new MutationObserver(function (mutations, observer) {{\n",
              "        var display = window.getComputedStyle(gd).display;\n",
              "        if (!display || display === 'none') {{\n",
              "            console.log([gd, 'removed!']);\n",
              "            Plotly.purge(gd);\n",
              "            observer.disconnect();\n",
              "        }}\n",
              "}});\n",
              "\n",
              "// Listen for the removal of the full notebook cells\n",
              "var notebookContainer = gd.closest('#notebook-container');\n",
              "if (notebookContainer) {{\n",
              "    x.observe(notebookContainer, {childList: true});\n",
              "}}\n",
              "\n",
              "// Listen for the clearing of the current output cell\n",
              "var outputEl = gd.closest('.output');\n",
              "if (outputEl) {{\n",
              "    x.observe(outputEl, {childList: true});\n",
              "}}\n",
              "\n",
              "                        })\n",
              "                };\n",
              "                \n",
              "            </script>\n",
              "        </div>\n",
              "</body>\n",
              "</html>"
            ]
          },
          "metadata": {}
        }
      ],
      "source": [
        "'''\n",
        "3-d line plot pop v/s manu v/s SO2\n",
        "3-d line plot predays v/s temp v/s SO2\n",
        "'''\n",
        "\n",
        "X=df[[\"manu\",\"popul\",\"SO2\"]]\n",
        "import plotly.express as px\n",
        "#df = px.data.gapminder().query(\"country=='Brazil'\")\n",
        "fig = px.scatter_3d(X, x=\"manu\", y=\"popul\", z=\"SO2\")\n",
        "fig.show()"
      ]
    },
    {
      "cell_type": "code",
      "execution_count": null,
      "metadata": {
        "id": "m6sVTddHIxHr",
        "colab": {
          "base_uri": "https://localhost:8080/"
        },
        "outputId": "0f53e5f6-e6d5-4f47-ae30-aff20eb772cb"
      },
      "outputs": [
        {
          "output_type": "display_data",
          "data": {
            "text/html": [
              "<html>\n",
              "<head><meta charset=\"utf-8\" /></head>\n",
              "<body>\n",
              "    <div>\n",
              "            <script src=\"https://cdnjs.cloudflare.com/ajax/libs/mathjax/2.7.5/MathJax.js?config=TeX-AMS-MML_SVG\"></script><script type=\"text/javascript\">if (window.MathJax) {MathJax.Hub.Config({SVG: {font: \"STIX-Web\"}});}</script>\n",
              "                <script type=\"text/javascript\">window.PlotlyConfig = {MathJaxConfig: 'local'};</script>\n",
              "        <script src=\"https://cdn.plot.ly/plotly-latest.min.js\"></script>    \n",
              "            <div id=\"9934c669-6b7d-4734-9dcc-62e5f5133737\" class=\"plotly-graph-div\" style=\"height:525px; width:100%;\"></div>\n",
              "            <script type=\"text/javascript\">\n",
              "                \n",
              "                    window.PLOTLYENV=window.PLOTLYENV || {};\n",
              "                    \n",
              "                if (document.getElementById(\"9934c669-6b7d-4734-9dcc-62e5f5133737\")) {\n",
              "                    Plotly.newPlot(\n",
              "                        '9934c669-6b7d-4734-9dcc-62e5f5133737',\n",
              "                        [{\"hoverlabel\": {\"namelength\": 0}, \"hovertemplate\": \"predays=%{x}<br>temp=%{y}<br>SO2=%{z}\", \"legendgroup\": \"\", \"marker\": {\"color\": \"#636efa\", \"symbol\": \"circle\"}, \"mode\": \"markers\", \"name\": \"\", \"scene\": \"scene\", \"showlegend\": false, \"type\": \"scatter3d\", \"x\": [135, 58, 115, 111, 166, 148, 122, 132, 155, 134, 78, 86, 103, 129, 127, 103, 121, 116, 99, 100, 123, 105, 128, 123, 137, 119, 113, 116, 98, 115, 36, 147, 125, 115, 89, 67, 164, 105, 111, 82, 114], \"y\": [47.6, 56.8, 61.5, 55.0, 47.1, 55.2, 50.6, 54.0, 49.7, 51.5, 66.2, 51.9, 49.0, 49.9, 49.1, 68.9, 52.3, 68.4, 54.5, 61.0, 55.6, 61.6, 75.5, 45.7, 43.5, 59.4, 68.3, 59.3, 51.5, 54.6, 70.3, 50.4, 50.0, 57.8, 51.0, 56.7, 51.1, 55.9, 57.3, 56.6, 54.0], \"z\": [46, 11, 24, 47, 11, 31, 110, 23, 65, 26, 9, 17, 17, 35, 56, 10, 28, 14, 14, 13, 30, 10, 10, 16, 29, 18, 9, 31, 14, 69, 10, 61, 94, 26, 28, 12, 29, 56, 29, 8, 36]}],\n",
              "                        {\"legend\": {\"tracegroupgap\": 0}, \"margin\": {\"t\": 60}, \"scene\": {\"domain\": {\"x\": [0.0, 1.0], \"y\": [0.0, 1.0]}, \"xaxis\": {\"title\": {\"text\": \"predays\"}}, \"yaxis\": {\"title\": {\"text\": \"temp\"}}, \"zaxis\": {\"title\": {\"text\": \"SO2\"}}}, \"template\": {\"data\": {\"bar\": [{\"error_x\": {\"color\": \"#2a3f5f\"}, \"error_y\": {\"color\": \"#2a3f5f\"}, \"marker\": {\"line\": {\"color\": \"#E5ECF6\", \"width\": 0.5}}, \"type\": \"bar\"}], \"barpolar\": [{\"marker\": {\"line\": {\"color\": \"#E5ECF6\", \"width\": 0.5}}, \"type\": \"barpolar\"}], \"carpet\": [{\"aaxis\": {\"endlinecolor\": \"#2a3f5f\", \"gridcolor\": \"white\", \"linecolor\": \"white\", \"minorgridcolor\": \"white\", \"startlinecolor\": \"#2a3f5f\"}, \"baxis\": {\"endlinecolor\": \"#2a3f5f\", \"gridcolor\": \"white\", \"linecolor\": \"white\", \"minorgridcolor\": \"white\", \"startlinecolor\": \"#2a3f5f\"}, \"type\": \"carpet\"}], \"choropleth\": [{\"colorbar\": {\"outlinewidth\": 0, \"ticks\": \"\"}, \"type\": \"choropleth\"}], \"contour\": [{\"colorbar\": {\"outlinewidth\": 0, \"ticks\": \"\"}, \"colorscale\": [[0.0, \"#0d0887\"], [0.1111111111111111, \"#46039f\"], [0.2222222222222222, \"#7201a8\"], [0.3333333333333333, \"#9c179e\"], [0.4444444444444444, \"#bd3786\"], [0.5555555555555556, \"#d8576b\"], [0.6666666666666666, \"#ed7953\"], [0.7777777777777778, \"#fb9f3a\"], [0.8888888888888888, \"#fdca26\"], [1.0, \"#f0f921\"]], \"type\": \"contour\"}], \"contourcarpet\": [{\"colorbar\": {\"outlinewidth\": 0, \"ticks\": \"\"}, \"type\": \"contourcarpet\"}], \"heatmap\": [{\"colorbar\": {\"outlinewidth\": 0, \"ticks\": \"\"}, \"colorscale\": [[0.0, \"#0d0887\"], [0.1111111111111111, \"#46039f\"], [0.2222222222222222, \"#7201a8\"], [0.3333333333333333, \"#9c179e\"], [0.4444444444444444, \"#bd3786\"], [0.5555555555555556, \"#d8576b\"], [0.6666666666666666, \"#ed7953\"], [0.7777777777777778, \"#fb9f3a\"], [0.8888888888888888, \"#fdca26\"], [1.0, \"#f0f921\"]], \"type\": \"heatmap\"}], \"heatmapgl\": [{\"colorbar\": {\"outlinewidth\": 0, \"ticks\": \"\"}, \"colorscale\": [[0.0, \"#0d0887\"], [0.1111111111111111, \"#46039f\"], [0.2222222222222222, \"#7201a8\"], [0.3333333333333333, \"#9c179e\"], [0.4444444444444444, \"#bd3786\"], [0.5555555555555556, \"#d8576b\"], [0.6666666666666666, \"#ed7953\"], [0.7777777777777778, \"#fb9f3a\"], [0.8888888888888888, \"#fdca26\"], [1.0, \"#f0f921\"]], \"type\": \"heatmapgl\"}], \"histogram\": [{\"marker\": {\"colorbar\": {\"outlinewidth\": 0, \"ticks\": \"\"}}, \"type\": \"histogram\"}], \"histogram2d\": [{\"colorbar\": {\"outlinewidth\": 0, \"ticks\": \"\"}, \"colorscale\": [[0.0, \"#0d0887\"], [0.1111111111111111, \"#46039f\"], [0.2222222222222222, \"#7201a8\"], [0.3333333333333333, \"#9c179e\"], [0.4444444444444444, \"#bd3786\"], [0.5555555555555556, \"#d8576b\"], [0.6666666666666666, \"#ed7953\"], [0.7777777777777778, \"#fb9f3a\"], [0.8888888888888888, \"#fdca26\"], [1.0, \"#f0f921\"]], \"type\": \"histogram2d\"}], \"histogram2dcontour\": [{\"colorbar\": {\"outlinewidth\": 0, \"ticks\": \"\"}, \"colorscale\": [[0.0, \"#0d0887\"], [0.1111111111111111, \"#46039f\"], [0.2222222222222222, \"#7201a8\"], [0.3333333333333333, \"#9c179e\"], [0.4444444444444444, \"#bd3786\"], [0.5555555555555556, \"#d8576b\"], [0.6666666666666666, \"#ed7953\"], [0.7777777777777778, \"#fb9f3a\"], [0.8888888888888888, \"#fdca26\"], [1.0, \"#f0f921\"]], \"type\": \"histogram2dcontour\"}], \"mesh3d\": [{\"colorbar\": {\"outlinewidth\": 0, \"ticks\": \"\"}, \"type\": \"mesh3d\"}], \"parcoords\": [{\"line\": {\"colorbar\": {\"outlinewidth\": 0, \"ticks\": \"\"}}, \"type\": \"parcoords\"}], \"pie\": [{\"automargin\": true, \"type\": \"pie\"}], \"scatter\": [{\"marker\": {\"colorbar\": {\"outlinewidth\": 0, \"ticks\": \"\"}}, \"type\": \"scatter\"}], \"scatter3d\": [{\"line\": {\"colorbar\": {\"outlinewidth\": 0, \"ticks\": \"\"}}, \"marker\": {\"colorbar\": {\"outlinewidth\": 0, \"ticks\": \"\"}}, \"type\": \"scatter3d\"}], \"scattercarpet\": [{\"marker\": {\"colorbar\": {\"outlinewidth\": 0, \"ticks\": \"\"}}, \"type\": \"scattercarpet\"}], \"scattergeo\": [{\"marker\": {\"colorbar\": {\"outlinewidth\": 0, \"ticks\": \"\"}}, \"type\": \"scattergeo\"}], \"scattergl\": [{\"marker\": {\"colorbar\": {\"outlinewidth\": 0, \"ticks\": \"\"}}, \"type\": \"scattergl\"}], \"scattermapbox\": [{\"marker\": {\"colorbar\": {\"outlinewidth\": 0, \"ticks\": \"\"}}, \"type\": \"scattermapbox\"}], \"scatterpolar\": [{\"marker\": {\"colorbar\": {\"outlinewidth\": 0, \"ticks\": \"\"}}, \"type\": \"scatterpolar\"}], \"scatterpolargl\": [{\"marker\": {\"colorbar\": {\"outlinewidth\": 0, \"ticks\": \"\"}}, \"type\": \"scatterpolargl\"}], \"scatterternary\": [{\"marker\": {\"colorbar\": {\"outlinewidth\": 0, \"ticks\": \"\"}}, \"type\": \"scatterternary\"}], \"surface\": [{\"colorbar\": {\"outlinewidth\": 0, \"ticks\": \"\"}, \"colorscale\": [[0.0, \"#0d0887\"], [0.1111111111111111, \"#46039f\"], [0.2222222222222222, \"#7201a8\"], [0.3333333333333333, \"#9c179e\"], [0.4444444444444444, \"#bd3786\"], [0.5555555555555556, \"#d8576b\"], [0.6666666666666666, \"#ed7953\"], [0.7777777777777778, \"#fb9f3a\"], [0.8888888888888888, \"#fdca26\"], [1.0, \"#f0f921\"]], \"type\": \"surface\"}], \"table\": [{\"cells\": {\"fill\": {\"color\": \"#EBF0F8\"}, \"line\": {\"color\": \"white\"}}, \"header\": {\"fill\": {\"color\": \"#C8D4E3\"}, \"line\": {\"color\": \"white\"}}, \"type\": \"table\"}]}, \"layout\": {\"annotationdefaults\": {\"arrowcolor\": \"#2a3f5f\", \"arrowhead\": 0, \"arrowwidth\": 1}, \"coloraxis\": {\"colorbar\": {\"outlinewidth\": 0, \"ticks\": \"\"}}, \"colorscale\": {\"diverging\": [[0, \"#8e0152\"], [0.1, \"#c51b7d\"], [0.2, \"#de77ae\"], [0.3, \"#f1b6da\"], [0.4, \"#fde0ef\"], [0.5, \"#f7f7f7\"], [0.6, \"#e6f5d0\"], [0.7, \"#b8e186\"], [0.8, \"#7fbc41\"], [0.9, \"#4d9221\"], [1, \"#276419\"]], \"sequential\": [[0.0, \"#0d0887\"], [0.1111111111111111, \"#46039f\"], [0.2222222222222222, \"#7201a8\"], [0.3333333333333333, \"#9c179e\"], [0.4444444444444444, \"#bd3786\"], [0.5555555555555556, \"#d8576b\"], [0.6666666666666666, \"#ed7953\"], [0.7777777777777778, \"#fb9f3a\"], [0.8888888888888888, \"#fdca26\"], [1.0, \"#f0f921\"]], \"sequentialminus\": [[0.0, \"#0d0887\"], [0.1111111111111111, \"#46039f\"], [0.2222222222222222, \"#7201a8\"], [0.3333333333333333, \"#9c179e\"], [0.4444444444444444, \"#bd3786\"], [0.5555555555555556, \"#d8576b\"], [0.6666666666666666, \"#ed7953\"], [0.7777777777777778, \"#fb9f3a\"], [0.8888888888888888, \"#fdca26\"], [1.0, \"#f0f921\"]]}, \"colorway\": [\"#636efa\", \"#EF553B\", \"#00cc96\", \"#ab63fa\", \"#FFA15A\", \"#19d3f3\", \"#FF6692\", \"#B6E880\", \"#FF97FF\", \"#FECB52\"], \"font\": {\"color\": \"#2a3f5f\"}, \"geo\": {\"bgcolor\": \"white\", \"lakecolor\": \"white\", \"landcolor\": \"#E5ECF6\", \"showlakes\": true, \"showland\": true, \"subunitcolor\": \"white\"}, \"hoverlabel\": {\"align\": \"left\"}, \"hovermode\": \"closest\", \"mapbox\": {\"style\": \"light\"}, \"paper_bgcolor\": \"white\", \"plot_bgcolor\": \"#E5ECF6\", \"polar\": {\"angularaxis\": {\"gridcolor\": \"white\", \"linecolor\": \"white\", \"ticks\": \"\"}, \"bgcolor\": \"#E5ECF6\", \"radialaxis\": {\"gridcolor\": \"white\", \"linecolor\": \"white\", \"ticks\": \"\"}}, \"scene\": {\"xaxis\": {\"backgroundcolor\": \"#E5ECF6\", \"gridcolor\": \"white\", \"gridwidth\": 2, \"linecolor\": \"white\", \"showbackground\": true, \"ticks\": \"\", \"zerolinecolor\": \"white\"}, \"yaxis\": {\"backgroundcolor\": \"#E5ECF6\", \"gridcolor\": \"white\", \"gridwidth\": 2, \"linecolor\": \"white\", \"showbackground\": true, \"ticks\": \"\", \"zerolinecolor\": \"white\"}, \"zaxis\": {\"backgroundcolor\": \"#E5ECF6\", \"gridcolor\": \"white\", \"gridwidth\": 2, \"linecolor\": \"white\", \"showbackground\": true, \"ticks\": \"\", \"zerolinecolor\": \"white\"}}, \"shapedefaults\": {\"line\": {\"color\": \"#2a3f5f\"}}, \"ternary\": {\"aaxis\": {\"gridcolor\": \"white\", \"linecolor\": \"white\", \"ticks\": \"\"}, \"baxis\": {\"gridcolor\": \"white\", \"linecolor\": \"white\", \"ticks\": \"\"}, \"bgcolor\": \"#E5ECF6\", \"caxis\": {\"gridcolor\": \"white\", \"linecolor\": \"white\", \"ticks\": \"\"}}, \"title\": {\"x\": 0.05}, \"xaxis\": {\"automargin\": true, \"gridcolor\": \"white\", \"linecolor\": \"white\", \"ticks\": \"\", \"title\": {\"standoff\": 15}, \"zerolinecolor\": \"white\", \"zerolinewidth\": 2}, \"yaxis\": {\"automargin\": true, \"gridcolor\": \"white\", \"linecolor\": \"white\", \"ticks\": \"\", \"title\": {\"standoff\": 15}, \"zerolinecolor\": \"white\", \"zerolinewidth\": 2}}}},\n",
              "                        {\"responsive\": true}\n",
              "                    ).then(function(){\n",
              "                            \n",
              "var gd = document.getElementById('9934c669-6b7d-4734-9dcc-62e5f5133737');\n",
              "var x = new MutationObserver(function (mutations, observer) {{\n",
              "        var display = window.getComputedStyle(gd).display;\n",
              "        if (!display || display === 'none') {{\n",
              "            console.log([gd, 'removed!']);\n",
              "            Plotly.purge(gd);\n",
              "            observer.disconnect();\n",
              "        }}\n",
              "}});\n",
              "\n",
              "// Listen for the removal of the full notebook cells\n",
              "var notebookContainer = gd.closest('#notebook-container');\n",
              "if (notebookContainer) {{\n",
              "    x.observe(notebookContainer, {childList: true});\n",
              "}}\n",
              "\n",
              "// Listen for the clearing of the current output cell\n",
              "var outputEl = gd.closest('.output');\n",
              "if (outputEl) {{\n",
              "    x.observe(outputEl, {childList: true});\n",
              "}}\n",
              "\n",
              "                        })\n",
              "                };\n",
              "                \n",
              "            </script>\n",
              "        </div>\n",
              "</body>\n",
              "</html>"
            ]
          },
          "metadata": {}
        }
      ],
      "source": [
        "X=df[[\"predays\",\"temp\",\"SO2\"]]\n",
        "import plotly.express as px\n",
        "#df = px.data.gapminder().query(\"country=='Brazil'\")\n",
        "fig = px.scatter_3d(X, x=\"predays\", y=\"temp\", z=\"SO2\")\n",
        "fig.show()"
      ]
    },
    {
      "cell_type": "markdown",
      "source": [
        "#Skewness test to check MVN Normality"
      ],
      "metadata": {
        "id": "AEFAHuM-g85e"
      }
    },
    {
      "cell_type": "code",
      "source": [
        "X=df[[\"temp\",\"manu\",\"popul\",\"wind\",\"precip\",\"predays\",\"SO2\"]]\n",
        "l=[]\n",
        "n=X.shape[0]\n",
        "\n",
        "p=X.shape[1]\n",
        "S=pd.DataFrame.cov(X)\n",
        "S=S.values\n",
        "print(S)\n",
        "x_bar=df[[\"temp\",\"manu\",\"popul\",\"wind\",\"precip\",\"predays\",\"SO2\"]].mean()\n",
        "x_bar=(x_bar.values).reshape(p,1)\n",
        "print(\"x_bar=\",x_bar,\"end\")\n",
        "X=X.values\n",
        "\n",
        "for i in X:\n",
        "  i=i.reshape(p,1)\n",
        "  sum=0\n",
        "  for x in X:\n",
        "      x=x.reshape(p,1)\n",
        "      p1 = (x-x_bar).T\n",
        "     \n",
        "      p2 = np.dot(p1,np.linalg.inv(S))\n",
        "      p3 = np.dot(p2,i-x_bar)\n",
        "      sum+=p3**3\n",
        "  l.append(sum)\n",
        "l=np.array(l)\n",
        "b1_p = np.sum(l)/n**2\n",
        "print(b1_p)\n",
        "z1 =((p+1)*(n+1)*(n+3)*b1_p)/(6*((n+1)*(p+1)-6))"
      ],
      "metadata": {
        "colab": {
          "base_uri": "https://localhost:8080/"
        },
        "id": "qWHcnAkKJW3H",
        "outputId": "46e85425-b047-4821-eeb2-f5520e01b930"
      },
      "execution_count": null,
      "outputs": [
        {
          "output_type": "stream",
          "name": "stdout",
          "text": [
            "[[ 5.22398780e+01 -7.73971341e+02 -2.62349634e+02 -3.61135366e+00\n",
            "   3.28629884e+01 -8.24261585e+01 -7.35606707e+01]\n",
            " [-7.73971341e+02  3.17502890e+05  3.11718814e+05  1.91548110e+02\n",
            "  -2.15019902e+02  1.96895976e+03  8.52772012e+03]\n",
            " [-2.62349634e+02  3.11718814e+05  3.35371894e+05  1.75930061e+02\n",
            "  -1.78052890e+02  6.45985976e+02  6.71199451e+03]\n",
            " [-3.61135366e+00  1.91548110e+02  1.75930061e+02  2.04102439e+00\n",
            "  -2.18531098e-01  6.21439024e+00  3.17530488e+00]\n",
            " [ 3.28629884e+01 -2.15019902e+02 -1.78052890e+02 -2.18531098e-01\n",
            "   1.38569384e+02  1.54792902e+02  1.50017988e+01]\n",
            " [-8.24261585e+01  1.96895976e+03  6.45985976e+02  6.21439024e+00\n",
            "   1.54792902e+02  7.02590244e+02  2.29929878e+02]\n",
            " [-7.35606707e+01  8.52772012e+03  6.71199451e+03  3.17530488e+00\n",
            "   1.50017988e+01  2.29929878e+02  5.50947561e+02]]\n",
            "x_bar= [[ 55.76341463]\n",
            " [463.09756098]\n",
            " [608.6097561 ]\n",
            " [  9.44390244]\n",
            " [ 36.76902439]\n",
            " [113.90243902]\n",
            " [ 30.04878049]] end\n",
            "30.794992559588692\n"
          ]
        }
      ]
    },
    {
      "cell_type": "code",
      "source": [
        "\n",
        "import scipy\n",
        "print(\"z1 statistic\",z1)\n",
        "dof=p*(p+1)*(p+2)/6\n",
        "print(\"Degree of Freedom\",dof)\n",
        "scipy.stats.chi2.ppf(0.05, dof)"
      ],
      "metadata": {
        "colab": {
          "base_uri": "https://localhost:8080/"
        },
        "id": "_NcT74_dQzvW",
        "outputId": "d732e851-279b-422d-bfab-58a827c385c3"
      },
      "execution_count": null,
      "outputs": [
        {
          "output_type": "stream",
          "name": "stdout",
          "text": [
            "z1 statistic 229.9359444449289\n",
            "Degree of Freedom 84.0\n"
          ]
        },
        {
          "output_type": "execute_result",
          "data": {
            "text/plain": [
              "63.87626144303417"
            ]
          },
          "metadata": {},
          "execution_count": 48
        }
      ]
    },
    {
      "cell_type": "markdown",
      "metadata": {
        "id": "5oBdCmVXIxHo"
      },
      "source": [
        "# Multivariate Normality Test - Henze-Zirkler Multivariate Normality Test"
      ]
    },
    {
      "cell_type": "code",
      "execution_count": null,
      "metadata": {
        "id": "CCF1wmC9IxHp",
        "outputId": "b4960703-3c3f-484b-f989-b01683193a13",
        "colab": {
          "base_uri": "https://localhost:8080/",
          "height": 81
        }
      },
      "outputs": [
        {
          "output_type": "execute_result",
          "data": {
            "text/html": [
              "\n",
              "  <div id=\"df-dd91fa82-b606-4898-87b0-d49ce5493265\">\n",
              "    <div class=\"colab-df-container\">\n",
              "      <div>\n",
              "<style scoped>\n",
              "    .dataframe tbody tr th:only-of-type {\n",
              "        vertical-align: middle;\n",
              "    }\n",
              "\n",
              "    .dataframe tbody tr th {\n",
              "        vertical-align: top;\n",
              "    }\n",
              "\n",
              "    .dataframe thead th {\n",
              "        text-align: right;\n",
              "    }\n",
              "</style>\n",
              "<table border=\"1\" class=\"dataframe\">\n",
              "  <thead>\n",
              "    <tr style=\"text-align: right;\">\n",
              "      <th></th>\n",
              "      <th>Test statistic</th>\n",
              "      <th>p-val</th>\n",
              "      <th>Null hypothesis is favoured</th>\n",
              "    </tr>\n",
              "  </thead>\n",
              "  <tbody>\n",
              "    <tr>\n",
              "      <th>1</th>\n",
              "      <td>1.28</td>\n",
              "      <td>1.200000e-09</td>\n",
              "      <td>False</td>\n",
              "    </tr>\n",
              "  </tbody>\n",
              "</table>\n",
              "</div>\n",
              "      <button class=\"colab-df-convert\" onclick=\"convertToInteractive('df-dd91fa82-b606-4898-87b0-d49ce5493265')\"\n",
              "              title=\"Convert this dataframe to an interactive table.\"\n",
              "              style=\"display:none;\">\n",
              "        \n",
              "  <svg xmlns=\"http://www.w3.org/2000/svg\" height=\"24px\"viewBox=\"0 0 24 24\"\n",
              "       width=\"24px\">\n",
              "    <path d=\"M0 0h24v24H0V0z\" fill=\"none\"/>\n",
              "    <path d=\"M18.56 5.44l.94 2.06.94-2.06 2.06-.94-2.06-.94-.94-2.06-.94 2.06-2.06.94zm-11 1L8.5 8.5l.94-2.06 2.06-.94-2.06-.94L8.5 2.5l-.94 2.06-2.06.94zm10 10l.94 2.06.94-2.06 2.06-.94-2.06-.94-.94-2.06-.94 2.06-2.06.94z\"/><path d=\"M17.41 7.96l-1.37-1.37c-.4-.4-.92-.59-1.43-.59-.52 0-1.04.2-1.43.59L10.3 9.45l-7.72 7.72c-.78.78-.78 2.05 0 2.83L4 21.41c.39.39.9.59 1.41.59.51 0 1.02-.2 1.41-.59l7.78-7.78 2.81-2.81c.8-.78.8-2.07 0-2.86zM5.41 20L4 18.59l7.72-7.72 1.47 1.35L5.41 20z\"/>\n",
              "  </svg>\n",
              "      </button>\n",
              "      \n",
              "  <style>\n",
              "    .colab-df-container {\n",
              "      display:flex;\n",
              "      flex-wrap:wrap;\n",
              "      gap: 12px;\n",
              "    }\n",
              "\n",
              "    .colab-df-convert {\n",
              "      background-color: #E8F0FE;\n",
              "      border: none;\n",
              "      border-radius: 50%;\n",
              "      cursor: pointer;\n",
              "      display: none;\n",
              "      fill: #1967D2;\n",
              "      height: 32px;\n",
              "      padding: 0 0 0 0;\n",
              "      width: 32px;\n",
              "    }\n",
              "\n",
              "    .colab-df-convert:hover {\n",
              "      background-color: #E2EBFA;\n",
              "      box-shadow: 0px 1px 2px rgba(60, 64, 67, 0.3), 0px 1px 3px 1px rgba(60, 64, 67, 0.15);\n",
              "      fill: #174EA6;\n",
              "    }\n",
              "\n",
              "    [theme=dark] .colab-df-convert {\n",
              "      background-color: #3B4455;\n",
              "      fill: #D2E3FC;\n",
              "    }\n",
              "\n",
              "    [theme=dark] .colab-df-convert:hover {\n",
              "      background-color: #434B5C;\n",
              "      box-shadow: 0px 1px 3px 1px rgba(0, 0, 0, 0.15);\n",
              "      filter: drop-shadow(0px 1px 2px rgba(0, 0, 0, 0.3));\n",
              "      fill: #FFFFFF;\n",
              "    }\n",
              "  </style>\n",
              "\n",
              "      <script>\n",
              "        const buttonEl =\n",
              "          document.querySelector('#df-dd91fa82-b606-4898-87b0-d49ce5493265 button.colab-df-convert');\n",
              "        buttonEl.style.display =\n",
              "          google.colab.kernel.accessAllowed ? 'block' : 'none';\n",
              "\n",
              "        async function convertToInteractive(key) {\n",
              "          const element = document.querySelector('#df-dd91fa82-b606-4898-87b0-d49ce5493265');\n",
              "          const dataTable =\n",
              "            await google.colab.kernel.invokeFunction('convertToInteractive',\n",
              "                                                     [key], {});\n",
              "          if (!dataTable) return;\n",
              "\n",
              "          const docLinkHtml = 'Like what you see? Visit the ' +\n",
              "            '<a target=\"_blank\" href=https://colab.research.google.com/notebooks/data_table.ipynb>data table notebook</a>'\n",
              "            + ' to learn more about interactive tables.';\n",
              "          element.innerHTML = '';\n",
              "          dataTable['output_type'] = 'display_data';\n",
              "          await google.colab.output.renderOutput(dataTable, element);\n",
              "          const docLink = document.createElement('div');\n",
              "          docLink.innerHTML = docLinkHtml;\n",
              "          element.appendChild(docLink);\n",
              "        }\n",
              "      </script>\n",
              "    </div>\n",
              "  </div>\n",
              "  "
            ],
            "text/plain": [
              "   Test statistic         p-val  Null hypothesis is favoured \n",
              "1            1.28  1.200000e-09                         False"
            ]
          },
          "metadata": {},
          "execution_count": 49
        }
      ],
      "source": [
        "#import necessary packages\n",
        "from pingouin import multivariate_normality\n",
        "import pandas as pd\n",
        "import numpy as np\n",
        "X=pd.DataFrame.to_numpy(df[[\"temp\",\"manu\",\"popul\",\"wind\",\"precip\",\"predays\"]])\n",
        "#perform the Henze-Zirkler Multivariate Normality Test\n",
        "test_statistic,p_val,bool_val=multivariate_normality(X, alpha=.05)\n",
        "#print(\"Test statistic: {:.2f}\".format(test_statistic))\n",
        "#print(\"p-val: {:.10f}\".format(p_val))\n",
        "result=pd.DataFrame({\"Test statistic\":round(test_statistic,2),\"p-val\":round(p_val,10),\"Null hypothesis is favoured \":bool_val},index=[1])\n",
        "result"
      ]
    },
    {
      "cell_type": "code",
      "source": [
        ""
      ],
      "metadata": {
        "id": "PIaNeLW_lxnD"
      },
      "execution_count": null,
      "outputs": []
    },
    {
      "cell_type": "code",
      "source": [
        "#Removing outliers\n",
        "df_t=df.copy()\n",
        "\n",
        "for i in df_t.index:\n",
        "  if df_t.loc[i,\"Cities\"]==\"Chicago\" or df_t.loc[i,\"Cities\"]== \"Philadelphia\" or df_t.loc[i,\"Cities\"]== \"Detroit\"or df_t.loc[i,\"Cities\"]== \"Providence\":\n",
        "         df_t.drop(i,axis=0,inplace=True)\n",
        "df_t.set_index(np.arange(0,37,1),inplace=True)\n",
        "print(df_t)\n",
        "\n",
        "X=df_t[[\"temp\",\"manu\",\"popul\",\"wind\",\"precip\",\"predays\",\"SO2\"]]\n",
        "l=[]\n",
        "n=X.shape[0]\n",
        "\n",
        "p=X.shape[1]\n",
        "S=pd.DataFrame.cov(X)\n",
        "S=S.values\n",
        "print(S)\n",
        "x_bar=df_t[[\"temp\",\"manu\",\"popul\",\"wind\",\"precip\",\"predays\",\"SO2\"]].mean()\n",
        "x_bar=(x_bar.values).reshape(p,1)\n",
        "print(\"x_bar=\",x_bar,\"end\")\n",
        "X=X.values\n",
        "\n",
        "for i in X:\n",
        "  i=i.reshape(p,1)\n",
        "  sum=0\n",
        "  for x in X:\n",
        "      x=x.reshape(p,1)\n",
        "      p1 = (x-x_bar).T\n",
        "     \n",
        "      p2 = np.dot(p1,np.linalg.inv(S))\n",
        "      p3 = np.dot(p2,i-x_bar)\n",
        "      sum+=p3**3\n",
        "  l.append(sum)\n",
        "l=np.array(l)\n",
        "b1_p = np.sum(l)/n**2\n",
        "\n",
        "z1 =((p+1)*(n+1)*(n+3)*b1_p)/(6*((n+1)*(p+1)-6))"
      ],
      "metadata": {
        "colab": {
          "base_uri": "https://localhost:8080/"
        },
        "id": "gUN__68XjTY-",
        "outputId": "95450934-469e-4e5f-e6de-8c29085ce445"
      },
      "execution_count": null,
      "outputs": [
        {
          "output_type": "stream",
          "name": "stdout",
          "text": [
            "            Cities  temp  manu  popul  wind  precip  predays  SO2\n",
            "0           Albany  47.6    44    116   8.8   33.36      135   46\n",
            "1      Albuquerque  56.8    46    244   8.9    7.77       58   11\n",
            "2          Atlanta  61.5   368    497   9.1   48.34      115   24\n",
            "3        Baltimore  55.0   625    905   9.6   41.31      111   47\n",
            "4          Buffalo  47.1   391    463  12.4   36.11      166   11\n",
            "5       Charleston  55.2    35     71   6.5   40.75      148   31\n",
            "6       Cincinnati  54.0   462    453   7.1   39.04      132   23\n",
            "7        Cleveland  49.7  1007    751  10.9   34.99      155   65\n",
            "8         Columbus  51.5   266    540   8.6   37.01      134   26\n",
            "9           Dallas  66.2   641    844  10.9   35.94       78    9\n",
            "10          Denver  51.9   454    515   9.0   12.95       86   17\n",
            "11      Des Moines  49.0   104    201  11.2   30.85      103   17\n",
            "12        Hartford  49.1   412    158   9.0   43.37      127   56\n",
            "13         Houston  68.9   721   1233  10.8   48.19      103   10\n",
            "14    Indianapolis  52.3   361    746   9.7   38.74      121   28\n",
            "15    Jacksonville  68.4   136    529   8.8   54.47      116   14\n",
            "16     Kansas City  54.5   381    507  10.0   37.00       99   14\n",
            "17     Little Rock  61.0    91    132   8.2   48.52      100   13\n",
            "18      Louisville  55.6   291    593   8.3   43.11      123   30\n",
            "19         Memphis  61.6   337    624   9.2   49.10      105   10\n",
            "20           Miami  75.5   207    335   9.0   59.80      128   10\n",
            "21       Milwaukee  45.7   569    717  11.8   29.07      123   16\n",
            "22     Minneapolis  43.5   699    744  10.6   25.94      137   29\n",
            "23       Nashville  59.4   275    448   7.9   46.00      119   18\n",
            "24     New Orleans  68.3   204    361   8.4   56.77      113    9\n",
            "25         Norfolk  59.3    96    308  10.6   44.68      116   31\n",
            "26           Omaha  51.5   181    347  10.9   30.18       98   14\n",
            "27         Phoenix  70.3   213    582   6.0    7.05       36   10\n",
            "28      Pittsburgh  50.4   347    520   9.4   36.22      147   61\n",
            "29        Richmond  57.8   197    299   7.6   42.59      115   26\n",
            "30  Salt Lake City  51.0   137    176   8.7   15.17       89   28\n",
            "31   San Francisco  56.7   453    716   8.7   20.66       67   12\n",
            "32         Seattle  51.1   379    531   9.4   38.79      164   29\n",
            "33       St. Louis  55.9   775    622   9.5   35.89      105   56\n",
            "34      Washington  57.3   434    757   9.3   38.89      111   29\n",
            "35         Wichita  56.6   125    277  12.7   30.58       82    8\n",
            "36      Wilmington  54.0    80     80   9.0   40.25      114   36\n",
            "[[ 5.51464565e+01 -2.66531907e+02  2.87976276e+02 -3.53907658e+00\n",
            "   3.63074610e+01 -8.56750751e+01 -5.54319820e+01]\n",
            " [-2.66531907e+02  5.40346937e+04  4.73621689e+04  1.13817643e+02\n",
            "  -4.69786637e+01  1.16530706e+03  1.23094520e+03]\n",
            " [ 2.87976276e+02  4.73621689e+04  6.74230210e+04  1.03616517e+02\n",
            "   7.68259910e+01 -3.12476727e+02 -1.30530030e+02]\n",
            " [-3.53907658e+00  1.13817643e+02  1.03616517e+02  2.18623123e+00\n",
            "  -2.83070571e-01  5.97582583e+00 -1.32042042e+00]\n",
            " [ 3.63074610e+01 -4.69786637e+01  7.68259910e+01 -2.83070571e-01\n",
            "   1.51605977e+02  1.72985383e+02  8.45366366e+00]\n",
            " [-8.56750751e+01  1.16530706e+03 -3.12476727e+02  5.97582583e+00\n",
            "   1.72985383e+02  7.68108108e+02  2.09526276e+02]\n",
            " [-5.54319820e+01  1.23094520e+03 -1.30530030e+02 -1.32042042e+00\n",
            "   8.45366366e+00  2.09526276e+02  2.51693694e+02]]\n",
            "x_bar= [[ 56.24864865]\n",
            " [339.02702703]\n",
            " [484.91891892]\n",
            " [  9.36486486]\n",
            " [ 36.74189189]\n",
            " [112.94594595]\n",
            " [ 24.97297297]] end\n"
          ]
        }
      ]
    },
    {
      "cell_type": "code",
      "source": [
        "#Results after removing outliers\n",
        "import scipy\n",
        "print(\"z1 statistic\",z1)\n",
        "dof=p*(p+1)*(p+2)/6\n",
        "print(\"Degree of Freedom\",dof)\n",
        "scipy.stats.chi2.ppf(0.05, dof)"
      ],
      "metadata": {
        "colab": {
          "base_uri": "https://localhost:8080/"
        },
        "id": "8R4dM2u0sUeL",
        "outputId": "5a6c073c-aff0-4902-9d9b-3f7551f15fb3"
      },
      "execution_count": null,
      "outputs": [
        {
          "output_type": "stream",
          "name": "stdout",
          "text": [
            "z1 statistic 130.33608370603082\n",
            "Degree of Freedom 84.0\n"
          ]
        },
        {
          "output_type": "execute_result",
          "data": {
            "text/plain": [
              "63.87626144303417"
            ]
          },
          "metadata": {},
          "execution_count": 51
        }
      ]
    },
    {
      "cell_type": "code",
      "source": [
        "# Introducing missing values\n",
        "np.random.seed(0)\n",
        "X_t=df_t[[\"SO2\",\"temp\",\"manu\",\"popul\",\"wind\",\"precip\",\"predays\"]]\n",
        "r_no=np.random.randint(0,36,5)\n",
        "print(r_no)\n",
        "r_no2=np.random.randint(0,6,5)\n",
        "print(r_no2)\n",
        "for i,j in zip(r_no,r_no2):\n",
        "   print(i,j)\n",
        "   X_t.iloc[i,j]=None\n",
        "print(X_t)"
      ],
      "metadata": {
        "id": "QqJS-PhmvzS0"
      },
      "execution_count": null,
      "outputs": []
    },
    {
      "cell_type": "code",
      "execution_count": null,
      "metadata": {
        "id": "tlV3swUaIxHs"
      },
      "outputs": [],
      "source": [
        "y=df.iloc[:,-1]\n",
        "X=df.loc[:,[\"temp\",\"manu\",\"popul\",\"wind\",\"precip\",\"predays\",\"SO2\"]]"
      ]
    },
    {
      "cell_type": "code",
      "source": [
        "print(X)"
      ],
      "metadata": {
        "colab": {
          "base_uri": "https://localhost:8080/"
        },
        "id": "PGMwtWTQmvPT",
        "outputId": "20018af1-a2eb-4b89-9fa7-ed88500c2da1"
      },
      "execution_count": null,
      "outputs": [
        {
          "output_type": "stream",
          "name": "stdout",
          "text": [
            "    temp  manu  popul  wind  precip  predays  SO2\n",
            "0   47.6    44    116   8.8   33.36      135   46\n",
            "1   56.8    46    244   8.9    7.77       58   11\n",
            "2   61.5   368    497   9.1   48.34      115   24\n",
            "3   55.0   625    905   9.6   41.31      111   47\n",
            "4   47.1   391    463  12.4   36.11      166   11\n",
            "5   55.2    35     71   6.5   40.75      148   31\n",
            "6   50.6  3344   3369  10.4   34.44      122  110\n",
            "7   54.0   462    453   7.1   39.04      132   23\n",
            "8   49.7  1007    751  10.9   34.99      155   65\n",
            "9   51.5   266    540   8.6   37.01      134   26\n",
            "10  66.2   641    844  10.9   35.94       78    9\n",
            "11  51.9   454    515   9.0   12.95       86   17\n",
            "12  49.0   104    201  11.2   30.85      103   17\n",
            "13  49.9  1064   1513  10.1   30.96      129   35\n",
            "14  49.1   412    158   9.0   43.37      127   56\n",
            "15  68.9   721   1233  10.8   48.19      103   10\n",
            "16  52.3   361    746   9.7   38.74      121   28\n",
            "17  68.4   136    529   8.8   54.47      116   14\n",
            "18  54.5   381    507  10.0   37.00       99   14\n",
            "19  61.0    91    132   8.2   48.52      100   13\n",
            "20  55.6   291    593   8.3   43.11      123   30\n",
            "21  61.6   337    624   9.2   49.10      105   10\n",
            "22  75.5   207    335   9.0   59.80      128   10\n",
            "23  45.7   569    717  11.8   29.07      123   16\n",
            "24  43.5   699    744  10.6   25.94      137   29\n",
            "25  59.4   275    448   7.9   46.00      119   18\n",
            "26  68.3   204    361   8.4   56.77      113    9\n",
            "27  59.3    96    308  10.6   44.68      116   31\n",
            "28  51.5   181    347  10.9   30.18       98   14\n",
            "29  54.6  1692   1950   9.6   39.93      115   69\n",
            "30  70.3   213    582   6.0    7.05       36   10\n",
            "31  50.4   347    520   9.4   36.22      147   61\n",
            "32  50.0   343    179  10.6   42.75      125   94\n",
            "33  57.8   197    299   7.6   42.59      115   26\n",
            "34  51.0   137    176   8.7   15.17       89   28\n",
            "35  56.7   453    716   8.7   20.66       67   12\n",
            "36  51.1   379    531   9.4   38.79      164   29\n",
            "37  55.9   775    622   9.5   35.89      105   56\n",
            "38  57.3   434    757   9.3   38.89      111   29\n",
            "39  56.6   125    277  12.7   30.58       82    8\n",
            "40  54.0    80     80   9.0   40.25      114   36\n"
          ]
        }
      ]
    },
    {
      "cell_type": "code",
      "execution_count": null,
      "metadata": {
        "id": "ElXRU3KIIxHs"
      },
      "outputs": [],
      "source": [
        "from sklearn.preprocessing import StandardScaler\n",
        "sc=StandardScaler()\n",
        "X=sc.fit_transform(X)\n",
        "X=pd.DataFrame(X,columns=[\"temp\",\"manu\",\"popul\",\"wind\",\"precip\",\"predays\",\"SO2\"])\n"
      ]
    },
    {
      "cell_type": "code",
      "source": [
        "print(X)"
      ],
      "metadata": {
        "id": "bxvqy37QnyO0",
        "colab": {
          "base_uri": "https://localhost:8080/"
        },
        "outputId": "e4310107-46dc-4b5b-e32c-ce1ab2655e6e"
      },
      "execution_count": null,
      "outputs": [
        {
          "output_type": "stream",
          "name": "stdout",
          "text": [
            "        temp      manu     popul      wind    precip   predays       SO2\n",
            "0  -1.143491 -0.753014 -0.861195 -0.456308 -0.293196  0.805829  0.688019\n",
            "1   0.145200 -0.749421 -0.637422 -0.385442 -2.494087 -2.135215 -0.821626\n",
            "2   0.803553 -0.170867 -0.195120 -0.243710  0.995172  0.041922 -0.260900\n",
            "3  -0.106935  0.290899  0.518158  0.110620  0.390551 -0.110860  0.731152\n",
            "4  -1.213528 -0.129541 -0.254559  2.094868 -0.056680  1.989886 -0.821626\n",
            "5  -0.078920 -0.769185 -0.939866 -2.086225  0.342387  1.302369  0.041029\n",
            "6  -0.723266  5.176267  4.825797  0.677548 -0.200310  0.309289  3.448513\n",
            "7  -0.247010 -0.001972 -0.272042 -1.661030  0.195317  0.691243 -0.304033\n",
            "8  -0.849333  0.977258  0.248931  1.031878 -0.153007  1.569737  1.507541\n",
            "9  -0.597198 -0.354135 -0.119946 -0.598040  0.020725  0.767634 -0.174635\n",
            "10  1.461905  0.319647  0.411516  1.031878 -0.071301 -1.371307 -0.907891\n",
            "11 -0.541168 -0.016346 -0.163651 -0.314576 -2.048577 -1.065744 -0.562829\n",
            "12 -0.947386 -0.645209 -0.712596  1.244476 -0.509071 -0.416423 -0.562829\n",
            "13 -0.821318  1.079673  1.581082  0.464950 -0.499610  0.576657  0.213560\n",
            "14 -0.933378 -0.091810 -0.787770 -0.314576  0.567723  0.500266  1.119347\n",
            "15  1.840108  0.463387  1.091578  0.961012  0.982271 -0.416423 -0.864758\n",
            "16 -0.485138 -0.183444  0.240190  0.181486  0.169516  0.271094 -0.088369\n",
            "17  1.770071 -0.587713 -0.139176 -0.456308  1.522388  0.080117 -0.692227\n",
            "18 -0.176973 -0.147509 -0.177637  0.394084  0.019865 -0.569204 -0.692227\n",
            "19  0.733515 -0.668567 -0.833224 -0.881504  1.010653 -0.531009 -0.735360\n",
            "20 -0.022890 -0.309217 -0.027289 -0.810638  0.545361  0.347485 -0.002104\n",
            "21  0.817560 -0.226566  0.026906 -0.172844  1.060537 -0.340032 -0.864758\n",
            "22  2.764604 -0.460144 -0.478333 -0.314576  1.980800  0.538462 -0.864758\n",
            "23 -1.409634  0.190280  0.189491  1.669672 -0.662162  0.347485 -0.605962\n",
            "24 -1.717799  0.423858  0.236693  0.819280 -0.931360  0.882220 -0.045237\n",
            "25  0.509395 -0.337965 -0.280783 -1.094102  0.793918  0.194703 -0.519697\n",
            "26  1.756063 -0.465534 -0.432879 -0.739772  1.720202 -0.034469 -0.907891\n",
            "27  0.495387 -0.659583 -0.525535  0.819280  0.680391  0.080117  0.041029\n",
            "28 -0.597198 -0.506859 -0.457354  1.031878 -0.566695 -0.607400 -0.692227\n",
            "29 -0.162965  2.208033  2.345059  0.110620  0.271863  0.041922  1.680072\n",
            "30  2.036213 -0.449363 -0.046520 -2.440555 -2.556012 -2.975514 -0.864758\n",
            "31 -0.751281 -0.208599 -0.154910 -0.031112 -0.047219  1.264174  1.335010\n",
            "32 -0.807311 -0.215786 -0.751057  0.819280  0.514399  0.423876  2.758390\n",
            "33  0.285275 -0.478111 -0.541269 -1.306700  0.500638  0.041922 -0.174635\n",
            "34 -0.667236 -0.585916 -0.756301 -0.527174 -1.857644 -0.951158 -0.088369\n",
            "35  0.131192 -0.018143  0.187743 -0.527174 -1.385471 -1.791457 -0.778493\n",
            "36 -0.653228 -0.151102 -0.135680 -0.031112  0.173816  1.913496 -0.045237\n",
            "37  0.019132  0.560411  0.023409  0.039754 -0.075601 -0.340032  1.119347\n",
            "38  0.215237 -0.052281  0.259420 -0.101978  0.182416 -0.110860 -0.045237\n",
            "39  0.117185 -0.607477 -0.579730  2.307466 -0.532293 -1.218526 -0.951024\n",
            "40 -0.247010 -0.688331 -0.924132 -0.314576  0.299384  0.003726  0.256692\n"
          ]
        }
      ]
    },
    {
      "cell_type": "markdown",
      "metadata": {
        "id": "TyDL5dE9IxHt"
      },
      "source": [
        "# PCA"
      ]
    },
    {
      "cell_type": "code",
      "source": [
        "S=pd.DataFrame.cov(X)\n",
        "eig_val,eig_vec=np.linalg.eig(S)\n",
        "print(S)"
      ],
      "metadata": {
        "id": "tPMOTbfBloG1",
        "colab": {
          "base_uri": "https://localhost:8080/"
        },
        "outputId": "6b89df52-e9e2-48a8-bd0d-fea1cfe27c3e"
      },
      "execution_count": null,
      "outputs": [
        {
          "output_type": "stream",
          "name": "stdout",
          "text": [
            "             temp      manu     popul      wind    precip   predays       SO2\n",
            "temp     1.025000 -0.194793 -0.064245 -0.358483  0.395910 -0.440998 -0.444440\n",
            "manu    -0.194793  1.025000  0.979151  0.243896 -0.033227  0.135125  0.660888\n",
            "popul   -0.064245  0.979151  1.025000  0.217960 -0.026772  0.043135  0.506124\n",
            "wind    -0.358483  0.243896  0.217960  1.025000 -0.013319  0.168208  0.097058\n",
            "precip   0.395910 -0.033227 -0.026772 -0.013319  1.025000  0.508499  0.055652\n",
            "predays -0.440998  0.135125  0.043135  0.168208  0.508499  1.025000  0.378803\n",
            "SO2     -0.444440  0.660888  0.506124  0.097058  0.055652  0.378803  1.025000\n"
          ]
        }
      ]
    },
    {
      "cell_type": "code",
      "source": [
        "print(\"Eigen values are-\",eig_val)\n",
        "print(eig_vec)"
      ],
      "metadata": {
        "id": "Dy9mieFfmFjC",
        "colab": {
          "base_uri": "https://localhost:8080/"
        },
        "outputId": "ef106738-d2e6-4330-b57e-68db2483dbd5"
      },
      "execution_count": null,
      "outputs": [
        {
          "output_type": "stream",
          "name": "stdout",
          "text": [
            "Eigen values are- [2.79632268 1.42984731 1.55014323 0.91429107 0.35544813 0.10279478\n",
            " 0.0261528 ]\n",
            "[[-3.15370690e-01  6.77136178e-01  8.86378850e-02 -1.85227939e-01\n",
            "   1.62465152e-01 -6.10661071e-01  2.36641125e-02]\n",
            " [ 5.41168703e-01  2.67159129e-01  2.25881089e-01 -2.62723671e-02\n",
            "  -1.64101110e-01  4.27335187e-02  7.45180920e-01]\n",
            " [ 4.87588112e-01  3.44837959e-01  2.82003804e-01 -1.13403769e-01\n",
            "  -3.49104824e-01  8.78632695e-02 -6.49125507e-01]\n",
            " [ 2.49874928e-01 -3.11265456e-01 -5.54714865e-02 -8.61901314e-01\n",
            "   2.68254900e-01 -1.50053780e-01 -1.57653766e-02]\n",
            " [ 1.87312186e-04  4.92036299e-01 -6.25879366e-01 -1.83937185e-01\n",
            "   1.60598783e-01  5.53573845e-01  1.03153086e-02]\n",
            " [ 2.60179073e-01 -1.09578949e-01 -6.77967410e-01  1.09760698e-01\n",
            "  -4.39969776e-01 -5.04946685e-01 -8.21739320e-03]\n",
            " [ 4.89698817e-01  1.43501956e-02 -8.45756306e-02  4.04210075e-01\n",
            "   7.30394180e-01 -1.83345726e-01 -1.49529278e-01]]\n"
          ]
        }
      ]
    },
    {
      "cell_type": "markdown",
      "source": [
        "# Thus the number of principal components are 4 as the proportion of total variance explained will be 93%."
      ],
      "metadata": {
        "id": "9CJcv6KFs36P"
      }
    },
    {
      "cell_type": "code",
      "source": [
        "print(\"The principal components loadings are:-\",\"\\n\",eig_vec[:4])"
      ],
      "metadata": {
        "id": "H9LUAUlS6vWJ",
        "colab": {
          "base_uri": "https://localhost:8080/"
        },
        "outputId": "e71359f9-65df-47b2-d71b-b5b6be2341b2"
      },
      "execution_count": null,
      "outputs": [
        {
          "output_type": "stream",
          "name": "stdout",
          "text": [
            "The principal components loadings are:- \n",
            " [[-0.31537069  0.67713618  0.08863789 -0.18522794  0.16246515 -0.61066107\n",
            "   0.02366411]\n",
            " [ 0.5411687   0.26715913  0.22588109 -0.02627237 -0.16410111  0.04273352\n",
            "   0.74518092]\n",
            " [ 0.48758811  0.34483796  0.2820038  -0.11340377 -0.34910482  0.08786327\n",
            "  -0.64912551]\n",
            " [ 0.24987493 -0.31126546 -0.05547149 -0.86190131  0.2682549  -0.15005378\n",
            "  -0.01576538]]\n"
          ]
        }
      ]
    },
    {
      "cell_type": "markdown",
      "source": [
        "# Scree plot"
      ],
      "metadata": {
        "id": "pennQQ4H7RXx"
      }
    },
    {
      "cell_type": "code",
      "execution_count": null,
      "metadata": {
        "id": "0Ezm9cJeIxHt",
        "colab": {
          "base_uri": "https://localhost:8080/",
          "height": 297
        },
        "outputId": "519ee29d-c598-4f91-b497-a2cf76eef036"
      },
      "outputs": [
        {
          "output_type": "execute_result",
          "data": {
            "text/plain": [
              "Text(0, 0.5, 'Explained Variaces')"
            ]
          },
          "metadata": {},
          "execution_count": 40
        },
        {
          "output_type": "display_data",
          "data": {
            "image/png": "[encoded data removed]",
            "text/plain": [
              "<Figure size 432x288 with 1 Axes>"
            ]
          },
          "metadata": {
            "needs_background": "light"
          }
        }
      ],
      "source": [
        "from sklearn.decomposition import PCA\n",
        "from matplotlib.pyplot import plot, xlabel, ylabel\n",
        "pca2 = PCA().fit(X)\n",
        "plot(pca2.explained_variance_, linewidth=2)\n",
        "xlabel('Components')\n",
        "ylabel('Explained Variaces')\n"
      ]
    },
    {
      "cell_type": "code",
      "execution_count": null,
      "metadata": {
        "id": "R22QwVjDIxHw"
      },
      "outputs": [],
      "source": [
        "from sklearn.decomposition import PCA\n",
        "pca = PCA(n_components = 4)\n",
        "X = pca.fit_transform(X)\n"
      ]
    },
    {
      "cell_type": "markdown",
      "source": [
        "#Q2 Air Pollution Data Set:\n",
        "Find the clusters by hierarchical and partitioning methods. How many clusters are appropriate for the \n",
        "data set? – Justify.\n"
      ],
      "metadata": {
        "id": "h0JBby9KKRXX"
      }
    },
    {
      "cell_type": "code",
      "execution_count": null,
      "metadata": {
        "id": "uemxX7c4VsKD"
      },
      "outputs": [],
      "source": [
        "#Assignment 2 : cluster by hierarchical and partitioning methods- Air pollution data\n",
        "import numpy as np\n",
        "import pandas as pd\n",
        "import matplotlib.pyplot as plt"
      ]
    },
    {
      "cell_type": "code",
      "source": [
        "df=pd.read_csv('/content/USairpollution.csv')\n",
        "df.head()"
      ],
      "metadata": {
        "id": "MQlMAKncYhLS",
        "colab": {
          "base_uri": "https://localhost:8080/",
          "height": 206
        },
        "outputId": "f2fecfef-38d6-493e-820b-1e7d7bb7d164"
      },
      "execution_count": null,
      "outputs": [
        {
          "output_type": "execute_result",
          "data": {
            "text/html": [
              "\n",
              "  <div id=\"df-5eda6661-c01c-46f3-a18c-02e62e418e57\">\n",
              "    <div class=\"colab-df-container\">\n",
              "      <div>\n",
              "<style scoped>\n",
              "    .dataframe tbody tr th:only-of-type {\n",
              "        vertical-align: middle;\n",
              "    }\n",
              "\n",
              "    .dataframe tbody tr th {\n",
              "        vertical-align: top;\n",
              "    }\n",
              "\n",
              "    .dataframe thead th {\n",
              "        text-align: right;\n",
              "    }\n",
              "</style>\n",
              "<table border=\"1\" class=\"dataframe\">\n",
              "  <thead>\n",
              "    <tr style=\"text-align: right;\">\n",
              "      <th></th>\n",
              "      <th>Cities</th>\n",
              "      <th>SO2</th>\n",
              "      <th>temp</th>\n",
              "      <th>manu</th>\n",
              "      <th>popul</th>\n",
              "      <th>wind</th>\n",
              "      <th>precip</th>\n",
              "      <th>predays</th>\n",
              "    </tr>\n",
              "  </thead>\n",
              "  <tbody>\n",
              "    <tr>\n",
              "      <th>0</th>\n",
              "      <td>Albany</td>\n",
              "      <td>46</td>\n",
              "      <td>47.6</td>\n",
              "      <td>44</td>\n",
              "      <td>116</td>\n",
              "      <td>8.8</td>\n",
              "      <td>33.36</td>\n",
              "      <td>135</td>\n",
              "    </tr>\n",
              "    <tr>\n",
              "      <th>1</th>\n",
              "      <td>Albuquerque</td>\n",
              "      <td>11</td>\n",
              "      <td>56.8</td>\n",
              "      <td>46</td>\n",
              "      <td>244</td>\n",
              "      <td>8.9</td>\n",
              "      <td>7.77</td>\n",
              "      <td>58</td>\n",
              "    </tr>\n",
              "    <tr>\n",
              "      <th>2</th>\n",
              "      <td>Atlanta</td>\n",
              "      <td>24</td>\n",
              "      <td>61.5</td>\n",
              "      <td>368</td>\n",
              "      <td>497</td>\n",
              "      <td>9.1</td>\n",
              "      <td>48.34</td>\n",
              "      <td>115</td>\n",
              "    </tr>\n",
              "    <tr>\n",
              "      <th>3</th>\n",
              "      <td>Baltimore</td>\n",
              "      <td>47</td>\n",
              "      <td>55.0</td>\n",
              "      <td>625</td>\n",
              "      <td>905</td>\n",
              "      <td>9.6</td>\n",
              "      <td>41.31</td>\n",
              "      <td>111</td>\n",
              "    </tr>\n",
              "    <tr>\n",
              "      <th>4</th>\n",
              "      <td>Buffalo</td>\n",
              "      <td>11</td>\n",
              "      <td>47.1</td>\n",
              "      <td>391</td>\n",
              "      <td>463</td>\n",
              "      <td>12.4</td>\n",
              "      <td>36.11</td>\n",
              "      <td>166</td>\n",
              "    </tr>\n",
              "  </tbody>\n",
              "</table>\n",
              "</div>\n",
              "      <button class=\"colab-df-convert\" onclick=\"convertToInteractive('df-5eda6661-c01c-46f3-a18c-02e62e418e57')\"\n",
              "              title=\"Convert this dataframe to an interactive table.\"\n",
              "              style=\"display:none;\">\n",
              "        \n",
              "  <svg xmlns=\"http://www.w3.org/2000/svg\" height=\"24px\"viewBox=\"0 0 24 24\"\n",
              "       width=\"24px\">\n",
              "    <path d=\"M0 0h24v24H0V0z\" fill=\"none\"/>\n",
              "    <path d=\"M18.56 5.44l.94 2.06.94-2.06 2.06-.94-2.06-.94-.94-2.06-.94 2.06-2.06.94zm-11 1L8.5 8.5l.94-2.06 2.06-.94-2.06-.94L8.5 2.5l-.94 2.06-2.06.94zm10 10l.94 2.06.94-2.06 2.06-.94-2.06-.94-.94-2.06-.94 2.06-2.06.94z\"/><path d=\"M17.41 7.96l-1.37-1.37c-.4-.4-.92-.59-1.43-.59-.52 0-1.04.2-1.43.59L10.3 9.45l-7.72 7.72c-.78.78-.78 2.05 0 2.83L4 21.41c.39.39.9.59 1.41.59.51 0 1.02-.2 1.41-.59l7.78-7.78 2.81-2.81c.8-.78.8-2.07 0-2.86zM5.41 20L4 18.59l7.72-7.72 1.47 1.35L5.41 20z\"/>\n",
              "  </svg>\n",
              "      </button>\n",
              "      \n",
              "  <style>\n",
              "    .colab-df-container {\n",
              "      display:flex;\n",
              "      flex-wrap:wrap;\n",
              "      gap: 12px;\n",
              "    }\n",
              "\n",
              "    .colab-df-convert {\n",
              "      background-color: #E8F0FE;\n",
              "      border: none;\n",
              "      border-radius: 50%;\n",
              "      cursor: pointer;\n",
              "      display: none;\n",
              "      fill: #1967D2;\n",
              "      height: 32px;\n",
              "      padding: 0 0 0 0;\n",
              "      width: 32px;\n",
              "    }\n",
              "\n",
              "    .colab-df-convert:hover {\n",
              "      background-color: #E2EBFA;\n",
              "      box-shadow: 0px 1px 2px rgba(60, 64, 67, 0.3), 0px 1px 3px 1px rgba(60, 64, 67, 0.15);\n",
              "      fill: #174EA6;\n",
              "    }\n",
              "\n",
              "    [theme=dark] .colab-df-convert {\n",
              "      background-color: #3B4455;\n",
              "      fill: #D2E3FC;\n",
              "    }\n",
              "\n",
              "    [theme=dark] .colab-df-convert:hover {\n",
              "      background-color: #434B5C;\n",
              "      box-shadow: 0px 1px 3px 1px rgba(0, 0, 0, 0.15);\n",
              "      filter: drop-shadow(0px 1px 2px rgba(0, 0, 0, 0.3));\n",
              "      fill: #FFFFFF;\n",
              "    }\n",
              "  </style>\n",
              "\n",
              "      <script>\n",
              "        const buttonEl =\n",
              "          document.querySelector('#df-5eda6661-c01c-46f3-a18c-02e62e418e57 button.colab-df-convert');\n",
              "        buttonEl.style.display =\n",
              "          google.colab.kernel.accessAllowed ? 'block' : 'none';\n",
              "\n",
              "        async function convertToInteractive(key) {\n",
              "          const element = document.querySelector('#df-5eda6661-c01c-46f3-a18c-02e62e418e57');\n",
              "          const dataTable =\n",
              "            await google.colab.kernel.invokeFunction('convertToInteractive',\n",
              "                                                     [key], {});\n",
              "          if (!dataTable) return;\n",
              "\n",
              "          const docLinkHtml = 'Like what you see? Visit the ' +\n",
              "            '<a target=\"_blank\" href=https://colab.research.google.com/notebooks/data_table.ipynb>data table notebook</a>'\n",
              "            + ' to learn more about interactive tables.';\n",
              "          element.innerHTML = '';\n",
              "          dataTable['output_type'] = 'display_data';\n",
              "          await google.colab.output.renderOutput(dataTable, element);\n",
              "          const docLink = document.createElement('div');\n",
              "          docLink.innerHTML = docLinkHtml;\n",
              "          element.appendChild(docLink);\n",
              "        }\n",
              "      </script>\n",
              "    </div>\n",
              "  </div>\n",
              "  "
            ],
            "text/plain": [
              "        Cities  SO2  temp  manu  popul  wind  precip  predays\n",
              "0       Albany   46  47.6    44    116   8.8   33.36      135\n",
              "1  Albuquerque   11  56.8    46    244   8.9    7.77       58\n",
              "2      Atlanta   24  61.5   368    497   9.1   48.34      115\n",
              "3    Baltimore   47  55.0   625    905   9.6   41.31      111\n",
              "4      Buffalo   11  47.1   391    463  12.4   36.11      166"
            ]
          },
          "metadata": {},
          "execution_count": 47
        }
      ]
    },
    {
      "cell_type": "code",
      "source": [
        "##Hierarchical clustering \n",
        "###Normalize \n",
        "from sklearn.preprocessing import normalize\n",
        "data_scaled = normalize(df.iloc[:,1:])\n",
        "data_scaled = pd.DataFrame(data_scaled, columns=['SO2'\t,'temp',\t'manu','popul'\t,'wind',\t'precip',\t'predays'])"
      ],
      "metadata": {
        "id": "OMiNzAf8ar-G"
      },
      "execution_count": null,
      "outputs": []
    },
    {
      "cell_type": "code",
      "source": [
        "df=pd.DataFrame(df['Cities']).join(data_scaled)"
      ],
      "metadata": {
        "id": "yzsN3RV1eaJr"
      },
      "execution_count": null,
      "outputs": []
    },
    {
      "cell_type": "code",
      "source": [
        "from scipy.cluster import hierarchy\n",
        "from scipy.cluster.hierarchy import dendrogram\n",
        "plt.figure(figsize=(10, 7))  \n",
        "Z = hierarchy.linkage(df.iloc[:,1:], method='ward')\n",
        "plt.title(\"Dendrograms\")\n",
        "  \n",
        "# Dendrogram plotting using linkage matrix\n",
        "dendrogram = hierarchy.dendrogram(Z)\n",
        "plt.axhline(y=1, color='r', linestyle='--')\n",
        "plt.axhline(y=1.5, color='g', linestyle='--')\n",
        "plt.axhline(y=0.75, color='y', linestyle='--')\n",
        "plt.axhline(y=0.5, color='r', linestyle='--')"
      ],
      "metadata": {
        "id": "hGwIoEIUhHZx",
        "colab": {
          "base_uri": "https://localhost:8080/",
          "height": 464
        },
        "outputId": "0eea9208-0577-4919-937e-37543fd8ed83"
      },
      "execution_count": null,
      "outputs": [
        {
          "output_type": "execute_result",
          "data": {
            "text/plain": [
              "<matplotlib.lines.Line2D at 0x7fd7b12d9b10>"
            ]
          },
          "metadata": {},
          "execution_count": 50
        },
        {
          "output_type": "display_data",
          "data": {
            "image/png": "[encoded data removed]",
            "text/plain": [
              "<Figure size 720x504 with 1 Axes>"
            ]
          },
          "metadata": {
            "needs_background": "light"
          }
        }
      ]
    },
    {
      "cell_type": "code",
      "source": [
        "from sklearn.cluster import AgglomerativeClustering\n",
        "cluster = AgglomerativeClustering(n_clusters=3, affinity='euclidean', linkage='ward')  \n",
        "cluster_level=cluster.fit_predict(data_scaled)"
      ],
      "metadata": {
        "id": "zraNgseOjGah"
      },
      "execution_count": null,
      "outputs": []
    },
    {
      "cell_type": "code",
      "source": [
        "data=pd.DataFrame(df).join(pd.DataFrame(cluster_level,columns=['Cluster_level']))\n",
        "data.head()"
      ],
      "metadata": {
        "id": "ycQMcssEjyqk",
        "colab": {
          "base_uri": "https://localhost:8080/",
          "height": 206
        },
        "outputId": "3fe9313b-a79b-4255-bbe1-2ea00791c0c5"
      },
      "execution_count": null,
      "outputs": [
        {
          "output_type": "execute_result",
          "data": {
            "text/html": [
              "\n",
              "  <div id=\"df-a373e169-9a72-407b-996d-fa1894d36374\">\n",
              "    <div class=\"colab-df-container\">\n",
              "      <div>\n",
              "<style scoped>\n",
              "    .dataframe tbody tr th:only-of-type {\n",
              "        vertical-align: middle;\n",
              "    }\n",
              "\n",
              "    .dataframe tbody tr th {\n",
              "        vertical-align: top;\n",
              "    }\n",
              "\n",
              "    .dataframe thead th {\n",
              "        text-align: right;\n",
              "    }\n",
              "</style>\n",
              "<table border=\"1\" class=\"dataframe\">\n",
              "  <thead>\n",
              "    <tr style=\"text-align: right;\">\n",
              "      <th></th>\n",
              "      <th>Cities</th>\n",
              "      <th>SO2</th>\n",
              "      <th>temp</th>\n",
              "      <th>manu</th>\n",
              "      <th>popul</th>\n",
              "      <th>wind</th>\n",
              "      <th>precip</th>\n",
              "      <th>predays</th>\n",
              "      <th>Cluster_level</th>\n",
              "    </tr>\n",
              "  </thead>\n",
              "  <tbody>\n",
              "    <tr>\n",
              "      <th>0</th>\n",
              "      <td>Albany</td>\n",
              "      <td>0.232367</td>\n",
              "      <td>0.240450</td>\n",
              "      <td>0.222264</td>\n",
              "      <td>0.585970</td>\n",
              "      <td>0.044453</td>\n",
              "      <td>0.168517</td>\n",
              "      <td>0.681948</td>\n",
              "      <td>1</td>\n",
              "    </tr>\n",
              "    <tr>\n",
              "      <th>1</th>\n",
              "      <td>Albuquerque</td>\n",
              "      <td>0.042028</td>\n",
              "      <td>0.217017</td>\n",
              "      <td>0.175753</td>\n",
              "      <td>0.932257</td>\n",
              "      <td>0.034004</td>\n",
              "      <td>0.029687</td>\n",
              "      <td>0.221602</td>\n",
              "      <td>2</td>\n",
              "    </tr>\n",
              "    <tr>\n",
              "      <th>2</th>\n",
              "      <td>Atlanta</td>\n",
              "      <td>0.037832</td>\n",
              "      <td>0.096945</td>\n",
              "      <td>0.580096</td>\n",
              "      <td>0.783444</td>\n",
              "      <td>0.014345</td>\n",
              "      <td>0.076201</td>\n",
              "      <td>0.181280</td>\n",
              "      <td>0</td>\n",
              "    </tr>\n",
              "    <tr>\n",
              "      <th>3</th>\n",
              "      <td>Baltimore</td>\n",
              "      <td>0.042396</td>\n",
              "      <td>0.049612</td>\n",
              "      <td>0.563772</td>\n",
              "      <td>0.816342</td>\n",
              "      <td>0.008660</td>\n",
              "      <td>0.037263</td>\n",
              "      <td>0.100126</td>\n",
              "      <td>0</td>\n",
              "    </tr>\n",
              "    <tr>\n",
              "      <th>4</th>\n",
              "      <td>Buffalo</td>\n",
              "      <td>0.017423</td>\n",
              "      <td>0.074602</td>\n",
              "      <td>0.619308</td>\n",
              "      <td>0.733349</td>\n",
              "      <td>0.019640</td>\n",
              "      <td>0.057195</td>\n",
              "      <td>0.262929</td>\n",
              "      <td>0</td>\n",
              "    </tr>\n",
              "  </tbody>\n",
              "</table>\n",
              "</div>\n",
              "      <button class=\"colab-df-convert\" onclick=\"convertToInteractive('df-a373e169-9a72-407b-996d-fa1894d36374')\"\n",
              "              title=\"Convert this dataframe to an interactive table.\"\n",
              "              style=\"display:none;\">\n",
              "        \n",
              "  <svg xmlns=\"http://www.w3.org/2000/svg\" height=\"24px\"viewBox=\"0 0 24 24\"\n",
              "       width=\"24px\">\n",
              "    <path d=\"M0 0h24v24H0V0z\" fill=\"none\"/>\n",
              "    <path d=\"M18.56 5.44l.94 2.06.94-2.06 2.06-.94-2.06-.94-.94-2.06-.94 2.06-2.06.94zm-11 1L8.5 8.5l.94-2.06 2.06-.94-2.06-.94L8.5 2.5l-.94 2.06-2.06.94zm10 10l.94 2.06.94-2.06 2.06-.94-2.06-.94-.94-2.06-.94 2.06-2.06.94z\"/><path d=\"M17.41 7.96l-1.37-1.37c-.4-.4-.92-.59-1.43-.59-.52 0-1.04.2-1.43.59L10.3 9.45l-7.72 7.72c-.78.78-.78 2.05 0 2.83L4 21.41c.39.39.9.59 1.41.59.51 0 1.02-.2 1.41-.59l7.78-7.78 2.81-2.81c.8-.78.8-2.07 0-2.86zM5.41 20L4 18.59l7.72-7.72 1.47 1.35L5.41 20z\"/>\n",
              "  </svg>\n",
              "      </button>\n",
              "      \n",
              "  <style>\n",
              "    .colab-df-container {\n",
              "      display:flex;\n",
              "      flex-wrap:wrap;\n",
              "      gap: 12px;\n",
              "    }\n",
              "\n",
              "    .colab-df-convert {\n",
              "      background-color: #E8F0FE;\n",
              "      border: none;\n",
              "      border-radius: 50%;\n",
              "      cursor: pointer;\n",
              "      display: none;\n",
              "      fill: #1967D2;\n",
              "      height: 32px;\n",
              "      padding: 0 0 0 0;\n",
              "      width: 32px;\n",
              "    }\n",
              "\n",
              "    .colab-df-convert:hover {\n",
              "      background-color: #E2EBFA;\n",
              "      box-shadow: 0px 1px 2px rgba(60, 64, 67, 0.3), 0px 1px 3px 1px rgba(60, 64, 67, 0.15);\n",
              "      fill: #174EA6;\n",
              "    }\n",
              "\n",
              "    [theme=dark] .colab-df-convert {\n",
              "      background-color: #3B4455;\n",
              "      fill: #D2E3FC;\n",
              "    }\n",
              "\n",
              "    [theme=dark] .colab-df-convert:hover {\n",
              "      background-color: #434B5C;\n",
              "      box-shadow: 0px 1px 3px 1px rgba(0, 0, 0, 0.15);\n",
              "      filter: drop-shadow(0px 1px 2px rgba(0, 0, 0, 0.3));\n",
              "      fill: #FFFFFF;\n",
              "    }\n",
              "  </style>\n",
              "\n",
              "      <script>\n",
              "        const buttonEl =\n",
              "          document.querySelector('#df-a373e169-9a72-407b-996d-fa1894d36374 button.colab-df-convert');\n",
              "        buttonEl.style.display =\n",
              "          google.colab.kernel.accessAllowed ? 'block' : 'none';\n",
              "\n",
              "        async function convertToInteractive(key) {\n",
              "          const element = document.querySelector('#df-a373e169-9a72-407b-996d-fa1894d36374');\n",
              "          const dataTable =\n",
              "            await google.colab.kernel.invokeFunction('convertToInteractive',\n",
              "                                                     [key], {});\n",
              "          if (!dataTable) return;\n",
              "\n",
              "          const docLinkHtml = 'Like what you see? Visit the ' +\n",
              "            '<a target=\"_blank\" href=https://colab.research.google.com/notebooks/data_table.ipynb>data table notebook</a>'\n",
              "            + ' to learn more about interactive tables.';\n",
              "          element.innerHTML = '';\n",
              "          dataTable['output_type'] = 'display_data';\n",
              "          await google.colab.output.renderOutput(dataTable, element);\n",
              "          const docLink = document.createElement('div');\n",
              "          docLink.innerHTML = docLinkHtml;\n",
              "          element.appendChild(docLink);\n",
              "        }\n",
              "      </script>\n",
              "    </div>\n",
              "  </div>\n",
              "  "
            ],
            "text/plain": [
              "        Cities       SO2      temp  ...    precip   predays  Cluster_level\n",
              "0       Albany  0.232367  0.240450  ...  0.168517  0.681948              1\n",
              "1  Albuquerque  0.042028  0.217017  ...  0.029687  0.221602              2\n",
              "2      Atlanta  0.037832  0.096945  ...  0.076201  0.181280              0\n",
              "3    Baltimore  0.042396  0.049612  ...  0.037263  0.100126              0\n",
              "4      Buffalo  0.017423  0.074602  ...  0.057195  0.262929              0\n",
              "\n",
              "[5 rows x 9 columns]"
            ]
          },
          "metadata": {},
          "execution_count": 52
        }
      ]
    },
    {
      "cell_type": "code",
      "source": [
        "def SSE(data,cluster_number):\n",
        "  data=data[data['Cluster_level']==cluster_number]\n",
        "  centroid=np.array(data.iloc[:,1:-1].sum()/len(data))\n",
        "  error=np.array(data.iloc[:,1:-1])-centroid\n",
        "  SSE=(error**2).sum()\n",
        "  return SSE\n",
        "\n"
      ],
      "metadata": {
        "id": "htx26RHU-xO5"
      },
      "execution_count": null,
      "outputs": []
    },
    {
      "cell_type": "code",
      "source": [
        "SSE_Value=[]\n",
        "number_of_cluster=[]\n",
        "for i in range(1,42):\n",
        "  number_of_cluster.append(i)\n",
        "  a=0\n",
        "  cluster = AgglomerativeClustering(n_clusters=i, affinity='euclidean', linkage='ward')  \n",
        "  cluster_level=cluster.fit_predict(data_scaled)\n",
        "\n",
        "  data=pd.DataFrame(df).join(pd.DataFrame(cluster_level,columns=['Cluster_level']))\n",
        "\n",
        "  for j in data['Cluster_level'].unique():\n",
        "    a=a+SSE(data,j)\n",
        "  SSE_Value.append(a)\n"
      ],
      "metadata": {
        "id": "MC8vkCmIC4_d"
      },
      "execution_count": null,
      "outputs": []
    },
    {
      "cell_type": "code",
      "source": [
        "diff=[] # 'diff' is the list of difference of SSE_vzalue of two groups\n",
        "for i in range(len(SSE_Value)-1):\n",
        "  diff.append(SSE_Value[i]-SSE_Value[i+1])\n",
        "k=diff.index(max(diff))   \n",
        "''' \n",
        "'k' is index of the maximum element of the list 'diff'.\n",
        "So, i the element of the 'diff' is the difference of SSE value between the i+1 and i+2 clusters.\n",
        "optimum no of cluster is k+2 where difference of SSE value between k+1 and k+2 is maximum.\n",
        "'''\n",
        "print('Difference of SSE value between ', k+1,' and ',k+2,' is maximum.')\n",
        "print('optimum no of cluster is ',k+2)"
      ],
      "metadata": {
        "id": "J-tzap2ErxPq",
        "colab": {
          "base_uri": "https://localhost:8080/"
        },
        "outputId": "b3e42bc5-9347-4471-df06-3604e7d17479"
      },
      "execution_count": null,
      "outputs": [
        {
          "output_type": "stream",
          "name": "stdout",
          "text": [
            "Difference of SSE value between  1  and  2  is maximum.\n",
            "optimum no of cluster is  2\n"
          ]
        }
      ]
    },
    {
      "cell_type": "code",
      "source": [
        "## Selecting 4 cluster \n",
        "\n",
        "plt.figure(figsize=(10, 7))  \n",
        "plt.plot(number_of_cluster,SSE_Value)\n",
        "plt.ylabel('SSE_value')\n",
        "plt.xlabel('Number of Cluster')\n",
        "plt.title('Selecting Number of Cluster')"
      ],
      "metadata": {
        "id": "BXc3GUlHDvAp",
        "colab": {
          "base_uri": "https://localhost:8080/",
          "height": 476
        },
        "outputId": "b93b2338-354d-44ce-8dfa-25051f7b8ebd"
      },
      "execution_count": null,
      "outputs": [
        {
          "output_type": "execute_result",
          "data": {
            "text/plain": [
              "Text(0.5, 1.0, 'Selecting Number of Cluster')"
            ]
          },
          "metadata": {},
          "execution_count": 56
        },
        {
          "output_type": "display_data",
          "data": {
            "image/png": "[encoded data removed]",
            "text/plain": [
              "<Figure size 720x504 with 1 Axes>"
            ]
          },
          "metadata": {
            "needs_background": "light"
          }
        }
      ]
    },
    {
      "cell_type": "code",
      "source": [
        ""
      ],
      "metadata": {
        "id": "Hwcw9SLPrwVP"
      },
      "execution_count": null,
      "outputs": []
    },
    {
      "cell_type": "code",
      "source": [
        "##partitioning methods\n",
        "import numpy as np\n",
        "import pandas as pd\n",
        "import statsmodels.api as sm\n",
        "import matplotlib.pyplot as plt\n",
        "import seaborn as sns\n",
        "sns.set()\n",
        "from sklearn.cluster import KMeans"
      ],
      "metadata": {
        "id": "rOSgql9MpFJB"
      },
      "execution_count": null,
      "outputs": []
    },
    {
      "cell_type": "code",
      "source": [
        "wcss=[]\n",
        "for i in range(1,40):\n",
        "  kmeans = KMeans(i)\n",
        "  kmeans.fit(df.iloc[:,1:])\n",
        "  wcss_iter = kmeans.inertia_\n",
        "  wcss.append(wcss_iter)\n",
        "\n",
        "number_clusters = range(1,40)\n",
        "plt.plot(number_clusters,wcss)\n",
        "plt.title('The Elbow ')\n",
        "plt.xlabel('Number of clusters')\n",
        "plt.ylabel('WCSS')"
      ],
      "metadata": {
        "id": "enF-XkpxuBp0",
        "colab": {
          "base_uri": "https://localhost:8080/",
          "height": 320
        },
        "outputId": "d8f248a9-9591-4c54-ab76-e42a92481ca1"
      },
      "execution_count": null,
      "outputs": [
        {
          "output_type": "execute_result",
          "data": {
            "text/plain": [
              "Text(0, 0.5, 'WCSS')"
            ]
          },
          "metadata": {},
          "execution_count": 68
        },
        {
          "output_type": "display_data",
          "data": {
            "image/png": "[encoded data removed]",
            "text/plain": [
              "<Figure size 432x288 with 1 Axes>"
            ]
          },
          "metadata": {}
        }
      ]
    },
    {
      "cell_type": "code",
      "source": [
        "#  selecting 20 cluster "
      ],
      "metadata": {
        "id": "dYRIX-NOuFyB"
      },
      "execution_count": null,
      "outputs": []
    },
    {
      "cell_type": "code",
      "source": [
        ""
      ],
      "metadata": {
        "id": "rdft3iPQQ26X"
      },
      "execution_count": null,
      "outputs": []
    }
  ]
}